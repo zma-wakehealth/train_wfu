{
 "cells": [
  {
   "cell_type": "code",
   "execution_count": 9,
   "metadata": {},
   "outputs": [],
   "source": [
    "import cx_Oracle\n",
    "from sqlalchemy.engine import create_engine\n",
    "from dotenv import load_dotenv\n",
    "import os\n",
    "from urllib.parse import quote_plus\n",
    "import pandas as pd\n",
    "import json\n",
    "from datetime import datetime\n",
    "import torch"
   ]
  },
  {
   "cell_type": "code",
   "execution_count": 2,
   "metadata": {},
   "outputs": [],
   "source": [
    "cx_Oracle.init_oracle_client(lib_dir=r\"C:\\Users\\zhma\\instantclient_21_14\")\n",
    "load_dotenv(verbose=True, override=True)\n",
    "engine = create_engine(f\"oracle+cx_oracle://{os.getenv('I2B2STAGE_USERNAME')}:{quote_plus(os.getenv('I2B2STAGE_PASSWORD'))}@{os.getenv('I2B2STAGE_HOST')}/?service_name={os.getenv('I2B2STAGE_DATABASE')}\")"
   ]
  },
  {
   "cell_type": "code",
   "execution_count": 3,
   "metadata": {},
   "outputs": [
    {
     "name": "stdout",
     "output_type": "stream",
     "text": [
      "2024-08-23 08:32:21.789132\n",
      "2024-08-23 08:33:01.804616\n"
     ]
    }
   ],
   "source": [
    "sql_string = '''\n",
    "SELECT\n",
    "    \"A1\".\"NOTE_ID\"           \"NOTE_ID\",\n",
    "    \"A1\".\"NOTE_CSN_ID\"       \"NOTE_CSN_ID\",\n",
    "    \"A1\".\"PAT_MRN_ID\"        \"PAT_MRN_ID\",\n",
    "    \"A1\".\"PAT_ENC_CSN_ID\"    \"PAT_ENC_CSN_ID\",\n",
    "    \"A1\".\"ENCOUNTER_NUM\"     \"ENCOUNTER_NUM\",\n",
    "    \"A1\".\"EFFECTIVE_DATE_DT\" \"EFFECTIVE_DATE_DT\",\n",
    "    \"A1\".\"MIST_PROCESSED\"    \"MIST_PROCESSED\",\n",
    "    \"A1\".\"ENCOUNTER_TYPE\"    \"ENCOUNTER_TYPE\",\n",
    "    \"A1\".\"NOTE_TYPE\"         \"NOTE_TYPE\",\n",
    "    \"A1\".\"VISIT_TYPE\"        \"VISIT_TYPE\",\n",
    "    \"A1\".\"SPECIALTY\"         \"SPECIALTY\",\n",
    "    \"A1\".\"IMPORT_DATE\"       \"IMPORT_DATE\",\n",
    "    \"A1\".\"NOTE_STATUS\"       \"NOTE_STATUS\",\n",
    "    \"A1\".\"SEX\"               \"SEX\",\n",
    "    \"A1\".\"ETHNICITY\"         \"ETHNICITY\",\n",
    "    \"A1\".\"RACE\"              \"RACE\",\n",
    "    \"A1\".\"UPDATE_DATE\"       \"UPDATE_DATE\"\n",
    "FROM\n",
    "    \"I2B2STAGE\".\"TEMP_PROGRESS_MIST_PROCESSED\" \"A1\"\n",
    "WHERE\n",
    "    ROWNUM < 10000\n",
    "'''\n",
    "print(datetime.now())\n",
    "dat = pd.read_sql(sql_string, con=engine)\n",
    "print(datetime.now())"
   ]
  },
  {
   "cell_type": "code",
   "execution_count": 4,
   "metadata": {},
   "outputs": [
    {
     "data": {
      "text/plain": [
       "Index(['note_id', 'note_csn_id', 'pat_mrn_id', 'pat_enc_csn_id',\n",
       "       'encounter_num', 'effective_date_dt', 'mist_processed',\n",
       "       'encounter_type', 'note_type', 'visit_type', 'specialty', 'import_date',\n",
       "       'note_status', 'sex', 'ethnicity', 'race', 'update_date'],\n",
       "      dtype='object')"
      ]
     },
     "execution_count": 4,
     "metadata": {},
     "output_type": "execute_result"
    }
   ],
   "source": [
    "#dat.columns"
   ]
  },
  {
   "cell_type": "code",
   "execution_count": 5,
   "metadata": {},
   "outputs": [],
   "source": [
    "#all_texts = [json.loads(x)['signal'] for x in dat['mist_processed']]"
   ]
  },
  {
   "cell_type": "code",
   "execution_count": 4,
   "metadata": {},
   "outputs": [],
   "source": [
    "with open('actual_note_test.txt', 'r') as fid:\n",
    "    lines = fid.readline()\n",
    "    all_texts = lines.split('---')"
   ]
  },
  {
   "cell_type": "code",
   "execution_count": 5,
   "metadata": {},
   "outputs": [
    {
     "name": "stderr",
     "output_type": "stream",
     "text": [
      "c:\\Users\\zhma\\Projects\\.nlp\\Lib\\site-packages\\tqdm\\auto.py:21: TqdmWarning: IProgress not found. Please update jupyter and ipywidgets. See https://ipywidgets.readthedocs.io/en/stable/user_install.html\n",
      "  from .autonotebook import tqdm as notebook_tqdm\n"
     ]
    }
   ],
   "source": [
    "from transformers import AutoTokenizer\n",
    "from transformers import AutoModelForTokenClassification\n",
    "# from optimum.onnxruntime import ORTModelForTokenClassification\n",
    "from transformers import TokenClassificationPipeline"
   ]
  },
  {
   "cell_type": "code",
   "execution_count": 12,
   "metadata": {},
   "outputs": [],
   "source": [
    "wfumodel = './checkpoint-8600'  # full model\n",
    "# wfumodel = './checkpoint-9360'  # bio distill model\n",
    "tokenizer = AutoTokenizer.from_pretrained(wfumodel)\n",
    "tokenizer.model_max_length = 128\n",
    "model = AutoModelForTokenClassification.from_pretrained(wfumodel)\n",
    "model.eval()\n",
    "# model = ORTModelForTokenClassification.from_pretrained(wfumodel, export=True, use_io_binding=False)\n",
    "clf = TokenClassificationPipeline(model=model, tokenizer=tokenizer, device=0)"
   ]
  },
  {
   "cell_type": "code",
   "execution_count": 10,
   "metadata": {},
   "outputs": [
    {
     "name": "stdout",
     "output_type": "stream",
     "text": [
      "2024-08-23 08:35:59.038116\n",
      "2024-08-23 08:47:45.796830\n"
     ]
    }
   ],
   "source": [
    "# this is done using biodistillbert huggingface\n",
    "print(datetime.now())\n",
    "with torch.no_grad():\n",
    "    results = clf(all_texts, stride=16, ignore_labels=['NORMAL'], aggregation_strategy='max', batch_size=16)\n",
    "print(datetime.now())"
   ]
  },
  {
   "cell_type": "code",
   "execution_count": 14,
   "metadata": {},
   "outputs": [
    {
     "data": {
      "text/plain": [
       "([{'entity_group': 'DATE',\n",
       "   'score': 0.70071924,\n",
       "   'word': '2015',\n",
       "   'start': 48,\n",
       "   'end': 52},\n",
       "  {'entity_group': 'NAME',\n",
       "   'score': 0.9998247,\n",
       "   'word': 'darly wayne reams',\n",
       "   'start': 64,\n",
       "   'end': 81},\n",
       "  {'entity_group': 'AGE',\n",
       "   'score': 0.99986506,\n",
       "   'word': '45',\n",
       "   'start': 87,\n",
       "   'end': 89},\n",
       "  {'entity_group': 'DATE',\n",
       "   'score': 0.9998001,\n",
       "   'word': '2 / 7 / 2015',\n",
       "   'start': 236,\n",
       "   'end': 244},\n",
       "  {'entity_group': 'DATE',\n",
       "   'score': 0.9982918,\n",
       "   'word': '02 / 07',\n",
       "   'start': 711,\n",
       "   'end': 716},\n",
       "  {'entity_group': 'DATE',\n",
       "   'score': 0.99931973,\n",
       "   'word': '02 / 10',\n",
       "   'start': 946,\n",
       "   'end': 951},\n",
       "  {'entity_group': 'DATE',\n",
       "   'score': 0.9993364,\n",
       "   'word': '02 / 10',\n",
       "   'start': 1167,\n",
       "   'end': 1172},\n",
       "  {'entity_group': 'DATE',\n",
       "   'score': 0.9990163,\n",
       "   'word': '03 / 08',\n",
       "   'start': 1349,\n",
       "   'end': 1354},\n",
       "  {'entity_group': 'DATE',\n",
       "   'score': 0.9992836,\n",
       "   'word': '02 / 27',\n",
       "   'start': 1384,\n",
       "   'end': 1389},\n",
       "  {'entity_group': 'DATE',\n",
       "   'score': 0.9995716,\n",
       "   'word': '02 / 27',\n",
       "   'start': 1421,\n",
       "   'end': 1426},\n",
       "  {'entity_group': 'DATE',\n",
       "   'score': 0.9992921,\n",
       "   'word': '02 / 11',\n",
       "   'start': 1532,\n",
       "   'end': 1537},\n",
       "  {'entity_group': 'DATE',\n",
       "   'score': 0.9991823,\n",
       "   'word': '02 / 17',\n",
       "   'start': 1619,\n",
       "   'end': 1624},\n",
       "  {'entity_group': 'DATE',\n",
       "   'score': 0.9996065,\n",
       "   'word': '( 02 / 16',\n",
       "   'start': 1827,\n",
       "   'end': 1833},\n",
       "  {'entity_group': 'NAME',\n",
       "   'score': 0.9996525,\n",
       "   'word': 'wilson',\n",
       "   'start': 1844,\n",
       "   'end': 1850},\n",
       "  {'entity_group': 'NAME',\n",
       "   'score': 0.99968874,\n",
       "   'word': 'carolyn davis',\n",
       "   'start': 3049,\n",
       "   'end': 3062},\n",
       "  {'entity_group': 'PHONE',\n",
       "   'score': 0.99793553,\n",
       "   'word': '( 704 ) 360 - 4564',\n",
       "   'start': 3071,\n",
       "   'end': 3084},\n",
       "  {'entity_group': 'PHONE',\n",
       "   'score': 0.9966766,\n",
       "   'word': '( 704 ) 360 - 4553',\n",
       "   'start': 3095,\n",
       "   'end': 3108},\n",
       "  {'entity_group': 'DATE',\n",
       "   'score': 0.9998027,\n",
       "   'word': '3 / 2 / 2015',\n",
       "   'start': 4396,\n",
       "   'end': 4404},\n",
       "  {'entity_group': 'DATE',\n",
       "   'score': 0.9997932,\n",
       "   'word': '3 / 2 / 2015',\n",
       "   'start': 4415,\n",
       "   'end': 4423},\n",
       "  {'entity_group': 'DATE',\n",
       "   'score': 0.99977523,\n",
       "   'word': '3 / 2 / 2015',\n",
       "   'start': 4433,\n",
       "   'end': 4441},\n",
       "  {'entity_group': 'DATE',\n",
       "   'score': 0.9996974,\n",
       "   'word': '3 / 2 / 2015',\n",
       "   'start': 4450,\n",
       "   'end': 4458},\n",
       "  {'entity_group': 'DATE',\n",
       "   'score': 0.9997619,\n",
       "   'word': '3 / 2 / 2015',\n",
       "   'start': 4468,\n",
       "   'end': 4476},\n",
       "  {'entity_group': 'DATE',\n",
       "   'score': 0.9997716,\n",
       "   'word': '3 / 2 / 2015',\n",
       "   'start': 4486,\n",
       "   'end': 4494},\n",
       "  {'entity_group': 'DATE',\n",
       "   'score': 0.99972737,\n",
       "   'word': '3 / 2 / 2015',\n",
       "   'start': 4543,\n",
       "   'end': 4551},\n",
       "  {'entity_group': 'DATE',\n",
       "   'score': 0.99970615,\n",
       "   'word': '3 / 2 / 2015',\n",
       "   'start': 4563,\n",
       "   'end': 4571},\n",
       "  {'entity_group': 'DATE',\n",
       "   'score': 0.99974984,\n",
       "   'word': '3 / 2 / 2015',\n",
       "   'start': 4584,\n",
       "   'end': 4592},\n",
       "  {'entity_group': 'DATE',\n",
       "   'score': 0.999759,\n",
       "   'word': '3 / 2 / 2015',\n",
       "   'start': 4604,\n",
       "   'end': 4612},\n",
       "  {'entity_group': 'DATE',\n",
       "   'score': 0.9997655,\n",
       "   'word': '3 / 2 / 2015',\n",
       "   'start': 4624,\n",
       "   'end': 4632},\n",
       "  {'entity_group': 'DATE',\n",
       "   'score': 0.9997862,\n",
       "   'word': '2 / 7 / 2015',\n",
       "   'start': 4680,\n",
       "   'end': 4688},\n",
       "  {'entity_group': 'DATE',\n",
       "   'score': 0.9998044,\n",
       "   'word': '2 / 12 / 2015',\n",
       "   'start': 4736,\n",
       "   'end': 4745},\n",
       "  {'entity_group': 'DATE',\n",
       "   'score': 0.9998003,\n",
       "   'word': '2 / 7 / 2015',\n",
       "   'start': 4757,\n",
       "   'end': 4765},\n",
       "  {'entity_group': 'DATE',\n",
       "   'score': 0.9991887,\n",
       "   'word': '03 / 08',\n",
       "   'start': 9437,\n",
       "   'end': 9442},\n",
       "  {'entity_group': 'DATE',\n",
       "   'score': 0.99957293,\n",
       "   'word': '02 / 27',\n",
       "   'start': 9473,\n",
       "   'end': 9478},\n",
       "  {'entity_group': 'DATE',\n",
       "   'score': 0.99949837,\n",
       "   'word': '02 / 27',\n",
       "   'start': 9508,\n",
       "   'end': 9513},\n",
       "  {'entity_group': 'DATE',\n",
       "   'score': 0.8925206,\n",
       "   'word': '2 / 23 -',\n",
       "   'start': 9575,\n",
       "   'end': 9581},\n",
       "  {'entity_group': 'DATE',\n",
       "   'score': 0.99712664,\n",
       "   'word': '2 / 24',\n",
       "   'start': 9669,\n",
       "   'end': 9673},\n",
       "  {'entity_group': 'DATE',\n",
       "   'score': 0.99657136,\n",
       "   'word': '2 / 25',\n",
       "   'start': 9774,\n",
       "   'end': 9778},\n",
       "  {'entity_group': 'DATE',\n",
       "   'score': 0.9352719,\n",
       "   'word': '2 / 27 -',\n",
       "   'start': 9847,\n",
       "   'end': 9853},\n",
       "  {'entity_group': 'DATE',\n",
       "   'score': 0.739835,\n",
       "   'word': '3 / 2',\n",
       "   'start': 9943,\n",
       "   'end': 9946},\n",
       "  {'entity_group': 'DATE',\n",
       "   'score': 0.9987505,\n",
       "   'word': '3 / 8',\n",
       "   'start': 10109,\n",
       "   'end': 10112},\n",
       "  {'entity_group': 'DATE',\n",
       "   'score': 0.99775887,\n",
       "   'word': '03 / 08',\n",
       "   'start': 10168,\n",
       "   'end': 10173},\n",
       "  {'entity_group': 'DATE',\n",
       "   'score': 0.99914217,\n",
       "   'word': '02 / 27',\n",
       "   'start': 10204,\n",
       "   'end': 10209},\n",
       "  {'entity_group': 'DATE',\n",
       "   'score': 0.99934477,\n",
       "   'word': '02 / 27',\n",
       "   'start': 10239,\n",
       "   'end': 10244},\n",
       "  {'entity_group': 'DATE',\n",
       "   'score': 0.99934334,\n",
       "   'word': '2 / 26',\n",
       "   'start': 11062,\n",
       "   'end': 11066},\n",
       "  {'entity_group': 'DATE',\n",
       "   'score': 0.9956567,\n",
       "   'word': '2 / 27 -',\n",
       "   'start': 11178,\n",
       "   'end': 11184},\n",
       "  {'entity_group': 'DATE',\n",
       "   'score': 0.99856573,\n",
       "   'word': '3 / 2',\n",
       "   'start': 11303,\n",
       "   'end': 11306},\n",
       "  {'entity_group': 'DATE',\n",
       "   'score': 0.98708206,\n",
       "   'word': '2 / 26 -',\n",
       "   'start': 11655,\n",
       "   'end': 11661},\n",
       "  {'entity_group': 'DATE',\n",
       "   'score': 0.97751886,\n",
       "   'word': '2 / 27 -',\n",
       "   'start': 11729,\n",
       "   'end': 11735},\n",
       "  {'entity_group': 'DATE',\n",
       "   'score': 0.99480027,\n",
       "   'word': '3 / 2',\n",
       "   'start': 11764,\n",
       "   'end': 11767},\n",
       "  {'entity_group': 'DATE',\n",
       "   'score': 0.9996961,\n",
       "   'word': '2 / 23',\n",
       "   'start': 12531,\n",
       "   'end': 12535},\n",
       "  {'entity_group': 'DATE',\n",
       "   'score': 0.999675,\n",
       "   'word': '2 / 34',\n",
       "   'start': 12625,\n",
       "   'end': 12629},\n",
       "  {'entity_group': 'NAME',\n",
       "   'score': 0.9997031,\n",
       "   'word': 'sara',\n",
       "   'start': 12654,\n",
       "   'end': 12658},\n",
       "  {'entity_group': 'NAME',\n",
       "   'score': 0.999659,\n",
       "   'word': 'carolyn davis',\n",
       "   'start': 12680,\n",
       "   'end': 12693},\n",
       "  {'entity_group': 'DATE',\n",
       "   'score': 0.9230316,\n",
       "   'word': '3 / 2 -',\n",
       "   'start': 12933,\n",
       "   'end': 12938},\n",
       "  {'entity_group': 'HOSPITAL',\n",
       "   'score': 0.937473,\n",
       "   'word': 'carolina pain and',\n",
       "   'start': 12953,\n",
       "   'end': 12970},\n",
       "  {'entity_group': 'HOSPITAL',\n",
       "   'score': 0.62896156,\n",
       "   'word': 'management',\n",
       "   'start': 12978,\n",
       "   'end': 12988},\n",
       "  {'entity_group': 'DATE',\n",
       "   'score': 0.9960159,\n",
       "   'word': '3 / 3 / 2015 @ 2pm',\n",
       "   'start': 13003,\n",
       "   'end': 13017},\n",
       "  {'entity_group': 'DATE',\n",
       "   'score': 0.8805159,\n",
       "   'word': '2 / 24 -',\n",
       "   'start': 13096,\n",
       "   'end': 13102},\n",
       "  {'entity_group': 'DATE',\n",
       "   'score': 0.99873275,\n",
       "   'word': '2 / 24',\n",
       "   'start': 13226,\n",
       "   'end': 13230},\n",
       "  {'entity_group': 'DATE',\n",
       "   'score': 0.99895746,\n",
       "   'word': '2 / 25',\n",
       "   'start': 13294,\n",
       "   'end': 13298},\n",
       "  {'entity_group': 'DATE',\n",
       "   'score': 0.9982584,\n",
       "   'word': '2 / 24',\n",
       "   'start': 13487,\n",
       "   'end': 13491},\n",
       "  {'entity_group': 'DATE',\n",
       "   'score': 0.9989738,\n",
       "   'word': '2 / 24',\n",
       "   'start': 13578,\n",
       "   'end': 13582},\n",
       "  {'entity_group': 'DATE',\n",
       "   'score': 0.9994975,\n",
       "   'word': '2 / 24',\n",
       "   'start': 13639,\n",
       "   'end': 13643},\n",
       "  {'entity_group': 'DATE',\n",
       "   'score': 0.99984807,\n",
       "   'word': '2 / 24 / 2015',\n",
       "   'start': 13949,\n",
       "   'end': 13958},\n",
       "  {'entity_group': 'NAME',\n",
       "   'score': 0.99983865,\n",
       "   'word': 'nancy ashley white',\n",
       "   'start': 14086,\n",
       "   'end': 14104},\n",
       "  {'entity_group': 'DATE',\n",
       "   'score': 0.9998176,\n",
       "   'word': '3 / 2 / 2015 1 : 10 pm',\n",
       "   'start': 14111,\n",
       "   'end': 14127},\n",
       "  {'entity_group': 'NAME',\n",
       "   'score': 0.9998307,\n",
       "   'word': 'lovorn',\n",
       "   'start': 14160,\n",
       "   'end': 14166}],\n",
       " 'Rehabilitation Progress Note  LOS: 10 days  3/2/2015  Synopsis: Darly Wayne Reams is a 45 y.o. male admitted with Impaired Mobility. PMH significant for COPD, Crohn&apos;s disease, chronic back pain, and 3PPD smoker. Presented to ED on 2/7/2015 after a fall 4 days earlier. Patient states he had been using a cane and walker for ambulation due to chronic back pain and fell backwards and was unable to move because of pain. States he was unable to walk after the fall. In ED patient was found to be tachycardic with oxygen sats of 93% on RA. Labs were significant for leukocytosis. CXR showed diffuse interstitial and patchy airspace opacities concerning for multifocal pneumonia. Initial blood cultures (drawn 02/07) grew MRSA (discussed below) and due to concomitant back pain and an L1 fracture (discussed below), an MRI of his spine was ordered to rule out osteomyelitis. The MRI was negative for any osteomyelitis. A CT scan of his chest on 02/10 was obtained and showed a right pleural effusion with areas of loculation. CT surgery was consulted and felt he did not need acute intervention at that time. They recommended outpatient follow up in 4-6 weeks (from 02/10). Patient was initially treated with broad spectrum antibiotics that were refined as cultures returned. His antibiotic regimen was refined to intravenous Vancomycin (end date: 03/08), oral Clindamycin (end date:02/27) and oral Cefuroxime (end date:02/27).  The patient showed gradual improvement in his respiratory status, being weaned off supplemental O2 on 02/11. His leukocytosis also saw gradual improvement. A repeat CT scan of his chest on 02/17 showed resolution of his pleural effusions and improving multifocal pneumonia. Additional ED XR showed displaced left femoral neck fracture. Patient was taken to the OR for left hip hemiarthroplasty on (02/16) with Dr. Wilson. XR also showed acute L1 fracture. Neurosurgery was consulted and did not feel that patient  needed surgical intervention at this time and patient was placed in a TLSO and will f/u as an outpatient. Pain management was consulted due to difficulty achieving pain control and their recommendations are listed. Patient received therapy while in acute, however deficits persisted. Deficits are: Pain;Decreased strength;Impaired ADLs;Impaired balance;Impaired activity tolerance;Impaired functional mobility;Impaired bed mobility;Impaired ability to transfer (&lt; ambulation). Patient will now be admitted for inpatient rehab for intensive therapy and continuation of medical care.   Subjective:   Interval History: Patient seen in room sitting up in wheelchair getting ready to start ADLs with OT.  States he continues to have his same pain.  Denies any new events over the weekend.  Wants to make sure that he has pain medication when he is discharged tomorrow.  States ortho did come up and look at his wound and change the Aquacel dressing yesterday but did not remove any sutures.    Nursing noted over the weekend that patient removed his TLSO for a shower.    Patient reports pain management is Carolyn Davis, FNP-BC (704)360-4564 phone and (704)360-4553 fax    Review of Systems Denies any headache, chest pain, abdominal pain, nausea, vomiting, diarrhea, constipation.  Admits to left knee pain.    Objective:  Physical Examination BP 102/54  Pulse 88  Temp(Src) 97.6 F (36.4 C) (Oral)  Resp 18  Ht 1.829 m (6&apos;)  Wt 97.523 kg (215 lb)  BMI 29.15 kg/m2  SpO2 98%  Physical Exam: General Appearance:  Alert, oriented X 3, no apparent distress.  Patient seen sitting up in wheelchair in room  HEENT:  EOMI, pupils equal, round and reactive to light   Neck:  Supple, no masses noted   Lungs:  Clear to auscultation bilaterally, no wheezes or rhonchi.   Cardiac:  Regular rate and rhythm, s1, s2, no murmurs   Abdomen:  Abdomen nondistended    GU/Rectal:  deferred, not clinically indicated   Extremities:  No  edema or cyanosis. Warm and well-perfused.     Neuro:  cranial nerves II - XII grossly intact;    Musculoskeletal:  Moving all extremities against gravity with no issues  Back:  No obvious deformity noted and wearing TLSO   Psych:  Alert and oriented to person, place, and time with an appropriate mood and affect.   Skin:  no rashes, lesions, or ulcerations; no subcutaneous nodules or induration.  Post op wound not visualized today.   Other:  No sacral ulcer noted.    Labs Lab Results  Component Value Date   CREATININE 0.63 3/2/2015   BUN 27* 3/2/2015   NA 137 3/2/2015   K 4.2 3/2/2015   CL 104 3/2/2015   CO2 28 3/2/2015   Lab Results  Component Value Date   WBC 11.8* 3/2/2015   HGB 7.4* 3/2/2015   HCT 23.2* 3/2/2015   MCV 89.7 3/2/2015   PLT 521* 3/2/2015   Lab Results  Component Value Date   PTT 21.4 2/7/2015   Lab Results  Component Value Date   INR 0.97 2/12/2015   INR 0.98 2/7/2015   Scheduled Medications:  acetaminophen  1,000 mg Oral Q8H   ALPRAZolam  2 mg Oral BID   diclofenac   Topical BID   gabapentin  600 mg Oral TID   magnesium oxide  800 mg Oral Q12H   nicotine  1 patch Transdermal Daily@0900   nystatin   Topical BID   oxymorphone  20 mg Oral BID   pantoprazole  40 mg Oral Daily@0900   predniSONE  20 mg Oral Daily@0900   rivaroxaban  10 mg Oral Daily@0800   traMADol  50 mg Oral BID   vancomycin  1.5 g Intravenous Q12H   FIM Scores per PT/OT/Nursing: Category Category: Ongoing Self Care Eating: Modified Independent:Needs extra time,assistive device(rocker knife,dentures,extra long straw,universal cuff, etc),special consistency diet(mechanical soft,pureed,thickened liquids),Pt can do all aspects of tube feeding,prepares own thickened liquids Grooming: Modified Independence: no helper, requires extra time, assistive device or orthosis, safety concerns Bathing: Activity does not occur: unsafe, contraindicated, Patient refused Dressing  Upper Body: Moderate Assistance: patient completes 50-74% of tasks Dressing Lower Body: Moderate Assistance: patient completes 50-74% of tasks Toileting: Modified Independence: requires an assistive device (e.g. toilet aide, grab bar, prosthesis, orthosis), extra time, safety concerns Sphincter Control Bladder - Level of Assistance: Modified Independent: no helper, need devices (catheter, urostomy, pads, diaper/brief, bladder meds)no clothing is wet or soiled and devices are changed independently by the patient Bladder Accidents: No Accidents, continent Bowel - Level of Assistance: Modified Independent: needs device (ostomy/diaper/bowel meds) does own bowel care (dig stimulation, suppository), bowel incontinence caught by diaper/brief, and diaper/brief is changed by Pt Transfers Bed Transfer: Supervision: (standby, cues or coaxing), set-up: helper applies orthosis/prothesis, positions sliding board, prepares wheelchair, helper needed but no touching Toilet Transfer: Supervision: (standby, cues or coaxing), set-up: helper applies orthosis/prothesis, positions sliding board, prepares wheelchair Tub/Shower Transfer: Activity Does Not Occur, unsafe, contraindicated, patient refuses Locomotion Walk: Total Assist: Pt does less than 25% effort, or walks &lt; 50&apos;, may require two person assist, constant assist may be needed for one-side neglect, avoidance of obstacles, general safety Communication Comprehension: Modified Independence: understands complex or abstract directions and communication without prompting with only mild difficulty, device (auditory- hearing aid or visual-eye glasses), extra time may be needed Expression: Modified Independence: extra time, complex or abstract expression with only mild difficulty, device (communication board) Social Cognition Social Interaction: Modified Independence: may require meds around the clock or as needed Problem Solving: Modified independence: extra time needed  or only has mild difficulty, can manage med administration, bank account, participates in discharge plans Memory: Modified independence: Pt uses memory book to remember the daily routine, mild difficulty recognizing, remembering, executing requests  Assessment/Plan:   Admitted for comprehensive inpatient rehabilitation including PT, OT, RT and supportive services to improve functional outcome of impaired mobility, ADL&apos;s, transfers, and self-care.  Rehab physician: Manage complex medical conditions (as above) and coordinate Nursing and Allied Health for a minimum of 3 hours per day, 5 days per week to improve functional outcomes as noted below.  - Rehab RN: Administer patient&apos;s medications and instruct patient on medication usage and schedule. Monitor patient&apos;s vital signs and pain levels. Ensure patient safety and provide therapy carryover. Help with positioning of patient and monitor for surgical wound, skin integrity and signs of breakdown. Help with bowel and bladder management and education.  - PT: Design and implement an exercise program focusing on positioning, ROM exercises, mobilization, compensatory techniques, and endurance training. Emphasis on improving functional recovery, coordination, basic movements, and postures. Emphasis on improving ambulation, balance, mobility and transfers.  - OT: Emphasis on training in activities of daily living - feeding, grooming, bathing, dressing as well as tub/toilet transfers.  -SLP: Evaluate patient for memory/cognition and develop plan to assist with daily ADLs and mobility.   Impaired Mobility:  PT/OT to perform initial evaluation and maximize functional capacity as above.   Community-Acquired Multifocal Bacterial Pneumonia:  Continue IV Vancomycin (end date: 03/08), Oral Clindamycin (end date: 02/27), Oral Cefuroxime (end date: 02/27)  Discharge from Acute WBC 12.9.  Will continue to monitor.  2/23 - Vanc was decreased over the weekend secondary to  trough and will continue to monitor. 2/24 - Pharmacy continuing to monitor Vanc.  WBC increased to 13.3.  Patient asymptomatic and no fevers. 2/25 - Vanc level within range today and pharmacy recs to check weekly.  2/27 - Oral ABX will complete today.  All lab work normal.  Will re-check Vanc level next week  3/2 - Vanc trough was not drawn this AM as ordered.  Will discuss with Pharmacy.  Patient will receive home health to conitnue to draw labs and administer Vanc until 3/8    MRSA Bacteremia:  Continue IV Vancomycin (end date: 03/08), Oral Clindamycin (end date: 02/27), Oral Cefuroxime (end date: 02/27)  Discharge from Acute WBC 12.9.  Routine vanc troughs should be monitored in this patient to maintain a therapeutic level between 15-20.  Will continue to monitor.  S/P Left Hip Hemiarthroplasty for Left Hip Fracture:  Weight Bearing Restrictions: Left lower extremity and pelvis No Restrictions, can bear weight as tolerated  Therapy Instructions:  Hip Precautions: Posterior - Don&apos;t bend hip past 90 degrees, don&apos;t cross legs, don&apos;t rotate hip inwards  Range of motion restrictions: No restrictions if no splint or cast  Brace instructions: No brace needed  Wound Care Instructions:  Shower- Do not shower until sutures/staples removed  Dressing - Do not remove dressing  DVT (Blood clot) Prophylaxis: Recommend lovenox 40 mg daily for 6 weeks at discharge  Follow-Up: Orthopaedic Oncology 2 weeks  2/26 - Nursing reports having to reinforce Aquacel dressing last night.  No drainage or erythema noted.  No fevers. 2/27 - Reinforced new Aquacel dressing with ABD pad and paper tape.  Continued serous drainage.  No erythema, fevers or WCT. 3/2 - Patient reports Ortho came by this weekend and changed dressing but did not remove any sutures.  No note in system.  Chronic Back Pain with Acute L1 Vertebral Fracture:  No acute neurosurgical intervention is necessary at this time.  Continue TLSO when HOB &gt;  30 degrees  Uprights reviewed as adequate  NSU will schedule follow up in 4 weeks  2/26 - TLSO rubbing at right axilla.  PT to call and have brace adjusted. 2/27 - Brace fitting much better.  3/2 - Must continue to wear brace with HOB &gt; 30deg  Chronic Pain:  Recommendations per Acute Pain Management:  1. Restart his entire home medication regimen at the home doses. Most of this has already been done, but his gabapentin should be increased to 600mg po TID and tramadol 50mg po BID should be added.  2. Discontinue the duragesic 75mcg Q72h patch since he has been off of this for several months  3. Discontinue the MS Contin 15mg po BID because the patient is already receiving a long-acting opioid with the Opana ER 20mg po BID  4. Instead of restarting his home Opana IR 5mg po BID, consider starting oxycodone 15-20mg po Q4H prn moderate to severe pain and hydromorphone 0.5mg IV Q1H prn breakthrough pain  5. Consider Tylenol 1000mg po Q6H scheduled 2/23 - Will continue with current pain regimen and contact patient&apos;s pain management MD. 2/34 - Called and spoke with Sara who is the nurse for Carolyn Davis, FNP who confirmed that patient was on his home regimen for pain control with the exception of Oxycodone vs Opana IR for breakthrough pain.  She is requesting notes to be faxed to them and will call back with appropriate f/u at discharge. 3/2 - F/U appt with Carolina Pain and Weight Management confirmed for 3/3/2015 @ 2pm.  Chronic Abdominal Fistula:  Continue to keep dry and change dressing daily. 2/24 - Wound C/D/I   Increased Risk for DVT:  Xarelto while inpatient and transition to Lovenox 40mg daily x 6 weeks at discharge 2/24 - Will work on insurance coverage for medication at discharge  2/25 - Insurance will cover either medication at discharge and patient request &quot;no needles&quot;  Crohn&apos;s  Continue with Home Medications:   Bladder:  Monitor for neurogenic bladder  2/24 - Reports continent  to bladder with no issues  Bowel:  Monitor for neurogenic bowel  2/24 - Reports continent to bowel with no issues  Knee Pain: 2/24 - Continues to complain of left knee pain and requesting MRI.  Prescribed Voltaren gel yesterday and discussed he will be able to f/u with Ortho as an outpatient to discuss chronic knee pain.   Prophylaxis GI: Protonix  Diet: Regular   Anticipated Discharge Destination: Home  Anticipated Discharge Date: 2/24/2015   Time spent on counseling/coordination of care: 15 minutes Total time spent on patient: 30 Minutes  Electronically signed by: Nancy Ashley White, PA-C 3/2/2015 1:10 PM This is a shared visit with Dr. Lovorn, patient examined and discussed together this morning      ')"
      ]
     },
     "execution_count": 14,
     "metadata": {},
     "output_type": "execute_result"
    }
   ],
   "source": [
    "results[5], all_texts[5]"
   ]
  },
  {
   "cell_type": "code",
   "execution_count": 19,
   "metadata": {},
   "outputs": [],
   "source": [
    "from obfuscator import Obfuscator\n",
    "from IPython.display import HTML\n",
    "\n",
    "obfuscator = Obfuscator()"
   ]
  },
  {
   "cell_type": "code",
   "execution_count": 17,
   "metadata": {},
   "outputs": [
    {
     "data": {
      "text/html": [
       "Rehabilitation Progress Note  LOS: 10 days  3/2/2015  Synopsis: Darly Wayne Reams is a 45 y.o. male admitted with Impaired Mobility. PMH significant for COPD, Crohn&apos;s disease, chronic back pain, and 3PPD smoker. Presented to ED on 2/7/2015 after a fall 4 days earlier. Patient states he had been using a cane and walker for ambulation due to chronic back pain and fell backwards and was unable to move because of pain. States he was unable to walk after the fall. In ED patient was found to be tachycardic with oxygen sats of 93% on RA. Labs were significant for leukocytosis. CXR showed diffuse interstitial and patchy airspace opacities concerning for multifocal pneumonia. Initial blood cultures (drawn 02/07) grew MRSA (discussed below) and due to concomitant back pain and an L1 fracture (discussed below), an MRI of his spine was ordered to rule out osteomyelitis. The MRI was negative for any osteomyelitis. A CT scan of his chest on 02/10 was obtained and showed a right pleural effusion with areas of loculation. CT surgery was consulted and felt he did not need acute intervention at that time. They recommended outpatient follow up in 4-6 weeks (from 02/10). Patient was initially treated with broad spectrum antibiotics that were refined as cultures returned. His antibiotic regimen was refined to intravenous Vancomycin (end date: 03/08), oral Clindamycin (end date:02/27) and oral Cefuroxime (end date:02/27).  The patient showed gradual improvement in his respiratory status, being weaned off supplemental O2 on 02/11. His leukocytosis also saw gradual improvement. A repeat CT scan of his chest on 02/17 showed resolution of his pleural effusions and improving multifocal pneumonia. Additional ED XR showed displaced left femoral neck fracture. Patient was taken to the OR for left hip hemiarthroplasty on (02/16) with Dr. Wilson. XR also showed acute L1 fracture. Neurosurgery was consulted and did not feel that patient  needed surgical intervention at this time and patient was placed in a TLSO and will f/u as an outpatient. Pain management was consulted due to difficulty achieving pain control and their recommendations are listed. Patient received therapy while in acute, however deficits persisted. Deficits are: Pain;Decreased strength;Impaired ADLs;Impaired balance;Impaired activity tolerance;Impaired functional mobility;Impaired bed mobility;Impaired ability to transfer (&lt; ambulation). Patient will now be admitted for inpatient rehab for intensive therapy and continuation of medical care.   Subjective:   Interval History: Patient seen in room sitting up in wheelchair getting ready to start ADLs with OT.  States he continues to have his same pain.  Denies any new events over the weekend.  Wants to make sure that he has pain medication when he is discharged tomorrow.  States ortho did come up and look at his wound and change the Aquacel dressing yesterday but did not remove any sutures.    Nursing noted over the weekend that patient removed his TLSO for a shower.    Patient reports pain management is Carolyn Davis, FNP-BC (704)360-4564 phone and (704)360-4553 fax    Review of Systems Denies any headache, chest pain, abdominal pain, nausea, vomiting, diarrhea, constipation.  Admits to left knee pain.    Objective:  Physical Examination BP 102/54  Pulse 88  Temp(Src) 97.6 F (36.4 C) (Oral)  Resp 18  Ht 1.829 m (6&apos;)  Wt 97.523 kg (215 lb)  BMI 29.15 kg/m2  SpO2 98%  Physical Exam: General Appearance:  Alert, oriented X 3, no apparent distress.  Patient seen sitting up in wheelchair in room  HEENT:  EOMI, pupils equal, round and reactive to light   Neck:  Supple, no masses noted   Lungs:  Clear to auscultation bilaterally, no wheezes or rhonchi.   Cardiac:  Regular rate and rhythm, s1, s2, no murmurs   Abdomen:  Abdomen nondistended    GU/Rectal:  deferred, not clinically indicated   Extremities:  No  edema or cyanosis. Warm and well-perfused.     Neuro:  cranial nerves II - XII grossly intact;    Musculoskeletal:  Moving all extremities against gravity with no issues  Back:  No obvious deformity noted and wearing TLSO   Psych:  Alert and oriented to person, place, and time with an appropriate mood and affect.   Skin:  no rashes, lesions, or ulcerations; no subcutaneous nodules or induration.  Post op wound not visualized today.   Other:  No sacral ulcer noted.    Labs Lab Results  Component Value Date   CREATININE 0.63 3/2/2015   BUN 27* 3/2/2015   NA 137 3/2/2015   K 4.2 3/2/2015   CL 104 3/2/2015   CO2 28 3/2/2015   Lab Results  Component Value Date   WBC 11.8* 3/2/2015   HGB 7.4* 3/2/2015   HCT 23.2* 3/2/2015   MCV 89.7 3/2/2015   PLT 521* 3/2/2015   Lab Results  Component Value Date   PTT 21.4 2/7/2015   Lab Results  Component Value Date   INR 0.97 2/12/2015   INR 0.98 2/7/2015   Scheduled Medications:  acetaminophen  1,000 mg Oral Q8H   ALPRAZolam  2 mg Oral BID   diclofenac   Topical BID   gabapentin  600 mg Oral TID   magnesium oxide  800 mg Oral Q12H   nicotine  1 patch Transdermal Daily@0900   nystatin   Topical BID   oxymorphone  20 mg Oral BID   pantoprazole  40 mg Oral Daily@0900   predniSONE  20 mg Oral Daily@0900   rivaroxaban  10 mg Oral Daily@0800   traMADol  50 mg Oral BID   vancomycin  1.5 g Intravenous Q12H   FIM Scores per PT/OT/Nursing: Category Category: Ongoing Self Care Eating: Modified Independent:Needs extra time,assistive device(rocker knife,dentures,extra long straw,universal cuff, etc),special consistency diet(mechanical soft,pureed,thickened liquids),Pt can do all aspects of tube feeding,prepares own thickened liquids Grooming: Modified Independence: no helper, requires extra time, assistive device or orthosis, safety concerns Bathing: Activity does not occur: unsafe, contraindicated, Patient refused Dressing  Upper Body: Moderate Assistance: patient completes 50-74% of tasks Dressing Lower Body: Moderate Assistance: patient completes 50-74% of tasks Toileting: Modified Independence: requires an assistive device (e.g. toilet aide, grab bar, prosthesis, orthosis), extra time, safety concerns Sphincter Control Bladder - Level of Assistance: Modified Independent: no helper, need devices (catheter, urostomy, pads, diaper/brief, bladder meds)no clothing is wet or soiled and devices are changed independently by the patient Bladder Accidents: No Accidents, continent Bowel - Level of Assistance: Modified Independent: needs device (ostomy/diaper/bowel meds) does own bowel care (dig stimulation, suppository), bowel incontinence caught by diaper/brief, and diaper/brief is changed by Pt Transfers Bed Transfer: Supervision: (standby, cues or coaxing), set-up: helper applies orthosis/prothesis, positions sliding board, prepares wheelchair, helper needed but no touching Toilet Transfer: Supervision: (standby, cues or coaxing), set-up: helper applies orthosis/prothesis, positions sliding board, prepares wheelchair Tub/Shower Transfer: Activity Does Not Occur, unsafe, contraindicated, patient refuses Locomotion Walk: Total Assist: Pt does less than 25% effort, or walks &lt; 50&apos;, may require two person assist, constant assist may be needed for one-side neglect, avoidance of obstacles, general safety Communication Comprehension: Modified Independence: understands complex or abstract directions and communication without prompting with only mild difficulty, device (auditory- hearing aid or visual-eye glasses), extra time may be needed Expression: Modified Independence: extra time, complex or abstract expression with only mild difficulty, device (communication board) Social Cognition Social Interaction: Modified Independence: may require meds around the clock or as needed Problem Solving: Modified independence: extra time needed  or only has mild difficulty, can manage med administration, bank account, participates in discharge plans Memory: Modified independence: Pt uses memory book to remember the daily routine, mild difficulty recognizing, remembering, executing requests  Assessment/Plan:   Admitted for comprehensive inpatient rehabilitation including PT, OT, RT and supportive services to improve functional outcome of impaired mobility, ADL&apos;s, transfers, and self-care.  Rehab physician: Manage complex medical conditions (as above) and coordinate Nursing and Allied Health for a minimum of 3 hours per day, 5 days per week to improve functional outcomes as noted below.  - Rehab RN: Administer patient&apos;s medications and instruct patient on medication usage and schedule. Monitor patient&apos;s vital signs and pain levels. Ensure patient safety and provide therapy carryover. Help with positioning of patient and monitor for surgical wound, skin integrity and signs of breakdown. Help with bowel and bladder management and education.  - PT: Design and implement an exercise program focusing on positioning, ROM exercises, mobilization, compensatory techniques, and endurance training. Emphasis on improving functional recovery, coordination, basic movements, and postures. Emphasis on improving ambulation, balance, mobility and transfers.  - OT: Emphasis on training in activities of daily living - feeding, grooming, bathing, dressing as well as tub/toilet transfers.  -SLP: Evaluate patient for memory/cognition and develop plan to assist with daily ADLs and mobility.   Impaired Mobility:  PT/OT to perform initial evaluation and maximize functional capacity as above.   Community-Acquired Multifocal Bacterial Pneumonia:  Continue IV Vancomycin (end date: 03/08), Oral Clindamycin (end date: 02/27), Oral Cefuroxime (end date: 02/27)  Discharge from Acute WBC 12.9.  Will continue to monitor.  2/23 - Vanc was decreased over the weekend secondary to  trough and will continue to monitor. 2/24 - Pharmacy continuing to monitor Vanc.  WBC increased to 13.3.  Patient asymptomatic and no fevers. 2/25 - Vanc level within range today and pharmacy recs to check weekly.  2/27 - Oral ABX will complete today.  All lab work normal.  Will re-check Vanc level next week  3/2 - Vanc trough was not drawn this AM as ordered.  Will discuss with Pharmacy.  Patient will receive home health to conitnue to draw labs and administer Vanc until 3/8    MRSA Bacteremia:  Continue IV Vancomycin (end date: 03/08), Oral Clindamycin (end date: 02/27), Oral Cefuroxime (end date: 02/27)  Discharge from Acute WBC 12.9.  Routine vanc troughs should be monitored in this patient to maintain a therapeutic level between 15-20.  Will continue to monitor.  S/P Left Hip Hemiarthroplasty for Left Hip Fracture:  Weight Bearing Restrictions: Left lower extremity and pelvis No Restrictions, can bear weight as tolerated  Therapy Instructions:  Hip Precautions: Posterior - Don&apos;t bend hip past 90 degrees, don&apos;t cross legs, don&apos;t rotate hip inwards  Range of motion restrictions: No restrictions if no splint or cast  Brace instructions: No brace needed  Wound Care Instructions:  Shower- Do not shower until sutures/staples removed  Dressing - Do not remove dressing  DVT (Blood clot) Prophylaxis: Recommend lovenox 40 mg daily for 6 weeks at discharge  Follow-Up: Orthopaedic Oncology 2 weeks  2/26 - Nursing reports having to reinforce Aquacel dressing last night.  No drainage or erythema noted.  No fevers. 2/27 - Reinforced new Aquacel dressing with ABD pad and paper tape.  Continued serous drainage.  No erythema, fevers or WCT. 3/2 - Patient reports Ortho came by this weekend and changed dressing but did not remove any sutures.  No note in system.  Chronic Back Pain with Acute L1 Vertebral Fracture:  No acute neurosurgical intervention is necessary at this time.  Continue TLSO when HOB &gt;  30 degrees  Uprights reviewed as adequate  NSU will schedule follow up in 4 weeks  2/26 - TLSO rubbing at right axilla.  PT to call and have brace adjusted. 2/27 - Brace fitting much better.  3/2 - Must continue to wear brace with HOB &gt; 30deg  Chronic Pain:  Recommendations per Acute Pain Management:  1. Restart his entire home medication regimen at the home doses. Most of this has already been done, but his gabapentin should be increased to 600mg po TID and tramadol 50mg po BID should be added.  2. Discontinue the duragesic 75mcg Q72h patch since he has been off of this for several months  3. Discontinue the MS Contin 15mg po BID because the patient is already receiving a long-acting opioid with the Opana ER 20mg po BID  4. Instead of restarting his home Opana IR 5mg po BID, consider starting oxycodone 15-20mg po Q4H prn moderate to severe pain and hydromorphone 0.5mg IV Q1H prn breakthrough pain  5. Consider Tylenol 1000mg po Q6H scheduled 2/23 - Will continue with current pain regimen and contact patient&apos;s pain management MD. 2/34 - Called and spoke with Sara who is the nurse for Carolyn Davis, FNP who confirmed that patient was on his home regimen for pain control with the exception of Oxycodone vs Opana IR for breakthrough pain.  She is requesting notes to be faxed to them and will call back with appropriate f/u at discharge. 3/2 - F/U appt with Carolina Pain and Weight Management confirmed for 3/3/2015 @ 2pm.  Chronic Abdominal Fistula:  Continue to keep dry and change dressing daily. 2/24 - Wound C/D/I   Increased Risk for DVT:  Xarelto while inpatient and transition to Lovenox 40mg daily x 6 weeks at discharge 2/24 - Will work on insurance coverage for medication at discharge  2/25 - Insurance will cover either medication at discharge and patient request &quot;no needles&quot;  Crohn&apos;s  Continue with Home Medications:   Bladder:  Monitor for neurogenic bladder  2/24 - Reports continent  to bladder with no issues  Bowel:  Monitor for neurogenic bowel  2/24 - Reports continent to bowel with no issues  Knee Pain: 2/24 - Continues to complain of left knee pain and requesting MRI.  Prescribed Voltaren gel yesterday and discussed he will be able to f/u with Ortho as an outpatient to discuss chronic knee pain.   Prophylaxis GI: Protonix  Diet: Regular   Anticipated Discharge Destination: Home  Anticipated Discharge Date: 2/24/2015   Time spent on counseling/coordination of care: 15 minutes Total time spent on patient: 30 Minutes  Electronically signed by: Nancy Ashley White, PA-C 3/2/2015 1:10 PM This is a shared visit with Dr. Lovorn, patient examined and discussed together this morning      "
      ],
      "text/plain": [
       "<IPython.core.display.HTML object>"
      ]
     },
     "execution_count": 17,
     "metadata": {},
     "output_type": "execute_result"
    }
   ],
   "source": [
    "HTML(all_texts[5])"
   ]
  },
  {
   "cell_type": "code",
   "execution_count": 20,
   "metadata": {},
   "outputs": [
    {
     "name": "stdout",
     "output_type": "stream",
     "text": [
      "not parsed (02/16\n"
     ]
    },
    {
     "data": {
      "text/html": [
       "Rehabilitation Progress Note  LOS: 10 days  3/2/<span style=\"color:red\">2014</span>  Synopsis: <span style=\"color:red\">Karen Amanda Vance</span> is a <span style=\"color:red\">45</span> y.o. male admitted with Impaired Mobility. PMH significant for COPD, Crohn&apos;s disease, chronic back pain, and 3PPD smoker. Presented to ED on <span style=\"color:red\">02/06/2015</span> after a fall 4 days earlier. Patient states he had been using a cane and walker for ambulation due to chronic back pain and fell backwards and was unable to move because of pain. States he was unable to walk after the fall. In ED patient was found to be tachycardic with oxygen sats of 93% on RA. Labs were significant for leukocytosis. CXR showed diffuse interstitial and patchy airspace opacities concerning for multifocal pneumonia. Initial blood cultures (drawn <span style=\"color:red\">02-06</span>) grew MRSA (discussed below) and due to concomitant back pain and an L1 fracture (discussed below), an MRI of his spine was ordered to rule out osteomyelitis. The MRI was negative for any osteomyelitis. A CT scan of his chest on <span style=\"color:red\">02/09</span> was obtained and showed a right pleural effusion with areas of loculation. CT surgery was consulted and felt he did not need acute intervention at that time. They recommended outpatient follow up in 4-6 weeks (from <span style=\"color:red\">02-09</span>). Patient was initially treated with broad spectrum antibiotics that were refined as cultures returned. His antibiotic regimen was refined to intravenous Vancomycin (end date: <span style=\"color:red\">Mar 07</span>), oral Clindamycin (end date:<span style=\"color:red\">February 26</span>) and oral Cefuroxime (end date:<span style=\"color:red\">02/26</span>).  The patient showed gradual improvement in his respiratory status, being weaned off supplemental O2 on <span style=\"color:red\">02/10</span>. His leukocytosis also saw gradual improvement. A repeat CT scan of his chest on <span style=\"color:red\">02-16</span> showed resolution of his pleural effusions and improving multifocal pneumonia. Additional ED XR showed displaced left femoral neck fracture. Patient was taken to the OR for left hip hemiarthroplasty on <span style=\"color:red\">(02/16</span>) with Dr. <span style=\"color:red\">Sally</span>. XR also showed acute L1 fracture. Neurosurgery was consulted and did not feel that patient  needed surgical intervention at this time and patient was placed in a TLSO and will f/u as an outpatient. Pain management was consulted due to difficulty achieving pain control and their recommendations are listed. Patient received therapy while in acute, however deficits persisted. Deficits are: Pain;Decreased strength;Impaired ADLs;Impaired balance;Impaired activity tolerance;Impaired functional mobility;Impaired bed mobility;Impaired ability to transfer (&lt; ambulation). Patient will now be admitted for inpatient rehab for intensive therapy and continuation of medical care.   Subjective:   Interval History: Patient seen in room sitting up in wheelchair getting ready to start ADLs with OT.  States he continues to have his same pain.  Denies any new events over the weekend.  Wants to make sure that he has pain medication when he is discharged tomorrow.  States ortho did come up and look at his wound and change the Aquacel dressing yesterday but did not remove any sutures.    Nursing noted over the weekend that patient removed his TLSO for a shower.    Patient reports pain management is <span style=\"color:red\">Melanie Nolan</span>, FNP-BC <span style=\"color:red\">(433)837-6059</span> phone and <span style=\"color:red\">(640)164-7378</span> fax    Review of Systems Denies any headache, chest pain, abdominal pain, nausea, vomiting, diarrhea, constipation.  Admits to left knee pain.    Objective:  Physical Examination BP 102/54  Pulse 88  Temp(Src) 97.6 F (36.4 C) (Oral)  Resp 18  Ht 1.829 m (6&apos;)  Wt 97.523 kg (215 lb)  BMI 29.15 kg/m2  SpO2 98%  Physical Exam: General Appearance:  Alert, oriented X 3, no apparent distress.  Patient seen sitting up in wheelchair in room  HEENT:  EOMI, pupils equal, round and reactive to light   Neck:  Supple, no masses noted   Lungs:  Clear to auscultation bilaterally, no wheezes or rhonchi.   Cardiac:  Regular rate and rhythm, s1, s2, no murmurs   Abdomen:  Abdomen nondistended    GU/Rectal:  deferred, not clinically indicated   Extremities:  No  edema or cyanosis. Warm and well-perfused.     Neuro:  cranial nerves II - XII grossly intact;    Musculoskeletal:  Moving all extremities against gravity with no issues  Back:  No obvious deformity noted and wearing TLSO   Psych:  Alert and oriented to person, place, and time with an appropriate mood and affect.   Skin:  no rashes, lesions, or ulcerations; no subcutaneous nodules or induration.  Post op wound not visualized today.   Other:  No sacral ulcer noted.    Labs Lab Results  Component Value Date   CREATININE 0.63 <span style=\"color:red\">03-01-15</span>   BUN 27* <span style=\"color:red\">Mar 01, 2015</span>   NA 137 <span style=\"color:red\">March 01, 15</span>   K 4.2 <span style=\"color:red\">03/01/2015</span>   CL 104 <span style=\"color:red\">03-01-15</span>   CO2 28 <span style=\"color:red\">03/01/2015</span>   Lab Results  Component Value Date   WBC 11.8* <span style=\"color:red\">03/01/15</span>   HGB 7.4* <span style=\"color:red\">Mar 01 of 2015</span>   HCT 23.2* <span style=\"color:red\">March 01 15</span>   MCV 89.7 <span style=\"color:red\">03-01-2015</span>   PLT 521* <span style=\"color:red\">03-01-15</span>   Lab Results  Component Value Date   PTT 21.4 <span style=\"color:red\">02/06/2015</span>   Lab Results  Component Value Date   INR 0.97 <span style=\"color:red\">02/11/15</span>   INR 0.98 <span style=\"color:red\">Feb 06 2015</span>   Scheduled Medications:  acetaminophen  1,000 mg Oral Q8H   ALPRAZolam  2 mg Oral BID   diclofenac   Topical BID   gabapentin  600 mg Oral TID   magnesium oxide  800 mg Oral Q12H   nicotine  1 patch Transdermal Daily@0900   nystatin   Topical BID   oxymorphone  20 mg Oral BID   pantoprazole  40 mg Oral Daily@0900   predniSONE  20 mg Oral Daily@0900   rivaroxaban  10 mg Oral Daily@0800   traMADol  50 mg Oral BID   vancomycin  1.5 g Intravenous Q12H   FIM Scores per PT/OT/Nursing: Category Category: Ongoing Self Care Eating: Modified Independent:Needs extra time,assistive device(rocker knife,dentures,extra long straw,universal cuff, etc),special consistency diet(mechanical soft,pureed,thickened liquids),Pt can do all aspects of tube feeding,prepares own thickened liquids Grooming: Modified Independence: no helper, requires extra time, assistive device or orthosis, safety concerns Bathing: Activity does not occur: unsafe, contraindicated, Patient refused Dressing  Upper Body: Moderate Assistance: patient completes 50-74% of tasks Dressing Lower Body: Moderate Assistance: patient completes 50-74% of tasks Toileting: Modified Independence: requires an assistive device (e.g. toilet aide, grab bar, prosthesis, orthosis), extra time, safety concerns Sphincter Control Bladder - Level of Assistance: Modified Independent: no helper, need devices (catheter, urostomy, pads, diaper/brief, bladder meds)no clothing is wet or soiled and devices are changed independently by the patient Bladder Accidents: No Accidents, continent Bowel - Level of Assistance: Modified Independent: needs device (ostomy/diaper/bowel meds) does own bowel care (dig stimulation, suppository), bowel incontinence caught by diaper/brief, and diaper/brief is changed by Pt Transfers Bed Transfer: Supervision: (standby, cues or coaxing), set-up: helper applies orthosis/prothesis, positions sliding board, prepares wheelchair, helper needed but no touching Toilet Transfer: Supervision: (standby, cues or coaxing), set-up: helper applies orthosis/prothesis, positions sliding board, prepares wheelchair Tub/Shower Transfer: Activity Does Not Occur, unsafe, contraindicated, patient refuses Locomotion Walk: Total Assist: Pt does less than 25% effort, or walks &lt; 50&apos;, may require two person assist, constant assist may be needed for one-side neglect, avoidance of obstacles, general safety Communication Comprehension: Modified Independence: understands complex or abstract directions and communication without prompting with only mild difficulty, device (auditory- hearing aid or visual-eye glasses), extra time may be needed Expression: Modified Independence: extra time, complex or abstract expression with only mild difficulty, device (communication board) Social Cognition Social Interaction: Modified Independence: may require meds around the clock or as needed Problem Solving: Modified independence: extra time needed  or only has mild difficulty, can manage med administration, bank account, participates in discharge plans Memory: Modified independence: Pt uses memory book to remember the daily routine, mild difficulty recognizing, remembering, executing requests  Assessment/Plan:   Admitted for comprehensive inpatient rehabilitation including PT, OT, RT and supportive services to improve functional outcome of impaired mobility, ADL&apos;s, transfers, and self-care.  Rehab physician: Manage complex medical conditions (as above) and coordinate Nursing and Allied Health for a minimum of 3 hours per day, 5 days per week to improve functional outcomes as noted below.  - Rehab RN: Administer patient&apos;s medications and instruct patient on medication usage and schedule. Monitor patient&apos;s vital signs and pain levels. Ensure patient safety and provide therapy carryover. Help with positioning of patient and monitor for surgical wound, skin integrity and signs of breakdown. Help with bowel and bladder management and education.  - PT: Design and implement an exercise program focusing on positioning, ROM exercises, mobilization, compensatory techniques, and endurance training. Emphasis on improving functional recovery, coordination, basic movements, and postures. Emphasis on improving ambulation, balance, mobility and transfers.  - OT: Emphasis on training in activities of daily living - feeding, grooming, bathing, dressing as well as tub/toilet transfers.  -SLP: Evaluate patient for memory/cognition and develop plan to assist with daily ADLs and mobility.   Impaired Mobility:  PT/OT to perform initial evaluation and maximize functional capacity as above.   Community-Acquired Multifocal Bacterial Pneumonia:  Continue IV Vancomycin (end date: <span style=\"color:red\">03-07</span>), Oral Clindamycin (end date: <span style=\"color:red\">February 26</span>), Oral Cefuroxime (end date: <span style=\"color:red\">02/26</span>)  Discharge from Acute WBC 12.9.  Will continue to monitor.  <span style=\"color:red\">02-22</span> Vanc was decreased over the weekend secondary to  trough and will continue to monitor. <span style=\"color:red\">02/23</span> - Pharmacy continuing to monitor Vanc.  WBC increased to 13.3.  Patient asymptomatic and no fevers. <span style=\"color:red\">02-24</span> - Vanc level within range today and pharmacy recs to check weekly.  <span style=\"color:red\">Feb 26</span> Oral ABX will complete today.  All lab work normal.  Will re-check Vanc level next week  <span style=\"color:red\">March 01</span> - Vanc trough was not drawn this AM as ordered.  Will discuss with Pharmacy.  Patient will receive home health to conitnue to draw labs and administer Vanc until <span style=\"color:red\">03/07</span>    MRSA Bacteremia:  Continue IV Vancomycin (end date: <span style=\"color:red\">03/07</span>), Oral Clindamycin (end date: <span style=\"color:red\">02-26</span>), Oral Cefuroxime (end date: <span style=\"color:red\">02-26</span>)  Discharge from Acute WBC 12.9.  Routine vanc troughs should be monitored in this patient to maintain a therapeutic level between 15-20.  Will continue to monitor.  S/P Left Hip Hemiarthroplasty for Left Hip Fracture:  Weight Bearing Restrictions: Left lower extremity and pelvis No Restrictions, can bear weight as tolerated  Therapy Instructions:  Hip Precautions: Posterior - Don&apos;t bend hip past 90 degrees, don&apos;t cross legs, don&apos;t rotate hip inwards  Range of motion restrictions: No restrictions if no splint or cast  Brace instructions: No brace needed  Wound Care Instructions:  Shower- Do not shower until sutures/staples removed  Dressing - Do not remove dressing  DVT (Blood clot) Prophylaxis: Recommend lovenox 40 mg daily for 6 weeks at discharge  Follow-Up: Orthopaedic Oncology 2 weeks  <span style=\"color:red\">Feb 25</span> - Nursing reports having to reinforce Aquacel dressing last night.  No drainage or erythema noted.  No fevers. <span style=\"color:red\">February 26</span> Reinforced new Aquacel dressing with ABD pad and paper tape.  Continued serous drainage.  No erythema, fevers or WCT. <span style=\"color:red\">03/01</span> - Patient reports Ortho came by this weekend and changed dressing but did not remove any sutures.  No note in system.  Chronic Back Pain with Acute L1 Vertebral Fracture:  No acute neurosurgical intervention is necessary at this time.  Continue TLSO when HOB &gt;  30 degrees  Uprights reviewed as adequate  NSU will schedule follow up in 4 weeks  <span style=\"color:red\">02-25</span> TLSO rubbing at right axilla.  PT to call and have brace adjusted. <span style=\"color:red\">02/26</span> Brace fitting much better.  <span style=\"color:red\">03/01</span> - Must continue to wear brace with HOB &gt; 30deg  Chronic Pain:  Recommendations per Acute Pain Management:  1. Restart his entire home medication regimen at the home doses. Most of this has already been done, but his gabapentin should be increased to 600mg po TID and tramadol 50mg po BID should be added.  2. Discontinue the duragesic 75mcg Q72h patch since he has been off of this for several months  3. Discontinue the MS Contin 15mg po BID because the patient is already receiving a long-acting opioid with the Opana ER 20mg po BID  4. Instead of restarting his home Opana IR 5mg po BID, consider starting oxycodone 15-20mg po Q4H prn moderate to severe pain and hydromorphone 0.5mg IV Q1H prn breakthrough pain  5. Consider Tylenol 1000mg po Q6H scheduled <span style=\"color:red\">Feb 22</span> - Will continue with current pain regimen and contact patient&apos;s pain management MD. <span style=\"color:red\">January, 34</span> - Called and spoke with <span style=\"color:red\">Alan</span> who is the nurse for <span style=\"color:red\">Melanie Nolan</span>, FNP who confirmed that patient was on his home regimen for pain control with the exception of Oxycodone vs Opana IR for breakthrough pain.  She is requesting notes to be faxed to them and will call back with appropriate f/u at discharge. <span style=\"color:red\">03-01</span> F/U appt with <span style=\"color:red\">MC</span> Weight <span style=\"color:red\">MC MRI #5 RM  0151 MRI Imaging - MRI Building 336-716-7243</span> confirmed for <span style=\"color:red\">03-02-2015 14 PM</span>.  Chronic Abdominal Fistula:  Continue to keep dry and change dressing daily. <span style=\"color:red\">02/23</span> Wound C/D/I   Increased Risk for DVT:  Xarelto while inpatient and transition to Lovenox 40mg daily x 6 weeks at discharge <span style=\"color:red\">02/23</span> - Will work on insurance coverage for medication at discharge  <span style=\"color:red\">Feb 24</span> - Insurance will cover either medication at discharge and patient request &quot;no needles&quot;  Crohn&apos;s  Continue with Home Medications:   Bladder:  Monitor for neurogenic bladder  <span style=\"color:red\">02-23</span> - Reports continent  to bladder with no issues  Bowel:  Monitor for neurogenic bowel  <span style=\"color:red\">February 23</span> - Reports continent to bowel with no issues  Knee Pain: <span style=\"color:red\">02/23</span> - Continues to complain of left knee pain and requesting MRI.  Prescribed Voltaren gel yesterday and discussed he will be able to f/u with Ortho as an outpatient to discuss chronic knee pain.   Prophylaxis GI: Protonix  Diet: Regular   Anticipated Discharge Destination: Home  Anticipated Discharge Date: <span style=\"color:red\">02-23-15</span>   Time spent on counseling/coordination of care: 15 minutes Total time spent on patient: 30 Minutes  Electronically signed by: <span style=\"color:red\">Dan Alan Ogden</span>, PA-C <span style=\"color:red\">03/01/2015 01:10 PM</span> This is a shared visit with Dr. <span style=\"color:red\">Stephanie</span>, patient examined and discussed together this morning      "
      ],
      "text/plain": [
       "<IPython.core.display.HTML object>"
      ]
     },
     "execution_count": 20,
     "metadata": {},
     "output_type": "execute_result"
    }
   ],
   "source": [
    "HTML(obfuscator.parse_and_hide(all_texts[5], results[5], second_shift=-86400))"
   ]
  },
  {
   "cell_type": "code",
   "execution_count": 8,
   "metadata": {},
   "outputs": [
    {
     "name": "stdout",
     "output_type": "stream",
     "text": [
      "2024-08-20 13:51:55.431019\n",
      "2024-08-20 14:02:19.733149\n"
     ]
    }
   ],
   "source": [
    "# this is done using onnx\n",
    "print(datetime.now())\n",
    "results = clf(all_texts, stride=16, ignore_labels=['NORMAL'], aggregation_strategy='max', batch_size=16)\n",
    "print(datetime.now())"
   ]
  },
  {
   "cell_type": "code",
   "execution_count": 8,
   "metadata": {},
   "outputs": [
    {
     "name": "stdout",
     "output_type": "stream",
     "text": [
      "2024-08-20 14:15:24.438660\n"
     ]
    },
    {
     "name": "stderr",
     "output_type": "stream",
     "text": [
      "c:\\Users\\zhma\\Projects\\.nlp\\Lib\\site-packages\\transformers\\models\\bert\\modeling_bert.py:439: UserWarning: 1Torch was not compiled with flash attention. (Triggered internally at C:\\actions-runner\\_work\\pytorch\\pytorch\\builder\\windows\\pytorch\\aten\\src\\ATen\\native\\transformers\\cuda\\sdp_utils.cpp:555.)\n",
      "  attn_output = torch.nn.functional.scaled_dot_product_attention(\n"
     ]
    },
    {
     "name": "stdout",
     "output_type": "stream",
     "text": [
      "2024-08-20 14:30:20.310730\n"
     ]
    }
   ],
   "source": [
    "# this is regular huggingface\n",
    "print(datetime.now())\n",
    "results = clf(all_texts, stride=16, ignore_labels=['NORMAL'], aggregation_strategy='max', batch_size=16)\n",
    "print(datetime.now())"
   ]
  },
  {
   "cell_type": "code",
   "execution_count": 10,
   "metadata": {},
   "outputs": [],
   "source": [
    "with open('actual_note_test.txt','w') as fid:\n",
    "    fid.write('---'.join(all_texts))"
   ]
  },
  {
   "cell_type": "code",
   "execution_count": null,
   "metadata": {},
   "outputs": [],
   "source": [
    "results_unsorted = results[:]"
   ]
  },
  {
   "cell_type": "code",
   "execution_count": null,
   "metadata": {},
   "outputs": [
    {
     "data": {
      "text/plain": [
       "('  ',\n",
       " 'Hematology/Oncology Progress Note   LOS: 71 days   Synopsis: Mr. Triplett presented to his local ED with an elevated WBC and massive splenomegaly, 03/2010. Prior to his diagnosis,he had been experiencing recurrent URI&apos;s, rapid weight loss and anemia.   Bone marrow aspirate and biopsy revealed 17% blasts. A p210 BCR/ABL was positive at 0.909.   He was initially treated with Hydrea after admission for intractable pain. He was then started on Gleevec 400mg daily on 04/01/2010.   During this admission, it was also noted that he had significant left-sided neck and shoulder pain, the etiology of which was initially unclear. CT of the chest was obtained on 04/05/2010, revealing no evidence of PE; however, there was a concerning soft tissue density near the clavicle. An MRI revealed a lesion suspicious for osteomyelitis on his left clavicle.   CT Surgery was consulted and an FNA biopsy was obtained revealing a leukocytic infiltration with no blasts, but concern for possible abscess. On 04/16/2010 he had an open biopsy of soft tissue and partial left clavicle resection revealing an osseous chloroma.   Because of persistence of molecular activity on 03/23/2011, he was switched to Tasigna 400 mg BID, but he developed a diffuse rash and this medication was discontinued. He was restarted at 200mg bid, but in 12/2011 he hd a significant increase in his PCR and marked thrombocytosis of 800,000.   He was switched to Sprycel 100 mg qd, which was initially discontinued, but then restarted at lower doses due to progression. Due to intolerance, Sprycel was discontinued and hydrea reinitiated 1/2/13.   He was started on Bosutinib in February 2013 but shortly after beginning this medication, he experienced severe scalp pain, joint pain and rash around his neck and shoulders. He discontinue the medication and after two days, symptoms had begun to subside. He restarted the medication but his symptoms recurred.   He was  Hematology/Oncology Progress Note   LOS: 71 days   Synopsis: Mr. Triplett presented to his local ED with an elevated WBC and massive splenomegaly, 03/2010. Prior to his diagnosis,he had been experiencing recurrent URI&apos;s, rapid weight loss and anemia.   Bone marrow aspirate and biopsy revealed 17% blasts. A p210 BCR/ABL was positive at 0.909.   He was initially treated with Hydrea after admission for intractable pain. He was then started on Gleevec 400mg daily on 04/01/2010.   During this admission, it was also noted that he had significant left-sided neck and shoulder pain, the etiology of which was initially unclear. CT of the chest was obtained on 04/05/2010, revealing no evidence of PE; however, there was a concerning soft tissue density near the clavicle. An MRI revealed a lesion suspicious for osteomyelitis on his left clavicle.   CT Surgery was consulted and an FNA biopsy was obtained revealing a leukocytic infiltration with no blasts, but concern for possible abscess. On 04/16/2010 he had an open biopsy of soft tissue and partial left clavicle resection revealing an osseous chloroma.   Because of persistence of molecular activity on 03/23/2011, he was switched to Tasigna 400 mg BID, but he developed a diffuse rash and this medication was discontinued. He was restarted at 200mg bid, but in 12/2011 he hd a significant increase in his PCR and marked thrombocytosis of 800,000.   He was switched to Sprycel 100 mg qd, which was initially discontinued, but then restarted at lower doses due to progression. Due to intolerance, Sprycel was discontinued and hydrea reinitiated 1/2/13.   He was started on Bosutinib in February 2013 but shortly after beginning this medication, he experienced severe scalp pain, joint pain and rash around his neck and shoulders. He discontinue the medication and after two days, symptoms had begun to subside. He restarted the medication but his symptoms recurred.   He was  tried on pamatinib but had similar if not worse side effects. He was placed back on hydrea, but because of increasing basophilia was again put on Gleevec.   Most recently, Mr. Triplett began an induction course ( BID for 14 days) of omacetaxine on 8/26/13. Unfortunately during 6 cycles of omacetaxine Mr. Triplett continued to evidence gradually increasing WBCs and basophils.   He presented to clinic on 2/24/14 with a WBC 35.9 with 3% blasts in the periphery. In clinic, he complained of extremely low energy level and poor appetite. He had a persistent, unchanged rash on his back. He had not noticed any fevers or chills. He denied unexplained weight loss or gain, headaches, loss of vision, difficulty swallowing, chest pain, abdominal pain, diarrhea, constipation, lower extremity swelling, change in bowel or bladder habits, bleeding or bruising. Overall his performance status was a 2 with a Karnofsky of 60-70%.   A plan was made for scheduled admission for induction chemotherapy with 7+3 cytarabine/daunorubicin after PAC placement in IR. Of note, he has a PMH significant for ASCVD s/p CABG with a pre-treatment ECHO LVEF of 55-60%.  Following his initial course of therapy with 7 + 3, he had persistent &quot;accelerated phase&quot; disease.    With rapidly increasing WBC, it was elected to begin therapy with CPI 613, mitoxantrone, high dose cytarabine on the Phase I protocol.  Written informed consent was obtained prior to starting therapy.   Subjective: Basically status unchanged. He continues with depression, fatigue, pain with deep inspiration on the right side.  He denies nausea, vomiting, diarrhea, or mouth soreness.  All systems reviewed and are otherwise negative.  Scheduled Meds:  chlorpheniramine-hydrocodone  5 mL Oral Q12H SCH   furosemide  40 mg Oral BID   guaiFENesin  600 mg Oral Q12H SCH   heparin lock flush (porcine)  50 Units Intracatheter Daily@0900   [COMPLETED] magnesium sulfate in 0.9  tried on pamatinib but had similar if not worse side effects. He was placed back on hydrea, but because of increasing basophilia was again put on Gleevec.   Most recently, Mr. Triplett began an induction course ( BID for 14 days) of omacetaxine on 8/26/13. Unfortunately during 6 cycles of omacetaxine Mr. Triplett continued to evidence gradually increasing WBCs and basophils.   He presented to clinic on 2/24/14 with a WBC 35.9 with 3% blasts in the periphery. In clinic, he complained of extremely low energy level and poor appetite. He had a persistent, unchanged rash on his back. He had not noticed any fevers or chills. He denied unexplained weight loss or gain, headaches, loss of vision, difficulty swallowing, chest pain, abdominal pain, diarrhea, constipation, lower extremity swelling, change in bowel or bladder habits, bleeding or bruising. Overall his performance status was a 2 with a Karnofsky of 60-70%.   A plan was made for scheduled admission for induction chemotherapy with 7+3 cytarabine/daunorubicin after PAC placement in IR. Of note, he has a PMH significant for ASCVD s/p CABG with a pre-treatment ECHO LVEF of 55-60%.  Following his initial course of therapy with 7 + 3, he had persistent &quot;accelerated phase&quot; disease.    With rapidly increasing WBC, it was elected to begin therapy with CPI 613, mitoxantrone, high dose cytarabine on the Phase I protocol.  Written informed consent was obtained prior to starting therapy.   Subjective: Basically status unchanged. He continues with depression, fatigue, pain with deep inspiration on the right side.  He denies nausea, vomiting, diarrhea, or mouth soreness.  All systems reviewed and are otherwise negative.  Scheduled Meds:  chlorpheniramine-hydrocodone  5 mL Oral Q12H SCH   furosemide  40 mg Oral BID   guaiFENesin  600 mg Oral Q12H SCH   heparin lock flush (porcine)  50 Units Intracatheter Daily@0900   [COMPLETED] magnesium sulfate in 0.9  %NaCl  2 g Intravenous Once   metoPROLOL tartrate  25 mg Oral BID   mucositis mouthwash  30 mL Oral QID   [COMPLETED] potassium chloride  20 mEq Intravenous Q1H   [DISCONTINUED] acyclovir  400 mg Oral BID   [DISCONTINUED] meropenem  1 g Intravenous Q8H   [DISCONTINUED] voriconazole  200 mg Oral Q12H SCH   Continuous Infusions:  sodium chloride 30 mL/hr at 05/07/14 1716   PRN Meds:acetaminophen, albuterol, albuterol, benzonatate, diphenhydrAMINE, diphenhydramine-zinc acetate 2%-0.1%, heparin lock flush (porcine), lidocaine, LORazepam, oxyCODONE, prochlorperazine, promethazine (PHENERGAN) IV, traMADol, zolpidem  Objective: Vital signs in last 24 hours: Temp:  [97.4 F (36.3 C)-99.8 F (37.7 C)] 97.4 F (36.3 C) Pulse:  [79-92] 92 Resp:  [16-18] 17 BP: (109-144)/(63-74) 131/70 mmHg MAP (mmHg):  [74-91] 86 SpO2:  [98 %-99 %] 98 % Pain Score: 4-Four O2 Device: Nasal cannula O2 Flow Rate (L/min): 2 L/min     Intake/Output last 3 shifts: I/O last 3 completed shifts: In: 2955 [P.O.:1500; I.V.:505; IV Piggyback:950] Out: 2375 [Urine:2375] Intake/Output this shift:    Physical Exam: CURRENT VITAL SIGNS BP 131/70  Pulse 92  Temp(Src) 97.4 F (36.3 C) (Oral)  Resp 17  Ht 1.765 m (5&apos; 9.5&quot;)  Wt 65.363 kg (144 lb 1.6 oz)  BMI 20.98 kg/m2  SpO2 98% General: Ill appearing, no acute distress, on 2L NC HEENT:  No open lesions in oral cavity, No bleeding noted. Anicteric sclera.  Cardiovascular: S1/S2 regular rate and rhythm. No murmur Pulmonary: diminished breath sounds in bases bilaterally, mild rhonchi clears with cough Abdominal: Soft, no tenderness to palpation.  Extremities: no lesions, trace BLE and BUE edema.   Neuro: alert and oriented to person, time, place Other: R DL PI PAC removed and Left PICC intact -  Performance Status: EGOG - 2 Karnofsky - 60  Diagnostic Studies: Results for orders placed during the hospital encounter of 02/26/14 (from the past 24  %NaCl  2 g Intravenous Once   metoPROLOL tartrate  25 mg Oral BID   mucositis mouthwash  30 mL Oral QID   [COMPLETED] potassium chloride  20 mEq Intravenous Q1H   [DISCONTINUED] acyclovir  400 mg Oral BID   [DISCONTINUED] meropenem  1 g Intravenous Q8H   [DISCONTINUED] voriconazole  200 mg Oral Q12H SCH   Continuous Infusions:  sodium chloride 30 mL/hr at 05/07/14 1716   PRN Meds:acetaminophen, albuterol, albuterol, benzonatate, diphenhydrAMINE, diphenhydramine-zinc acetate 2%-0.1%, heparin lock flush (porcine), lidocaine, LORazepam, oxyCODONE, prochlorperazine, promethazine (PHENERGAN) IV, traMADol, zolpidem  Objective: Vital signs in last 24 hours: Temp:  [97.4 F (36.3 C)-99.8 F (37.7 C)] 97.4 F (36.3 C) Pulse:  [79-92] 92 Resp:  [16-18] 17 BP: (109-144)/(63-74) 131/70 mmHg MAP (mmHg):  [74-91] 86 SpO2:  [98 %-99 %] 98 % Pain Score: 4-Four O2 Device: Nasal cannula O2 Flow Rate (L/min): 2 L/min     Intake/Output last 3 shifts: I/O last 3 completed shifts: In: 2955 [P.O.:1500; I.V.:505; IV Piggyback:950] Out: 2375 [Urine:2375] Intake/Output this shift:    Physical Exam: CURRENT VITAL SIGNS BP 131/70  Pulse 92  Temp(Src) 97.4 F (36.3 C) (Oral)  Resp 17  Ht 1.765 m (5&apos; 9.5&quot;)  Wt 65.363 kg (144 lb 1.6 oz)  BMI 20.98 kg/m2  SpO2 98% General: Ill appearing, no acute distress, on 2L NC HEENT:  No open lesions in oral cavity, No bleeding noted. Anicteric sclera.  Cardiovascular: S1/S2 regular rate and rhythm. No murmur Pulmonary: diminished breath sounds in bases bilaterally, mild rhonchi clears with cough Abdominal: Soft, no tenderness to palpation.  Extremities: no lesions, trace BLE and BUE edema.   Neuro: alert and oriented to person, time, place Other: R DL PI PAC removed and Left PICC intact -  Performance Status: EGOG - 2 Karnofsky - 60  Diagnostic Studies: Results for orders placed during the hospital encounter of 02/26/14 (from the past 24  hour(s))  MAGNESIUM   Collection Time    05/08/14  5:20 AM      Result Value Range   Magnesium 1.9  1.8 - 2.4 MG/DL  LDH   Collection Time    05/08/14  5:20 AM      Result Value Range   LDH 423 (*) 90 - 271 U/L  URIC ACID   Collection Time    05/08/14  5:20 AM      Result Value Range   Uric Acid 4.9  2.5 - 8.0 MG/DL  CBC AND DIFFERENTIAL   Collection Time    05/08/14  5:20 AM      Result Value Range   WBC 22.4 (*) 4.8 - 10.8 X1000   RBC 2.74 (*) 4.7 - 6.1 X1,000,000   HEMOGLOBIN 8.3 (*) 14.0 - 18.0 G/DL   HEMATOCRIT 23.1 (*) 42.0 - 52.0 %   MCV 84.3  80.0 - 94.0 FL   MCH 30.2  27 - 31 PG   MCHC 35.8  33.0 - 37.0 G/DL   RDW 13.8  11.5 - 14.5 %   PLATELET COUNT 19 (*) 160 - 360 X1000   MPV 8.7  6.8 - 10.2 FL   SEGS RELATIVE 20     Bands Relative 2     LYMPHOCYTES RELATIVE PERCENT 5     MONOCYTES RELATIVE PERCENT 3     BASOPHILS RELATIVE PERCENT 8     EOSINOPHILS RELATIVE PERCENT 57     Metamyelocytes Relative 2     MYELP % 2     BLAST% 1     NUCLEATED RED BLOOD CELLS 0  0 /100 WBC   Segs Absolute 4.5  1.6 - 7.3 X1000   Bands Absolute 0.4  0.0 - 1.1 X1000   LYMPHOCYTES ABSOLUTE COUNT 1.1  1.0 - 5.1 X1000   MONOCYTES ABSOLUTE COUNT 0.7  0.16 - 0.9 X1000   BASOPHILS ABSOLUTE COUNT 1.8 (*) 0.0 - 0.2 X1000   EOSINOPHILS ABSOLUTE COUNT 12.9 (*) 0.0 - 0.5 X1000   Metamyelocytes Absolute 0.4 (*) &lt;0.1 X1000   Myelocytes 0.4 (*) &lt;0.1 X1000   Blast Cells 0.2 (*) &lt;0.1 X1000   RBC Morphology RED CELLS APPEAR NORMAL     WBC Morphology MANUAL DIFF PERFORMED    COMPREHENSIVE METABOLIC PANEL   Collection Time    05/08/14  5:20 AM      Result Value Range   SODIUM 133 (*) 135 - 146 MMOL/L   POTASSIUM 3.8  3.5 - 5.3 MMOL/L   CHLORIDE 94 (*) 98 - 110 MMOL/L   CO2 34 (*) 21 - 33 MMOL/L   BUN 13  8.0 - 24.0 MG/DL   GLUCOSE 90  70 - 99 MG/DL   CREATININE 0.75  0.5 - 1.5 MG/DL   CALCIUM 8.6  8.5 - 10.5 MG/DL   PROTEIN            4.9 (*) 6.0 - 8.3 G/DL   ALBUMIN 2.9 (*) 3.5 - 5.0  hour(s))  MAGNESIUM   Collection Time    05/08/14  5:20 AM      Result Value Range   Magnesium 1.9  1.8 - 2.4 MG/DL  LDH   Collection Time    05/08/14  5:20 AM      Result Value Range   LDH 423 (*) 90 - 271 U/L  URIC ACID   Collection Time    05/08/14  5:20 AM      Result Value Range   Uric Acid 4.9  2.5 - 8.0 MG/DL  CBC AND DIFFERENTIAL   Collection Time    05/08/14  5:20 AM      Result Value Range   WBC 22.4 (*) 4.8 - 10.8 X1000   RBC 2.74 (*) 4.7 - 6.1 X1,000,000   HEMOGLOBIN 8.3 (*) 14.0 - 18.0 G/DL   HEMATOCRIT 23.1 (*) 42.0 - 52.0 %   MCV 84.3  80.0 - 94.0 FL   MCH 30.2  27 - 31 PG   MCHC 35.8  33.0 - 37.0 G/DL   RDW 13.8  11.5 - 14.5 %   PLATELET COUNT 19 (*) 160 - 360 X1000   MPV 8.7  6.8 - 10.2 FL   SEGS RELATIVE 20     Bands Relative 2     LYMPHOCYTES RELATIVE PERCENT 5     MONOCYTES RELATIVE PERCENT 3     BASOPHILS RELATIVE PERCENT 8     EOSINOPHILS RELATIVE PERCENT 57     Metamyelocytes Relative 2     MYELP % 2     BLAST% 1     NUCLEATED RED BLOOD CELLS 0  0 /100 WBC   Segs Absolute 4.5  1.6 - 7.3 X1000   Bands Absolute 0.4  0.0 - 1.1 X1000   LYMPHOCYTES ABSOLUTE COUNT 1.1  1.0 - 5.1 X1000   MONOCYTES ABSOLUTE COUNT 0.7  0.16 - 0.9 X1000   BASOPHILS ABSOLUTE COUNT 1.8 (*) 0.0 - 0.2 X1000   EOSINOPHILS ABSOLUTE COUNT 12.9 (*) 0.0 - 0.5 X1000   Metamyelocytes Absolute 0.4 (*) &lt;0.1 X1000   Myelocytes 0.4 (*) &lt;0.1 X1000   Blast Cells 0.2 (*) &lt;0.1 X1000   RBC Morphology RED CELLS APPEAR NORMAL     WBC Morphology MANUAL DIFF PERFORMED    COMPREHENSIVE METABOLIC PANEL   Collection Time    05/08/14  5:20 AM      Result Value Range   SODIUM 133 (*) 135 - 146 MMOL/L   POTASSIUM 3.8  3.5 - 5.3 MMOL/L   CHLORIDE 94 (*) 98 - 110 MMOL/L   CO2 34 (*) 21 - 33 MMOL/L   BUN 13  8.0 - 24.0 MG/DL   GLUCOSE 90  70 - 99 MG/DL   CREATININE 0.75  0.5 - 1.5 MG/DL   CALCIUM 8.6  8.5 - 10.5 MG/DL   PROTEIN            4.9 (*) 6.0 - 8.3 G/DL   ALBUMIN 2.9 (*) 3.5 - 5.0  G/DL   BILIRUBIN TOTAL 0.7  0.1 - 1.2 MG/DL   ALKALINE PHOSPHATASE 150 (*) 25 - 125 U/L   AST 50 (*) 5 - 40 U/L   ALT 15  5 - 50 U/L   ANION GAP 5  4 - 14   EST. GFR NON-BLACK &gt;60     EST. GFR BLACK &gt;60     Pathology ACCESSION NUMBER: B14-446 RECEIVED: 3/31/2014 BONE MARROW REPORT FINAL PATHOLOGIC DIAGNOSIS BM: Recurrent chronic myeloid leukemia, accelerated phase, with increased myelofibrosis.  See comment. PB: Basophilia and eosinophilia.  Normocytic anemia.  See CBC data. COMMENT:  The bone marrow aspirate smears are aspicular but cellular and adequate for evaluation. There is marked basophilia and eosinophilia. Blasts are not increased in numbers (2% by manual differential counts). Maturing myeloid elements are present. Erythroid precursors are rare. Some eosinophils appear atypical with large purple granules.  Examination of the bone marrow core biopsy reveals a hypercellular marrow for age (90%). CD34 immunohistochemistry highlights scattered blasts, comprising less than 5% of the marrow elements. Myeloid cells comprise the majority of the marrow elements. Megakaryocytes are small, hypolobated and present in clusters. There are no atypical lymphoid aggregates or granulomas identified. Examination of the bone marrow clot section reveals similar findings. A reticulin stain highlights increased myelofibrosis (grade 1 of 3), with focal marked increased.  The peripheral blood leukocytes are morphologically unremarkable.  Overall, the findings are consistent with recurrence of patient&apos; s chronic myeloid leukemia, accelerated phase.  PATHOLOGY: This recently transfused has positive direct antiglobulin test and the eluate made from the patient&apos;s circulating red blood cells is negative with reagent red cells tested. This test can be positive in certain disease states and as a result of taking certain medications. In the context of clinical evidence of hemolysis, drug induced hemolytic anemia cannot  G/DL   BILIRUBIN TOTAL 0.7  0.1 - 1.2 MG/DL   ALKALINE PHOSPHATASE 150 (*) 25 - 125 U/L   AST 50 (*) 5 - 40 U/L   ALT 15  5 - 50 U/L   ANION GAP 5  4 - 14   EST. GFR NON-BLACK &gt;60     EST. GFR BLACK &gt;60     Pathology ACCESSION NUMBER: B14-446 RECEIVED: 3/31/2014 BONE MARROW REPORT FINAL PATHOLOGIC DIAGNOSIS BM: Recurrent chronic myeloid leukemia, accelerated phase, with increased myelofibrosis.  See comment. PB: Basophilia and eosinophilia.  Normocytic anemia.  See CBC data. COMMENT:  The bone marrow aspirate smears are aspicular but cellular and adequate for evaluation. There is marked basophilia and eosinophilia. Blasts are not increased in numbers (2% by manual differential counts). Maturing myeloid elements are present. Erythroid precursors are rare. Some eosinophils appear atypical with large purple granules.  Examination of the bone marrow core biopsy reveals a hypercellular marrow for age (90%). CD34 immunohistochemistry highlights scattered blasts, comprising less than 5% of the marrow elements. Myeloid cells comprise the majority of the marrow elements. Megakaryocytes are small, hypolobated and present in clusters. There are no atypical lymphoid aggregates or granulomas identified. Examination of the bone marrow clot section reveals similar findings. A reticulin stain highlights increased myelofibrosis (grade 1 of 3), with focal marked increased.  The peripheral blood leukocytes are morphologically unremarkable.  Overall, the findings are consistent with recurrence of patient&apos; s chronic myeloid leukemia, accelerated phase.  PATHOLOGY: This recently transfused has positive direct antiglobulin test and the eluate made from the patient&apos;s circulating red blood cells is negative with reagent red cells tested. This test can be positive in certain disease states and as a result of taking certain medications. In the context of clinical evidence of hemolysis, drug induced hemolytic anemia cannot  be completely excluded.    IMAGING: DI CHEST 1 VIEW PORTABLE, May 04, 2014 05:47:09 PM  CONCLUSION:  Left PICC remains in place.  Stable cardiomediastinal silhouette which appears normal.  Scattered linear and slight hazy opacities in the lung bases, with little change when technical differences are taken into account. This reflects residual from a resolved pneumonia or a slow to resolve atypical infection.  XRAY CHEST (FRONTAL AND LATERAL), May 03, 2014 08:20:08 AM CONCLUSION:  No significant interval change in the appearance of the chest with similar scattered airspace opacities most likely reflective of resolving/resolved pneumonia with residual scarring and persistent tiny right pleural effusion. There may be a component of persistent atypical infection.  The left upper extremity PICC remains in similar position with the tip in the right atrium.  DI CHEST PA AND LATERAL, Apr 29, 2014 12:44:42 PM CONCLUSION:  Similar opacities likely represent resolving pneumonia, with persistent small right pleural effusion.  Left upper extremity PICC in satisfactory position.  Chest xray (4/22) CONCLUSION: 1. Unchanged mild pulmonary edema.   2. Patchy bibasilar airspace opacities consistent with pneumonia.   3. Interval removal of the right IJ approach port with placement of a PICC.  Chest xray (4/15) CONCLUSION:  Similar bilateral ill-defined opacities consistent with resolving pneumonia.  Bilateral pleural effusions, with some mild increase in the size of right pleural effusion.   CT THORAX WITHOUT CONTRAST, Apr 02, 2014 09:40:58 AM CONCLUSION: 1.Extensive bronchocentric  micronodular,  interstitial thickening, scattered ground glass nodules, including spiculated nodule lingular measuring about 18 mm, consistent with the multilobar pneumonia, including  atypical organism.. 2. Follow up CT is recommended to resolution to rule out a underlying mass lesions .     Pathology/ bone marrow biopsy  be completely excluded.    IMAGING: DI CHEST 1 VIEW PORTABLE, May 04, 2014 05:47:09 PM  CONCLUSION:  Left PICC remains in place.  Stable cardiomediastinal silhouette which appears normal.  Scattered linear and slight hazy opacities in the lung bases, with little change when technical differences are taken into account. This reflects residual from a resolved pneumonia or a slow to resolve atypical infection.  XRAY CHEST (FRONTAL AND LATERAL), May 03, 2014 08:20:08 AM CONCLUSION:  No significant interval change in the appearance of the chest with similar scattered airspace opacities most likely reflective of resolving/resolved pneumonia with residual scarring and persistent tiny right pleural effusion. There may be a component of persistent atypical infection.  The left upper extremity PICC remains in similar position with the tip in the right atrium.  DI CHEST PA AND LATERAL, Apr 29, 2014 12:44:42 PM CONCLUSION:  Similar opacities likely represent resolving pneumonia, with persistent small right pleural effusion.  Left upper extremity PICC in satisfactory position.  Chest xray (4/22) CONCLUSION: 1. Unchanged mild pulmonary edema.   2. Patchy bibasilar airspace opacities consistent with pneumonia.   3. Interval removal of the right IJ approach port with placement of a PICC.  Chest xray (4/15) CONCLUSION:  Similar bilateral ill-defined opacities consistent with resolving pneumonia.  Bilateral pleural effusions, with some mild increase in the size of right pleural effusion.   CT THORAX WITHOUT CONTRAST, Apr 02, 2014 09:40:58 AM CONCLUSION: 1.Extensive bronchocentric  micronodular,  interstitial thickening, scattered ground glass nodules, including spiculated nodule lingular measuring about 18 mm, consistent with the multilobar pneumonia, including  atypical organism.. 2. Follow up CT is recommended to resolution to rule out a underlying mass lesions .     Pathology/ bone marrow biopsy  (4/17) Hypocellular marrow (&lt;10%) with pan hypoplasia and no increase in blasts. Severe myelofibrosis.  Aspergillus platelia from BAL 4/3 :  0.18                                                     4/16:  Voriconazole level:  4/10 - 12.8                                     4/16 - 5.3                                                   ASSESSMENT AND PLAN:   CML Accelerated Phase vs Blast phase 2/26 - PAC placement in IR. Admit for 7+3 cytarabine/daunorubicin following BMBX.  2/27 - Tolerating therapy well.  WBC 20.2 today.  Bone marrow from 2/26 with 9% blasts. 2/28 - Tolerating Therapy well.  WBC 10.3 today. 3/01 - Tolerating therapy well.  WBC 5.1 3/2 - WBC 3.1 3/3: WBC: 1.3, ANC 200 3/3: WBC 2.3, ANC 1000 3/4 WBC 1.7 3/6: WBC 1000, ANC 200 3/7: ANC 0 3/10 WBC: 0.7 Plan for Day 14 marrow 3/12 3/11: Day 14 marrow today 3/13: Will review bone marrow with pathology. Prelim report 10% blast cells. We need to clarify bone marrow from February re: blast count to determine if accelerated vs blast and to see if there was response to 7+3 3/14: BONE MARROW:  Hypocellular marrow with panhypoplasia.  No evidence of acute myeloid leukemia.  Bone marrow aspirate smears are markedly hemodilute to reveal a few scattered blasts (approximately 5%) - At this point no plans for additional chemo. Monitor for count recovery and will discharge once recovered. Possible initiation of Gleevec in near future. 3/25: WBC 0.7. Still awaiting marrow recovery. Check differential today. Plan to repeat marrow 3/31 3/26: WBC slightly improved today at 1.2.  Will plan to perform a bone marrow biopsy on 3/31/2014 3/27: WBC 1.6. Check differential today. Add diff to CBC daily now 3/28: WBC 1.8 3/29:  WBC/ANC 2.4/).05  3/31 - WBC 7.3.  ANC 0.3.  Basophils 3.0.  Eos 1.4.  BMBX pending today. 4/01 - WBC 9.9.  ANC 1.0.  Basophils 4.3.  Eos 2.4.  Blasts 0.4.  BMBX result pending. 4/02 - WBC 12.5.  ANC 1.9.  Basophils 3.9.   (4/17) Hypocellular marrow (&lt;10%) with pan hypoplasia and no increase in blasts. Severe myelofibrosis.  Aspergillus platelia from BAL 4/3 :  0.18                                                     4/16:  Voriconazole level:  4/10 - 12.8                                     4/16 - 5.3                                                   ASSESSMENT AND PLAN:   CML Accelerated Phase vs Blast phase 2/26 - PAC placement in IR. Admit for 7+3 cytarabine/daunorubicin following BMBX.  2/27 - Tolerating therapy well.  WBC 20.2 today.  Bone marrow from 2/26 with 9% blasts. 2/28 - Tolerating Therapy well.  WBC 10.3 today. 3/01 - Tolerating therapy well.  WBC 5.1 3/2 - WBC 3.1 3/3: WBC: 1.3, ANC 200 3/3: WBC 2.3, ANC 1000 3/4 WBC 1.7 3/6: WBC 1000, ANC 200 3/7: ANC 0 3/10 WBC: 0.7 Plan for Day 14 marrow 3/12 3/11: Day 14 marrow today 3/13: Will review bone marrow with pathology. Prelim report 10% blast cells. We need to clarify bone marrow from February re: blast count to determine if accelerated vs blast and to see if there was response to 7+3 3/14: BONE MARROW:  Hypocellular marrow with panhypoplasia.  No evidence of acute myeloid leukemia.  Bone marrow aspirate smears are markedly hemodilute to reveal a few scattered blasts (approximately 5%) - At this point no plans for additional chemo. Monitor for count recovery and will discharge once recovered. Possible initiation of Gleevec in near future. 3/25: WBC 0.7. Still awaiting marrow recovery. Check differential today. Plan to repeat marrow 3/31 3/26: WBC slightly improved today at 1.2.  Will plan to perform a bone marrow biopsy on 3/31/2014 3/27: WBC 1.6. Check differential today. Add diff to CBC daily now 3/28: WBC 1.8 3/29:  WBC/ANC 2.4/).05  3/31 - WBC 7.3.  ANC 0.3.  Basophils 3.0.  Eos 1.4.  BMBX pending today. 4/01 - WBC 9.9.  ANC 1.0.  Basophils 4.3.  Eos 2.4.  Blasts 0.4.  BMBX result pending. 4/02 - WBC 12.5.  ANC 1.9.  Basophils 3.9.   Eos 3.1.  Blasts 0.3.  BMBX result pending. 4/03 - BMBX evidencing residual CML, accelerated phase.  Plan of care moving forward being discussed with Mr. Triplett. 4/04 - Awaiting possible enrollment on study with CPI 613. - Enrolled after informed consent and confirmation of eligibility 4/06 - completed two days of CPI by itself; continuing with CPI plus mitoxantrone plus cytarabine 4/08 - Chemotherapy ongoing.  To complete today. 4/10 - BMBX due 4/17. 4/13 - currently day 10 after salvage treatment. 4/17 - bone marrow bx today 4/21- final results of bone marrow biopsy show empty marrow 4/22 - started GCSF x 5 days to improve WBC recovery 4/25 - will continue GCSF until WBC recovery 4/26 - As above 4/29 - WBC count improving 0.9 today ANC 0.4 4/30 - WBC 1.3 5/1 - WBC 2.9, will discontinue Neupogen. 5/03 - Note differential; ominous development of basophilia (19%) and persistent circulating blasts off Neupogen--I am becoming increasingly pessimistic that he will achieve SP2: a BMBX is scheduled soon in accordance with the protocol that he is on. 5/04 - See above; also note elevated LDH 5/5 - BCR-PCR 210 sent today, sending peripheral blood for FISH and cyto  5/7 - BCR PCR still pending - differential with 1% blasts - patient understands that he has progressive disease and wishes to be DNR and discuss plans for discharge home with hospice care. 5/8 - BCR PCR confirms progressive disease (0.6327 on 5/5, 0.3662 on 4/3)  Tumor Lysis Syndrome Prophylaxis  2/26 - Allopurinol 300 mg daily. NS 125 ml/hr.  2/27-3/05 - no signs of TLS as this point, discontinue allopurinol and uric acid lab 4/03 - Resume allopurinol today. 4/07 - LDH 1321.  Uric acid 2.5.  Will repeat labs this PM. 4/08 - LDH 2092; suspect CPI 613.  Uric acid 2.0. 5/5 - LDH 433, Uric acid 5.0 5/6 - LDH 497, Uric acid 5.2  Pancytopenia, secondary to chemotherapy Continue to monitor CBC daily, Transfuse prophylactic to keep Hgb  Eos 3.1.  Blasts 0.3.  BMBX result pending. 4/03 - BMBX evidencing residual CML, accelerated phase.  Plan of care moving forward being discussed with Mr. Triplett. 4/04 - Awaiting possible enrollment on study with CPI 613. - Enrolled after informed consent and confirmation of eligibility 4/06 - completed two days of CPI by itself; continuing with CPI plus mitoxantrone plus cytarabine 4/08 - Chemotherapy ongoing.  To complete today. 4/10 - BMBX due 4/17. 4/13 - currently day 10 after salvage treatment. 4/17 - bone marrow bx today 4/21- final results of bone marrow biopsy show empty marrow 4/22 - started GCSF x 5 days to improve WBC recovery 4/25 - will continue GCSF until WBC recovery 4/26 - As above 4/29 - WBC count improving 0.9 today ANC 0.4 4/30 - WBC 1.3 5/1 - WBC 2.9, will discontinue Neupogen. 5/03 - Note differential; ominous development of basophilia (19%) and persistent circulating blasts off Neupogen--I am becoming increasingly pessimistic that he will achieve SP2: a BMBX is scheduled soon in accordance with the protocol that he is on. 5/04 - See above; also note elevated LDH 5/5 - BCR-PCR 210 sent today, sending peripheral blood for FISH and cyto  5/7 - BCR PCR still pending - differential with 1% blasts - patient understands that he has progressive disease and wishes to be DNR and discuss plans for discharge home with hospice care. 5/8 - BCR PCR confirms progressive disease (0.6327 on 5/5, 0.3662 on 4/3)  Tumor Lysis Syndrome Prophylaxis  2/26 - Allopurinol 300 mg daily. NS 125 ml/hr.  2/27-3/05 - no signs of TLS as this point, discontinue allopurinol and uric acid lab 4/03 - Resume allopurinol today. 4/07 - LDH 1321.  Uric acid 2.5.  Will repeat labs this PM. 4/08 - LDH 2092; suspect CPI 613.  Uric acid 2.0. 5/5 - LDH 433, Uric acid 5.0 5/6 - LDH 497, Uric acid 5.2  Pancytopenia, secondary to chemotherapy Continue to monitor CBC daily, Transfuse prophylactic to keep Hgb  &gt;7 2/28 - 1 PRBC today 3/01 - no transfusions today 3/2: 1 unit pRBC today 3/3: no blood transfusion today 3/4: no transfusion 3/5: Hgb 7.2. Asymptomatic. Likely blood tomorrow 3/6: 1 unit pRBC today 3/6: no transfusion today 3/9: 1 unit pRBC today. Secondary to chemotherapy 3/11: 1 unit pRBC today 3/14: transfuse as needed 3/15: 1 unit PRBC today 3/16: hold blood transfusion today and workup for hemolysis. Transfuse pRBC later today if symptomatic. Will transfuse platelet today. 3/17: marrow with poor recovery, retics inappropriately low. No evidence of hemolysis. Add folic acid 5mg POD for marrow support 3/18: responded to pRBC transfusion/platelet transfusion yesterday. Continue folic acid for marrow support. 3/19: no blood or platelets today. Monitor. 3/20: no blood or platelets today 3/21: platelets today 3/22: Hgb 7.4, plt 16. No transfusions needed 3/23: no platelets.  1 unit pRBC today given fatigue 3/24: plt 11K 3/25: platelets &gt;10K 3/26: No need for blood products today. 3/27: counts stable 3/29: Defer transfusions today 3/30:  Transfuse as symptomatic 3/31 - No transfusion support today 4/03 - Hgb 6.9.  1 unit PRBCs today. 4/5 - Hemoglobin 6.6 - Transfuse RBC&apos;s today 4/07 - Hemoglobin 6.8.  Transfuse per protocol.   4/08 - Hemoglobin 7.6.  Transfuse per protocol to goal of &gt;8. 4/09 - Hemoglobin 6.3.  Transfuse 2 units.  LDH elevated.  DAT, haptoglobin pending. 4/10 - Hemoglobin 6.3  Transfuse 2 units.  Platelets 9. Transfuse 2 units.  Haptoglobin WNL at 61.  DAT positive.  LDH improved at 2231.  Total bili 0.5.  Retic count pending. 4/11 - Responsive to last transfusion with hgb 8.3 today. Transfuse 1 unit platelets today given ongoing bleeding from skin tears and oral mucosa.  Repeat DAT tomorrow. 4/15 - DAT from 4/12 negative - platelets today for PAC removal. 4/16 PRBC for Hgb 7.9, platelets prior to bronch 4/19 give unit of platelets today.   4/20: WBC 0.3, ANC  &gt;7 2/28 - 1 PRBC today 3/01 - no transfusions today 3/2: 1 unit pRBC today 3/3: no blood transfusion today 3/4: no transfusion 3/5: Hgb 7.2. Asymptomatic. Likely blood tomorrow 3/6: 1 unit pRBC today 3/6: no transfusion today 3/9: 1 unit pRBC today. Secondary to chemotherapy 3/11: 1 unit pRBC today 3/14: transfuse as needed 3/15: 1 unit PRBC today 3/16: hold blood transfusion today and workup for hemolysis. Transfuse pRBC later today if symptomatic. Will transfuse platelet today. 3/17: marrow with poor recovery, retics inappropriately low. No evidence of hemolysis. Add folic acid 5mg POD for marrow support 3/18: responded to pRBC transfusion/platelet transfusion yesterday. Continue folic acid for marrow support. 3/19: no blood or platelets today. Monitor. 3/20: no blood or platelets today 3/21: platelets today 3/22: Hgb 7.4, plt 16. No transfusions needed 3/23: no platelets.  1 unit pRBC today given fatigue 3/24: plt 11K 3/25: platelets &gt;10K 3/26: No need for blood products today. 3/27: counts stable 3/29: Defer transfusions today 3/30:  Transfuse as symptomatic 3/31 - No transfusion support today 4/03 - Hgb 6.9.  1 unit PRBCs today. 4/5 - Hemoglobin 6.6 - Transfuse RBC&apos;s today 4/07 - Hemoglobin 6.8.  Transfuse per protocol.   4/08 - Hemoglobin 7.6.  Transfuse per protocol to goal of &gt;8. 4/09 - Hemoglobin 6.3.  Transfuse 2 units.  LDH elevated.  DAT, haptoglobin pending. 4/10 - Hemoglobin 6.3  Transfuse 2 units.  Platelets 9. Transfuse 2 units.  Haptoglobin WNL at 61.  DAT positive.  LDH improved at 2231.  Total bili 0.5.  Retic count pending. 4/11 - Responsive to last transfusion with hgb 8.3 today. Transfuse 1 unit platelets today given ongoing bleeding from skin tears and oral mucosa.  Repeat DAT tomorrow. 4/15 - DAT from 4/12 negative - platelets today for PAC removal. 4/16 PRBC for Hgb 7.9, platelets prior to bronch 4/19 give unit of platelets today.   4/20: WBC 0.3, ANC  100, Hgb 7.9, plt 5. Transfuse 1 unit of plt and 1 unit pRBC today 4/26: Appears to be recovering? WBC/ANC 500/200 4/30: Differential shows immature myeloids (possibly but not definitely a recovery phenomenon) and especially the eosinophilia &gt; basophilia; a BmBx is planned, as dictated by protocol. 5/7 - no bone marrow done as patient does not wish further therapy and evidence of progressive disease on peripheral blood  Anemia: tx for Hgb &lt; 8.0 gm/dL - 4/23, 4/25, 5/4 Thrombocytopenia: tx plts for plt count &lt; 20,000 - 4/22, 4/23, 4/25, 4/26, 4/27, 4/28,4/29,4/30,5/1,5/2, 5/3, 5/4  Neutropenic Fever/Pneumonia/PAC Insertion Site Infection - Vanc discontinued. Monitor closely 3/31 - Catheter site erythematous.  Blood culture x 2.  US chest wall.  Will consider PAC removal if indicated. 4/01 - Cefepime and vanc initiated.  BC pending.  CXR pending.  Will consider PAC removal. 4/02 - CXR showing poss infectious process.  Given respiratory distress and pleuritic pain, urgent CT chest revealed extensive bronchocentric micronodularity, interstitial thickening, scattered ground glass nodules, including spiculated nodule lingular measuring about 18 mm, consistent with the multilobar pneumonia, including atypical organism.  Awaiting BMBX and plan of care decisions.  Will consider pulm consult for possible bronch.  Continue antibiotics. 4/03 - Voriconazole added for fungal coverage.  BAL pending today. 4/04 - BAL negative or pending to date. 4/08 - Aspergillus galactomanan from BAL pending. 4/09 - Aspergillus galactomanan from BAL negative.  Consult ID. 4/11 - Continue cefepime/vori for now.  Repeat chest CT 4/14 per ID.  EKG periodically to monitor QTc.  Last 4/2 with QTc 451.  Pending today.  Vori trough pending from 4/10. 4//13 - He was recently switched from Cefepime to Meropenem due to suspicion of drug induced hemolytic anemia and hemolysis resolved.  He is now febrile and looking ill.  We will continue  100, Hgb 7.9, plt 5. Transfuse 1 unit of plt and 1 unit pRBC today 4/26: Appears to be recovering? WBC/ANC 500/200 4/30: Differential shows immature myeloids (possibly but not definitely a recovery phenomenon) and especially the eosinophilia &gt; basophilia; a BmBx is planned, as dictated by protocol. 5/7 - no bone marrow done as patient does not wish further therapy and evidence of progressive disease on peripheral blood  Anemia: tx for Hgb &lt; 8.0 gm/dL - 4/23, 4/25, 5/4 Thrombocytopenia: tx plts for plt count &lt; 20,000 - 4/22, 4/23, 4/25, 4/26, 4/27, 4/28,4/29,4/30,5/1,5/2, 5/3, 5/4  Neutropenic Fever/Pneumonia/PAC Insertion Site Infection - Vanc discontinued. Monitor closely 3/31 - Catheter site erythematous.  Blood culture x 2.  US chest wall.  Will consider PAC removal if indicated. 4/01 - Cefepime and vanc initiated.  BC pending.  CXR pending.  Will consider PAC removal. 4/02 - CXR showing poss infectious process.  Given respiratory distress and pleuritic pain, urgent CT chest revealed extensive bronchocentric micronodularity, interstitial thickening, scattered ground glass nodules, including spiculated nodule lingular measuring about 18 mm, consistent with the multilobar pneumonia, including atypical organism.  Awaiting BMBX and plan of care decisions.  Will consider pulm consult for possible bronch.  Continue antibiotics. 4/03 - Voriconazole added for fungal coverage.  BAL pending today. 4/04 - BAL negative or pending to date. 4/08 - Aspergillus galactomanan from BAL pending. 4/09 - Aspergillus galactomanan from BAL negative.  Consult ID. 4/11 - Continue cefepime/vori for now.  Repeat chest CT 4/14 per ID.  EKG periodically to monitor QTc.  Last 4/2 with QTc 451.  Pending today.  Vori trough pending from 4/10. 4//13 - He was recently switched from Cefepime to Meropenem due to suspicion of drug induced hemolytic anemia and hemolysis resolved.  He is now febrile and looking ill.  We will continue  voriconazole, meropenem, and add vancomycin coverage.  Cultures obtained. 4/14 - PAC site is erythematous and tender - will plan on removal in AM and place PICC for IV access. 4/15- remove PAC and place PICC - Chest xray shows resolving PNA. 4/16 - continues with fever - will reconsult ID, repeat chest CT and repeat bronchoscopy at 2:30 pm. 4/17 - awaiting bronch results RVP negative. Tessalon perls and Tussionex prn for cough. Albuterol nebs for wheezing. 4/19 - PAC site opened on 4/17 and now managing with wet to dry dressings.  4/20: continue to monitor PAC site with wet to dry dressings 4/25 - old PAC site healing well, d/c&apos;d wet to dry dressings to dry only 4/27 - Now red and inflamed, perhaps draining?  IR to reassess today. 4/28 - Going to IR today 4/29 - IR yesterday for assessment of PAC site, cleaned and packed in IR, wound consult called today 4/30 - Recommendations by wound team appreciated and orders placed, chest xray yesterday shows resolving pneumonia, with persistent small right pleural effusion.  5/5 - Continues on supplemental O2 (2L NC), Meropenem and voriconazole, chest xray from 5/4 with no significant change, similar scattered airspace opacities likely resolving/resolved pneumonia with residual scarring and persistent tiny right pleural effusion. 5/8 - right lower lung pain - prn oxycodone  Skin Alterations - 4/28 Pressure ulcer on buttocks, stage II, not present on admission  V tach-  4/19: continue to monitor electrolytes. Will trend troponin levels. Will replace electrolytes. Will monitor on telemetry. Consider cardiology consult if this happens again.  4/20: continue to monitor electrolytes. Monitor on telemetry, no additional episodes overnight 4/21 - 20 beat run of Vtach overnight with EKG showing ST changes and T wave inversion - evaluated by cardiology who did not feel ischemic evaluation warranted at this time - will change beta blocker as recommended.  Acute  voriconazole, meropenem, and add vancomycin coverage.  Cultures obtained. 4/14 - PAC site is erythematous and tender - will plan on removal in AM and place PICC for IV access. 4/15- remove PAC and place PICC - Chest xray shows resolving PNA. 4/16 - continues with fever - will reconsult ID, repeat chest CT and repeat bronchoscopy at 2:30 pm. 4/17 - awaiting bronch results RVP negative. Tessalon perls and Tussionex prn for cough. Albuterol nebs for wheezing. 4/19 - PAC site opened on 4/17 and now managing with wet to dry dressings.  4/20: continue to monitor PAC site with wet to dry dressings 4/25 - old PAC site healing well, d/c&apos;d wet to dry dressings to dry only 4/27 - Now red and inflamed, perhaps draining?  IR to reassess today. 4/28 - Going to IR today 4/29 - IR yesterday for assessment of PAC site, cleaned and packed in IR, wound consult called today 4/30 - Recommendations by wound team appreciated and orders placed, chest xray yesterday shows resolving pneumonia, with persistent small right pleural effusion.  5/5 - Continues on supplemental O2 (2L NC), Meropenem and voriconazole, chest xray from 5/4 with no significant change, similar scattered airspace opacities likely resolving/resolved pneumonia with residual scarring and persistent tiny right pleural effusion. 5/8 - right lower lung pain - prn oxycodone  Skin Alterations - 4/28 Pressure ulcer on buttocks, stage II, not present on admission  V tach-  4/19: continue to monitor electrolytes. Will trend troponin levels. Will replace electrolytes. Will monitor on telemetry. Consider cardiology consult if this happens again.  4/20: continue to monitor electrolytes. Monitor on telemetry, no additional episodes overnight 4/21 - 20 beat run of Vtach overnight with EKG showing ST changes and T wave inversion - evaluated by cardiology who did not feel ischemic evaluation warranted at this time - will change beta blocker as recommended.  Acute  respiratory failure: 4/18 Moved to BMT yesterday evening due to lethargy and dyspnea - continues with dyspnea and cough - PCO2 on serum is increasing (40). Obtain ABG.Continue diuresis. 4/20: continues to have cough, guaifenesin and tessalon pearl es. 4/25 - improving 5/1 - Continues on 2L O2; will try to wean his supplemental O2, keeping sats above 90. 05/03:  See above results; note his oxygen requirements are more or less unchanged; he may need home oxygen. 05/04:  I am unsure of the etiology of his pleural rubs but hope such is an inflammatory element of resolving PNA? 05/07,8:  Stable respiratory status on NC oxygen.  Pulmonary edema (chronic): 4/18 - continue diuresis as indicated. BN 2381.5  4/19- continue diuresis.  4/10: continue diuresis.  4/21: encourage patient to allow diuresis  4/23 - chest xray from 4/22 continues to show mild pulmonary edema - continue Lasix. 4/29 - IV lasix changed to oral, chest xray today (results pending) 5/1 - Chest xray show resolving PNA with persistent small right pleural effusion 5/8 - Right sides pain - will treat symptomatically with prn oxycodone  Mucositis 4/11 - Begin TPN with incorporation of potassium and magnesium supplements.  Oral medications transitioned to IV.  Morphine PCA started.  Currently daily use av 35 mg/day over last 3-4 days.  Converts to 17.5 mg/day Morphine.  Will start PCA at equivalent dose of basal 0.75 mg/hr with demand 1 mg every 30 minutes based on current morphine PRN available 2 mg every 2 hours.  Will monitor for sedation and pain control and titrate as needed. 4/15 - mucositis unchanged- continues to use MMWR 4/19 - improved - consider discontinuation of PCA 4/20: continues to improve. Continue current pain regimen 4/21: continue Morphine PCA - demand dose only. 4/22: per patient request dc PCA - manage pain with prn Oxycodone. 4/23 - resolved with residual dryness - able to eat.  Deconditioning 4/09 - PT ev al  respiratory failure: 4/18 Moved to BMT yesterday evening due to lethargy and dyspnea - continues with dyspnea and cough - PCO2 on serum is increasing (40). Obtain ABG.Continue diuresis. 4/20: continues to have cough, guaifenesin and tessalon pearl es. 4/25 - improving 5/1 - Continues on 2L O2; will try to wean his supplemental O2, keeping sats above 90. 05/03:  See above results; note his oxygen requirements are more or less unchanged; he may need home oxygen. 05/04:  I am unsure of the etiology of his pleural rubs but hope such is an inflammatory element of resolving PNA? 05/07,8:  Stable respiratory status on NC oxygen.  Pulmonary edema (chronic): 4/18 - continue diuresis as indicated. BN 2381.5  4/19- continue diuresis.  4/10: continue diuresis.  4/21: encourage patient to allow diuresis  4/23 - chest xray from 4/22 continues to show mild pulmonary edema - continue Lasix. 4/29 - IV lasix changed to oral, chest xray today (results pending) 5/1 - Chest xray show resolving PNA with persistent small right pleural effusion 5/8 - Right sides pain - will treat symptomatically with prn oxycodone  Mucositis 4/11 - Begin TPN with incorporation of potassium and magnesium supplements.  Oral medications transitioned to IV.  Morphine PCA started.  Currently daily use av 35 mg/day over last 3-4 days.  Converts to 17.5 mg/day Morphine.  Will start PCA at equivalent dose of basal 0.75 mg/hr with demand 1 mg every 30 minutes based on current morphine PRN available 2 mg every 2 hours.  Will monitor for sedation and pain control and titrate as needed. 4/15 - mucositis unchanged- continues to use MMWR 4/19 - improved - consider discontinuation of PCA 4/20: continues to improve. Continue current pain regimen 4/21: continue Morphine PCA - demand dose only. 4/22: per patient request dc PCA - manage pain with prn Oxycodone. 4/23 - resolved with residual dryness - able to eat.  Deconditioning 4/09 - PT ev al  and treat.  BK to chair at least daily.  Depression 4/11 - Consult onco psychosocial support; Dr. Duckworth to see. 4/17 - patient does not wish to start anti-depressant medication at this time.  HTN  Continue atenolol as per home.  04/02 - Hold at this time given recurrent hypotension with underlying infection. 4/21 - per cards reck - change Atenolol to metoprolol  FEN  Fluids per chemotherapy protocol.  House select diet.  4/01 - NS bolus then 125 ml/hr. 4/02 - NS to KLN for possible contribution of excess fluid to respirator distress.  No diuresis for now. 4/08 - Lasix 20 mg BID today. 4/09 - Lasix 20 mg BID today. 4/10 - Zaroxolyn/Lasix today. 4/16 - Zaroxolyn/Lasix today after PRBC 4/17 - continue w/overload - repeat Zaroxolyn/Lasix 4/19 - hypokalemia - replace IV  4/20: K of 3.9, no replacement needed 4/23 : Able to eat - dc TPN  Hypophosphatemia - replace 4/23, 4/30 Hypokalemia - replaced 4/30, 5/4, 5/6 Hypomagnesemia - replaced 4/29, 5/2, 5/5, 5/6  Papular Rash  Continue triamcinolone and hydroxyzine as per home routine.   Abdominal pain.  -D/C&apos;d zosyn.  -D/c&apos;d Cipro/flagyl due to GI distress and abnormal taste. Start Avelox  Diarrhea -resolved 4/16 - reports diarrhea with every trip to bathroom - resent stool for cdiff. 4/17 - stool for cdiff pending - having difficulty obtaining specimen. 4/18 - cdiff negative - only 1 stool yesterday 4/19: continue to monitor diarrhea.  4/20: diarrhea resolved   Rash Unclear etiology at this time, possible drug reaction.  Benadryl prn, and have instructed him to use triamcinolone/hydrocerin ointment BID. 3/16: Due to zosyn as rash appeared to worsen around admin times. D/C zosyn and start Cipro/flagyl 3/17: significantly improved. D/C steroids after today 3/18: completely resolved 3/20: Rash has returned. Unclear etiology. Initially thought secondary to pip/tazo but he has been off for several days now and on  and treat.  BK to chair at least daily.  Depression 4/11 - Consult onco psychosocial support; Dr. Duckworth to see. 4/17 - patient does not wish to start anti-depressant medication at this time.  HTN  Continue atenolol as per home.  04/02 - Hold at this time given recurrent hypotension with underlying infection. 4/21 - per cards reck - change Atenolol to metoprolol  FEN  Fluids per chemotherapy protocol.  House select diet.  4/01 - NS bolus then 125 ml/hr. 4/02 - NS to KLN for possible contribution of excess fluid to respirator distress.  No diuresis for now. 4/08 - Lasix 20 mg BID today. 4/09 - Lasix 20 mg BID today. 4/10 - Zaroxolyn/Lasix today. 4/16 - Zaroxolyn/Lasix today after PRBC 4/17 - continue w/overload - repeat Zaroxolyn/Lasix 4/19 - hypokalemia - replace IV  4/20: K of 3.9, no replacement needed 4/23 : Able to eat - dc TPN  Hypophosphatemia - replace 4/23, 4/30 Hypokalemia - replaced 4/30, 5/4, 5/6 Hypomagnesemia - replaced 4/29, 5/2, 5/5, 5/6  Papular Rash  Continue triamcinolone and hydroxyzine as per home routine.   Abdominal pain.  -D/C&apos;d zosyn.  -D/c&apos;d Cipro/flagyl due to GI distress and abnormal taste. Start Avelox  Diarrhea -resolved 4/16 - reports diarrhea with every trip to bathroom - resent stool for cdiff. 4/17 - stool for cdiff pending - having difficulty obtaining specimen. 4/18 - cdiff negative - only 1 stool yesterday 4/19: continue to monitor diarrhea.  4/20: diarrhea resolved   Rash Unclear etiology at this time, possible drug reaction.  Benadryl prn, and have instructed him to use triamcinolone/hydrocerin ointment BID. 3/16: Due to zosyn as rash appeared to worsen around admin times. D/C zosyn and start Cipro/flagyl 3/17: significantly improved. D/C steroids after today 3/18: completely resolved 3/20: Rash has returned. Unclear etiology. Initially thought secondary to pip/tazo but he has been off for several days now and on  Cipro/flagyl. He received steroids x 2 days. ?secondary delayed reaction to transfusions. Will ask derm to eval 3/21: appreciate derm input. No biopsy unless worsens. Cont hydrocortisone cream 3/23: improved. Continue hydrocortisone cream 3/24: resolved. Monitor  VTE Prophylaxis  Lovenox when not thrombocytopenic Otherwise ambulation  Hallucinations 5/4 May be related to opioids; changed his analgesia to Tramadol and will reassess.  5/5 Improving, no complaints of hallucinations and without confusion this morning.   Ethics  Full code 4/09 - Family meeting scheduled 4/10 at 1500. 4/11 - Family meeting yesterday with discussion of prognosis with family asking about hospice as well for future consideration.  May consider palliative consult as bridge as appropriate the future.  Continuing current plan at present.  Will continue with plan for family meeting weekly on Thursday&apos;s at 1500. 4/19 - Family does not feel need for scheduled meeting at this time. Will continue to update family as appropriate. 4/22- Family would like to meet again this week on 4/24. 4/24 - Met with family today for an update (Brother and Niece)  5/1 - Brother and niece updated this morning 5/5 - Discussed with Mr. Triplett today likelihood of disease progression and severely limited treatment options. He will discuss with family and SW regarding future/discharge plans.  5/6 - Family meeting planned for tomorrow at 4:00pm. 5/7 - Patient wishes to be DNR  Disposition: 5/8 DC home with family to Hospice at home care.   Electronically signed by: Mary B Lynch, NP 5/8/2014 9:27 AM  I have conducted a shared visit with Mid-Level Provider. I agree with the assessment and plan.  Kenneth Zamkoff   Still quite uncomfortable with inspiration Patient to be d/c to home hospice today for refractory A/P/BC-CML that has returned after multiple leukemia induction attempts Patient to reside with a family member upon  Cipro/flagyl. He received steroids x 2 days. ?secondary delayed reaction to transfusions. Will ask derm to eval 3/21: appreciate derm input. No biopsy unless worsens. Cont hydrocortisone cream 3/23: improved. Continue hydrocortisone cream 3/24: resolved. Monitor  VTE Prophylaxis  Lovenox when not thrombocytopenic Otherwise ambulation  Hallucinations 5/4 May be related to opioids; changed his analgesia to Tramadol and will reassess.  5/5 Improving, no complaints of hallucinations and without confusion this morning.   Ethics  Full code 4/09 - Family meeting scheduled 4/10 at 1500. 4/11 - Family meeting yesterday with discussion of prognosis with family asking about hospice as well for future consideration.  May consider palliative consult as bridge as appropriate the future.  Continuing current plan at present.  Will continue with plan for family meeting weekly on Thursday&apos;s at 1500. 4/19 - Family does not feel need for scheduled meeting at this time. Will continue to update family as appropriate. 4/22- Family would like to meet again this week on 4/24. 4/24 - Met with family today for an update (Brother and Niece)  5/1 - Brother and niece updated this morning 5/5 - Discussed with Mr. Triplett today likelihood of disease progression and severely limited treatment options. He will discuss with family and SW regarding future/discharge plans.  5/6 - Family meeting planned for tomorrow at 4:00pm. 5/7 - Patient wishes to be DNR  Disposition: 5/8 DC home with family to Hospice at home care.   Electronically signed by: Mary B Lynch, NP 5/8/2014 9:27 AM  I have conducted a shared visit with Mid-Level Provider. I agree with the assessment and plan.  Kenneth Zamkoff   Still quite uncomfortable with inspiration Patient to be d/c to home hospice today for refractory A/P/BC-CML that has returned after multiple leukemia induction attempts Patient to reside with a family member upon  discharge  Electronically signed by: Kenneth Zamkoff, MD 5/8/2014 12:33 PM    discharge Spent 15 minutes discussing discharge  Electronically signed by: Kenneth Zamkoff, MD 5/8/2014 12:33 PM    ')"
      ]
     },
     "execution_count": 28,
     "metadata": {},
     "output_type": "execute_result"
    }
   ],
   "source": [
    "all_texts_sorted = sorted(all_texts, key=lambda x: len(x))\n",
    "all_texts_sorted[0], all_texts_sorted[-1]"
   ]
  },
  {
   "cell_type": "code",
   "execution_count": null,
   "metadata": {},
   "outputs": [
    {
     "name": "stdout",
     "output_type": "stream",
     "text": [
      "2024-08-16 12:09:20.260053\n",
      "2024-08-16 12:24:30.281841\n"
     ]
    }
   ],
   "source": [
    "print(datetime.now())\n",
    "results = clf(all_texts_sorted, stride=16, ignore_labels=['NORMAL'], aggregation_strategy='max', batch_size=16)\n",
    "print(datetime.now())"
   ]
  },
  {
   "cell_type": "code",
   "execution_count": null,
   "metadata": {},
   "outputs": [
    {
     "data": {
      "text/plain": [
       "BertForTokenClassification(\n",
       "  (bert): BertModel(\n",
       "    (embeddings): BertEmbeddings(\n",
       "      (word_embeddings): Embedding(30522, 768, padding_idx=0)\n",
       "      (position_embeddings): Embedding(512, 768)\n",
       "      (token_type_embeddings): Embedding(2, 768)\n",
       "      (LayerNorm): LayerNorm((768,), eps=1e-12, elementwise_affine=True)\n",
       "      (dropout): Dropout(p=0.1, inplace=False)\n",
       "    )\n",
       "    (encoder): BertEncoder(\n",
       "      (layer): ModuleList(\n",
       "        (0-11): 12 x BertLayer(\n",
       "          (attention): BertAttention(\n",
       "            (self): BertSdpaSelfAttention(\n",
       "              (query): Linear(in_features=768, out_features=768, bias=True)\n",
       "              (key): Linear(in_features=768, out_features=768, bias=True)\n",
       "              (value): Linear(in_features=768, out_features=768, bias=True)\n",
       "              (dropout): Dropout(p=0.1, inplace=False)\n",
       "            )\n",
       "            (output): BertSelfOutput(\n",
       "              (dense): Linear(in_features=768, out_features=768, bias=True)\n",
       "              (LayerNorm): LayerNorm((768,), eps=1e-12, elementwise_affine=True)\n",
       "              (dropout): Dropout(p=0.1, inplace=False)\n",
       "            )\n",
       "          )\n",
       "          (intermediate): BertIntermediate(\n",
       "            (dense): Linear(in_features=768, out_features=3072, bias=True)\n",
       "            (intermediate_act_fn): GELUActivation()\n",
       "          )\n",
       "          (output): BertOutput(\n",
       "            (dense): Linear(in_features=3072, out_features=768, bias=True)\n",
       "            (LayerNorm): LayerNorm((768,), eps=1e-12, elementwise_affine=True)\n",
       "            (dropout): Dropout(p=0.1, inplace=False)\n",
       "          )\n",
       "        )\n",
       "      )\n",
       "    )\n",
       "  )\n",
       "  (dropout): Dropout(p=0.1, inplace=False)\n",
       "  (classifier): Linear(in_features=768, out_features=13, bias=True)\n",
       ")"
      ]
     },
     "execution_count": 32,
     "metadata": {},
     "output_type": "execute_result"
    }
   ],
   "source": [
    "model.eval()"
   ]
  },
  {
   "cell_type": "code",
   "execution_count": null,
   "metadata": {},
   "outputs": [
    {
     "name": "stdout",
     "output_type": "stream",
     "text": [
      "2024-08-16 15:22:47.637041\n",
      "2024-08-16 15:37:41.575946\n"
     ]
    }
   ],
   "source": [
    "print(datetime.now())\n",
    "with torch.no_grad():\n",
    "    results = clf(all_texts_sorted, stride=16, ignore_labels=['NORMAL'], aggregation_strategy='max', batch_size=16)\n",
    "print(datetime.now())"
   ]
  }
 ],
 "metadata": {
  "kernelspec": {
   "display_name": ".nlp",
   "language": "python",
   "name": "python3"
  },
  "language_info": {
   "codemirror_mode": {
    "name": "ipython",
    "version": 3
   },
   "file_extension": ".py",
   "mimetype": "text/x-python",
   "name": "python",
   "nbconvert_exporter": "python",
   "pygments_lexer": "ipython3",
   "version": "3.11.0"
  }
 },
 "nbformat": 4,
 "nbformat_minor": 2
}
