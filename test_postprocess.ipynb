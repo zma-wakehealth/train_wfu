{
 "cells": [
  {
   "cell_type": "code",
   "execution_count": 1,
   "metadata": {},
   "outputs": [
    {
     "name": "stderr",
     "output_type": "stream",
     "text": [
      "c:\\Users\\zhma\\Projects\\deid\\.venv\\Lib\\site-packages\\tqdm\\auto.py:21: TqdmWarning: IProgress not found. Please update jupyter and ipywidgets. See https://ipywidgets.readthedocs.io/en/stable/user_install.html\n",
      "  from .autonotebook import tqdm as notebook_tqdm\n"
     ]
    }
   ],
   "source": [
    "from transformers import AutoTokenizer, DataCollatorForTokenClassification\n",
    "from transformers import AutoModelForTokenClassification\n",
    "from transformers import TokenClassificationPipeline\n",
    "from utils import PreProcess\n",
    "import datasets\n",
    "from torch.utils.data import DataLoader\n",
    "import torch\n",
    "from datetime import datetime\n",
    "from IPython.display import HTML"
   ]
  },
  {
   "cell_type": "code",
   "execution_count": 2,
   "metadata": {},
   "outputs": [],
   "source": [
    "wfumodel = './checkpoint-8600'\n",
    "tokenizer = AutoTokenizer.from_pretrained(wfumodel)\n",
    "tokenizer.model_max_length = 128\n",
    "model = AutoModelForTokenClassification.from_pretrained(wfumodel)"
   ]
  },
  {
   "cell_type": "code",
   "execution_count": 3,
   "metadata": {},
   "outputs": [],
   "source": [
    "wfu_dataset = datasets.load_dataset('wfudata', trust_remote_code=True)\n",
    "all_text = wfu_dataset['test']['text']"
   ]
  },
  {
   "cell_type": "code",
   "execution_count": 4,
   "metadata": {},
   "outputs": [
    {
     "data": {
      "text/plain": [
       "758"
      ]
     },
     "execution_count": 4,
     "metadata": {},
     "output_type": "execute_result"
    }
   ],
   "source": [
    "len(all_text)"
   ]
  },
  {
   "cell_type": "code",
   "execution_count": 5,
   "metadata": {},
   "outputs": [],
   "source": [
    "tokenizer = AutoTokenizer.from_pretrained(wfumodel)\n",
    "tokenizer.model_max_length = 128\n",
    "model = AutoModelForTokenClassification.from_pretrained(wfumodel)\n",
    "data_collator = DataCollatorForTokenClassification(tokenizer=tokenizer)\n",
    "clf = TokenClassificationPipeline(model=model, tokenizer=tokenizer, device=0)"
   ]
  },
  {
   "cell_type": "code",
   "execution_count": 6,
   "metadata": {},
   "outputs": [
    {
     "data": {
      "text/plain": [
       "device(type='cuda', index=0)"
      ]
     },
     "execution_count": 6,
     "metadata": {},
     "output_type": "execute_result"
    }
   ],
   "source": [
    "model.device"
   ]
  },
  {
   "cell_type": "code",
   "execution_count": 7,
   "metadata": {},
   "outputs": [
    {
     "name": "stdout",
     "output_type": "stream",
     "text": [
      "2024-08-15 15:47:26.820220\n"
     ]
    },
    {
     "name": "stderr",
     "output_type": "stream",
     "text": [
      "c:\\Users\\zhma\\Projects\\deid\\.venv\\Lib\\site-packages\\transformers\\models\\bert\\modeling_bert.py:435: UserWarning: 1Torch was not compiled with flash attention. (Triggered internally at ..\\aten\\src\\ATen\\native\\transformers\\cuda\\sdp_utils.cpp:455.)\n",
      "  attn_output = torch.nn.functional.scaled_dot_product_attention(\n"
     ]
    },
    {
     "name": "stdout",
     "output_type": "stream",
     "text": [
      "2024-08-15 15:48:29.843033\n"
     ]
    }
   ],
   "source": [
    "print(datetime.now())\n",
    "results = clf(all_text, stride=16, ignore_labels=['NORMAL'], aggregation_strategy='max', batch_size=16)\n",
    "print(datetime.now())"
   ]
  },
  {
   "cell_type": "code",
   "execution_count": 8,
   "metadata": {},
   "outputs": [],
   "source": [
    "example_text = all_text[2]\n",
    "example_result = results[2]"
   ]
  },
  {
   "cell_type": "code",
   "execution_count": 9,
   "metadata": {},
   "outputs": [],
   "source": [
    "import sys\n",
    "# del sys.modules['obfuscator']\n",
    "from obfuscator import Obfuscator\n",
    "obfuscator = Obfuscator()"
   ]
  },
  {
   "cell_type": "code",
   "execution_count": 10,
   "metadata": {},
   "outputs": [
    {
     "data": {
      "text/plain": [
       "[{'entity_group': 'IDNUM',\n",
       "  'score': 0.99989796,\n",
       "  'word': 's19 - 18004',\n",
       "  'start': 21,\n",
       "  'end': 30},\n",
       " {'entity_group': 'DATE',\n",
       "  'score': 0.9998292,\n",
       "  'word': '6 / 21 / 2019',\n",
       "  'start': 41,\n",
       "  'end': 50},\n",
       " {'entity_group': 'NAME',\n",
       "  'score': 0.9998303,\n",
       "  'word': 'edward hal kincaid',\n",
       "  'start': 72,\n",
       "  'end': 90},\n",
       " {'entity_group': 'NAME',\n",
       "  'score': 0.9998336,\n",
       "  'word': 'farmer, sheila dianne',\n",
       "  'start': 111,\n",
       "  'end': 132},\n",
       " {'entity_group': 'NAME',\n",
       "  'score': 0.9998233,\n",
       "  'word': 'o. a. hassan',\n",
       "  'start': 388,\n",
       "  'end': 399},\n",
       " {'entity_group': 'NAME',\n",
       "  'score': 0.9998079,\n",
       "  'word': 'javier ariel laurini',\n",
       "  'start': 610,\n",
       "  'end': 630},\n",
       " {'entity_group': 'DATE',\n",
       "  'score': 0.9998233,\n",
       "  'word': '6 / 26 / 2019 14 : 57 : 09',\n",
       "  'start': 636,\n",
       "  'end': 654},\n",
       " {'entity_group': 'NAME',\n",
       "  'score': 0.9997913,\n",
       "  'word': 'o. a. hassan',\n",
       "  'start': 1079,\n",
       "  'end': 1090}]"
      ]
     },
     "execution_count": 10,
     "metadata": {},
     "output_type": "execute_result"
    }
   ],
   "source": [
    "example_result"
   ]
  },
  {
   "cell_type": "code",
   "execution_count": 11,
   "metadata": {},
   "outputs": [
    {
     "data": {
      "text/html": [
       "\n",
       "\n",
       "ACCESSION NUMBER:  S19-18004\n",
       "RECEIVED: 6/21/2019\n",
       "ORDERING PHYSICIAN:  EDWARD HAL KINCAID , MD\n",
       "PATIENT NAME:  FARMER, SHEILA DIANNE\n",
       "SURGICAL PATHOLOGY REPORT\n",
       "\n",
       "FINAL PATHOLOGIC DIAGNOSIS\n",
       "MICROSCOPIC EXAMINATION AND DIAGNOSIS\n",
       "\n",
       "&quot;AORTIC HEART VALVE&quot;, AORTIC VALVE REPLACEMENT:\n",
       "     Cardiac valve tissue with dystrophic calcification and\n",
       "myxoid degeneration.\n",
       "\n",
       " Report Prepared By:  O.A. Hassan, M.D.\n",
       "\n",
       "I have personally reviewed the slides and/or other related\n",
       "materials referenced, and have edited the report as part of my\n",
       "pathologic assessment and final interpretation.\n",
       "\n",
       "Electronically Signed Out By:   JAVIER ARIEL LAURINI , MD\n",
       "6/26/2019 14:57:09\n",
       "\n",
       "jal/oah\n",
       "\n",
       "Specimen(s) Received\n",
       " Heart Valve\n",
       "\n",
       "Clinical History\n",
       "Aortic valve stenosis\n",
       "\n",
       "\n",
       "\n",
       "\n",
       "Gross Description\n",
       "A. Received labeled &quot;Aortic Valve&quot; are 3 tan-white semilunar\n",
       "valve cusps, measuring 2.5 cm along the base and 1.5 cm from the\n",
       "free edge to base. The outflow surfaces of the cusps are notable\n",
       "for focal nodular calcifications. Sections of the semilunar valve\n",
       "cusps are submitted A1 following decalcification.\n",
       "\n",
       "O.A. HASSAN, M.D./oa\n",
       "\n",
       "\n",
       "\n",
       "\n",
       "\n"
      ],
      "text/plain": [
       "<IPython.core.display.HTML object>"
      ]
     },
     "execution_count": 11,
     "metadata": {},
     "output_type": "execute_result"
    }
   ],
   "source": [
    "HTML(example_text)"
   ]
  },
  {
   "cell_type": "code",
   "execution_count": 12,
   "metadata": {},
   "outputs": [
    {
     "data": {
      "text/html": [
       "\n",
       "\n",
       "ACCESSION NUMBER:  <span style=\"color:red\">F12-56340</span>\n",
       "RECEIVED: <span style=\"color:red\">06/20/19</span>\n",
       "ORDERING PHYSICIAN:  <span style=\"color:red\">JASMINE ISAAC WATSON</span> , MD\n",
       "PATIENT NAME:  <span style=\"color:red\">GIBSON, BLAKE SONIA</span>\n",
       "SURGICAL PATHOLOGY REPORT\n",
       "\n",
       "FINAL PATHOLOGIC DIAGNOSIS\n",
       "MICROSCOPIC EXAMINATION AND DIAGNOSIS\n",
       "\n",
       "&quot;AORTIC HEART VALVE&quot;, AORTIC VALVE REPLACEMENT:\n",
       "     Cardiac valve tissue with dystrophic calcification and\n",
       "myxoid degeneration.\n",
       "\n",
       " Report Prepared By:  <span style=\"color:red\">A.D. Harris</span>, M.D.\n",
       "\n",
       "I have personally reviewed the slides and/or other related\n",
       "materials referenced, and have edited the report as part of my\n",
       "pathologic assessment and final interpretation.\n",
       "\n",
       "Electronically Signed Out By:   <span style=\"color:red\">SONIA LILY GLOVER</span> , MD\n",
       "<span style=\"color:red\">06/25/2019 14:57:09 PM</span>\n",
       "\n",
       "jal/oah\n",
       "\n",
       "Specimen(s) Received\n",
       " Heart Valve\n",
       "\n",
       "Clinical History\n",
       "Aortic valve stenosis\n",
       "\n",
       "\n",
       "\n",
       "\n",
       "Gross Description\n",
       "A. Received labeled &quot;Aortic Valve&quot; are 3 tan-white semilunar\n",
       "valve cusps, measuring 2.5 cm along the base and 1.5 cm from the\n",
       "free edge to base. The outflow surfaces of the cusps are notable\n",
       "for focal nodular calcifications. Sections of the semilunar valve\n",
       "cusps are submitted A1 following decalcification.\n",
       "\n",
       "<span style=\"color:red\">A.D. HARRIS</span>, M.D./oa\n",
       "\n",
       "\n",
       "\n",
       "\n",
       "\n"
      ],
      "text/plain": [
       "<IPython.core.display.HTML object>"
      ]
     },
     "execution_count": 12,
     "metadata": {},
     "output_type": "execute_result"
    }
   ],
   "source": [
    "HTML(obfuscator.parse_and_hide(example_text, example_result, second_shift=-86400))"
   ]
  },
  {
   "cell_type": "code",
   "execution_count": 13,
   "metadata": {},
   "outputs": [
    {
     "data": {
      "text/plain": [
       "[{'entity_group': 'HOSPITAL',\n",
       "  'score': 0.99916697,\n",
       "  'word': 'diabetes care center',\n",
       "  'start': 0,\n",
       "  'end': 20},\n",
       " {'entity_group': 'NAME',\n",
       "  'score': 0.99957854,\n",
       "  'word': 'ashlin mcguinn',\n",
       "  'start': 22,\n",
       "  'end': 36},\n",
       " {'entity_group': 'DATE',\n",
       "  'score': 0.99979436,\n",
       "  'word': '2 / 27 / 14',\n",
       "  'start': 53,\n",
       "  'end': 60},\n",
       " {'entity_group': 'NAME',\n",
       "  'score': 0.9996427,\n",
       "  'word': 'ashlin',\n",
       "  'start': 313,\n",
       "  'end': 319},\n",
       " {'entity_group': 'NAME',\n",
       "  'score': 0.9996668,\n",
       "  'word': 'ashlin',\n",
       "  'start': 528,\n",
       "  'end': 534},\n",
       " {'entity_group': 'NAME',\n",
       "  'score': 0.99953794,\n",
       "  'word': 'ashlin',\n",
       "  'start': 607,\n",
       "  'end': 613},\n",
       " {'entity_group': 'NAME',\n",
       "  'score': 0.9995735,\n",
       "  'word': 'ashlin',\n",
       "  'start': 677,\n",
       "  'end': 683},\n",
       " {'entity_group': 'NAME',\n",
       "  'score': 0.99951994,\n",
       "  'word': 'ashlin',\n",
       "  'start': 718,\n",
       "  'end': 724},\n",
       " {'entity_group': 'NAME',\n",
       "  'score': 0.9995474,\n",
       "  'word': 'ashlin',\n",
       "  'start': 841,\n",
       "  'end': 847},\n",
       " {'entity_group': 'NAME',\n",
       "  'score': 0.99959296,\n",
       "  'word': 'ashlin',\n",
       "  'start': 886,\n",
       "  'end': 892},\n",
       " {'entity_group': 'NAME',\n",
       "  'score': 0.99956495,\n",
       "  'word': 'ashlin',\n",
       "  'start': 987,\n",
       "  'end': 993},\n",
       " {'entity_group': 'NAME',\n",
       "  'score': 0.99896514,\n",
       "  'word': 'ashlin',\n",
       "  'start': 1062,\n",
       "  'end': 1068},\n",
       " {'entity_group': 'LOCATION',\n",
       "  'score': 0.9994993,\n",
       "  'word': 'davidson county community college',\n",
       "  'start': 1108,\n",
       "  'end': 1141},\n",
       " {'entity_group': 'NAME',\n",
       "  'score': 0.99939406,\n",
       "  'word': 'ashlin',\n",
       "  'start': 1322,\n",
       "  'end': 1328},\n",
       " {'entity_group': 'NAME',\n",
       "  'score': 0.99875474,\n",
       "  'word': 'dawn',\n",
       "  'start': 1345,\n",
       "  'end': 1349},\n",
       " {'entity_group': 'DATE',\n",
       "  'score': 0.99943054,\n",
       "  'word': '12 / 31 / 13',\n",
       "  'start': 1406,\n",
       "  'end': 1414},\n",
       " {'entity_group': 'NAME',\n",
       "  'score': 0.7633257,\n",
       "  'word': 'ashlin & apos',\n",
       "  'start': 1442,\n",
       "  'end': 1453},\n",
       " {'entity_group': 'NAME',\n",
       "  'score': 0.9997044,\n",
       "  'word': 'ashlin',\n",
       "  'start': 1621,\n",
       "  'end': 1627},\n",
       " {'entity_group': 'NAME',\n",
       "  'score': 0.9997195,\n",
       "  'word': 'kathie cooper',\n",
       "  'start': 1923,\n",
       "  'end': 1936},\n",
       " {'entity_group': 'NAME',\n",
       "  'score': 0.9860036,\n",
       "  'word': 'kathleen cooper, rn, cde',\n",
       "  'start': 2012,\n",
       "  'end': 2036}]"
      ]
     },
     "execution_count": 13,
     "metadata": {},
     "output_type": "execute_result"
    }
   ],
   "source": [
    "example_text = all_text[3]\n",
    "example_result = results[3]\n",
    "example_result"
   ]
  },
  {
   "cell_type": "code",
   "execution_count": 14,
   "metadata": {},
   "outputs": [
    {
     "data": {
      "text/html": [
       "Diabetes Care Center  Ashlin McGuinn  Date of visit: 2/27/14    Insulin:  Multiple daily injections.   Basal Insulin: Lantus  15 units at bedtime     Insulin to Carb Ratios: 1 unit for 20 grams   Correction Scale:  200-250=1 unit; 250-300=2 units; 300-350=3 units   Insulin injections: abdomen      Hypoglycemia: Ashlin reports 1-2 episodes of low blood sugars a week. She states that she is consistently able to recognize these episodes. Her symptoms of hypoglycemia include: feeling shaky, hunger, confusion, r and sweating.  Ashlin has a current glucagon kit and has a medic alert bracelet.   Meal plan: Ashlin has a flexible meal plan and counts carbohydrates.   Exercise: Ashlin is moderately, physically active. Ashlin usually checks a blood sugar before vigorous exercise. This is when she seem to have moe low blood sugars.  Social: Ashlin lives with her parents and 2 sisters. Ashlin is a junior in high school; she is in her school&apos;s version of &quot;early college&quot;. Ashlin will have an associates degree when she graduates from high school  Ashlin is currently in the Promise Program at Davidson County Community College.     Weight today 160.9 lbs and 62&quot;  (last visit  157.6 lbs and 62&quot;)    Blood sugar summary (average of 108 with range from 62-233 with 4-5 checks per day)    I met with Ashlin and her mom and Dawn, to discuss her  type 1 diabetes which was diagnosed on 12/31/13. And her A1c was 8.9%..    Ashlin&apos;s biggest adjustment has been getting used to injections and eating changes.  She &quot;hates shots&quot;, but is doing much better now. We reviewed carb counting and Ashlin said that she is getting more comfortable with the help of her mom.    We did discuss stress and blood sugars.  She experienced a 67 after stress yesterday, although stress usually increases blood sugars. No changes were made since most blood sugars were within target.    Plan:   Return to see Kathie Cooper in 3 months   Call with questions or problems prior to next appointment    Kathleen Cooper, RN, CDE    "
      ],
      "text/plain": [
       "<IPython.core.display.HTML object>"
      ]
     },
     "execution_count": 14,
     "metadata": {},
     "output_type": "execute_result"
    }
   ],
   "source": [
    "HTML(example_text)"
   ]
  },
  {
   "cell_type": "code",
   "execution_count": 15,
   "metadata": {},
   "outputs": [
    {
     "data": {
      "text/html": [
       "<span style=\"color:red\">North Carolina Baptist Hospital</span>  <span style=\"color:red\">Nicola Ross</span>  Date of visit: <span style=\"color:red\">02-26-14</span>    Insulin:  Multiple daily injections.   Basal Insulin: Lantus  15 units at bedtime     Insulin to Carb Ratios: 1 unit for 20 grams   Correction Scale:  200-250=1 unit; 250-300=2 units; 300-350=3 units   Insulin injections: abdomen      Hypoglycemia: <span style=\"color:red\">Nicola</span> reports 1-2 episodes of low blood sugars a week. She states that she is consistently able to recognize these episodes. Her symptoms of hypoglycemia include: feeling shaky, hunger, confusion, r and sweating.  <span style=\"color:red\">Nicola</span> has a current glucagon kit and has a medic alert bracelet.   Meal plan: <span style=\"color:red\">Nicola</span> has a flexible meal plan and counts carbohydrates.   Exercise: <span style=\"color:red\">Nicola</span> is moderately, physically active. <span style=\"color:red\">Nicola</span> usually checks a blood sugar before vigorous exercise. This is when she seem to have moe low blood sugars.  Social: <span style=\"color:red\">Nicola</span> lives with her parents and 2 sisters. <span style=\"color:red\">Nicola</span> is a junior in high school; she is in her school&apos;s version of &quot;early college&quot;. <span style=\"color:red\">Nicola</span> will have an associates degree when she graduates from high school  <span style=\"color:red\">Nicola</span> is currently in the Promise Program at <span style=\"color:red\">HPMC LAB RESULTING AGENCY</span>.     Weight today 160.9 lbs and 62&quot;  (last visit  157.6 lbs and 62&quot;)    Blood sugar summary (average of 108 with range from 62-233 with 4-5 checks per day)    I met with <span style=\"color:red\">Nicola</span> and her mom and <span style=\"color:red\">Tracey</span>, to discuss her  type 1 diabetes which was diagnosed on <span style=\"color:red\">Dec 30, 2013</span>. And her A1c was 8.9%..    <span style=\"color:red\">Nicola&apos</span>;s biggest adjustment has been getting used to injections and eating changes.  She &quot;hates shots&quot;, but is doing much better now. We reviewed carb counting and <span style=\"color:red\">Nicola</span> said that she is getting more comfortable with the help of her mom.    We did discuss stress and blood sugars.  She experienced a 67 after stress yesterday, although stress usually increases blood sugars. No changes were made since most blood sugars were within target.    Plan:   Return to see <span style=\"color:red\">Gavin Wright</span> in 3 months   Call with questions or problems prior to next appointment    <span style=\"color:red\">Welch Joseph, RN, CDE</span>    "
      ],
      "text/plain": [
       "<IPython.core.display.HTML object>"
      ]
     },
     "execution_count": 15,
     "metadata": {},
     "output_type": "execute_result"
    }
   ],
   "source": [
    "HTML(obfuscator.parse_and_hide(example_text, example_result, second_shift=-86400))"
   ]
  },
  {
   "cell_type": "code",
   "execution_count": 16,
   "metadata": {},
   "outputs": [
    {
     "name": "stdout",
     "output_type": "stream",
     "text": [
      "not parsed 6/30/2017 12/30/2016\n",
      "not parsed 12/30/2017 12/30/2016\n",
      "not parsed md10/23/2012 11:59:17\n",
      "not parsed (march of 2017\n",
      "not parsed (05/16/2018\n",
      "not parsed (march of 2017\n",
      "error in age -- {curr_span} ---\n",
      "error in age -- {curr_span} ---\n",
      "not parsed 4/21/2015 5/12/2015 5/26/2015\n",
      "not parsed :  4/19/2016\n",
      "not parsed 2002     2003\n",
      "not parsed 1/12/2016 1/13/2016 3/4/2016 4/19/2016\n",
      "not parsed 5/27/2015 1/12/2016 4/19/2016\n",
      "not parsed :  3/7/2013\n",
      "not parsed 2/7/2013 3/7/2013 3/28/2013\n",
      "not parsed 17 13 15\n",
      "not parsed 17 15 15\n",
      "not parsed 10/12/2011 10/12/2010\n",
      "not parsed 9/1/2015 1/22/2015\n",
      "not parsed 1/1/2016 1/1/2006\n",
      "not parsed 10/25/12electronic\n",
      "not parsed (1/10/17\n",
      "not parsed 09/09/13electronic\n",
      "not parsed 05/24/19 1.\n",
      "not parsed (06/2015\n",
      "not parsed 1980 - 2015\n",
      "not parsed 12/11/2017 1/23/2018 2/27/2018\n",
      "not parsed md10/20/2012 06:59:24\n",
      "not parsed 08/10/12          -7 / -7\n",
      "not parsed 08/10/12          -7 / -7\n",
      "error in age -- {curr_span} ---\n",
      "not parsed 4/11/\n",
      "not parsed oob-13:02\n",
      "if-13:25\n",
      "not parsed md10/27/2012\n",
      "14:26:58\n",
      "not parsed 01/02/14electronic\n",
      "not parsed (1995\n",
      "not parsed (1995\n",
      "not parsed (1995\n",
      "not parsed (7/30\n",
      "not parsed 47/262\n",
      "not parsed 03/18/2017 3/18/2016\n",
      "not parsed 09/01/2019 10/11/2018\n",
      "not parsed 10/11/2019 10/11/2018\n",
      "not parsed 01/30/2020 7/30/2019\n",
      "not parsed 01/30/2020 7/30/2019\n",
      "not parsed 07/30/2020 7/30/2019\n",
      "not parsed 12/2/2015when\n",
      "not parsed 26/15\n",
      "not parsed 12/18/17 1452 12/18/17 1453 12/18/17 1454\n",
      "not parsed 12/18/2017    co2 27 12/18/2017\n",
      "not parsed (8/13/15\n",
      "not parsed (9/2015\n",
      "not parsed (4/2016\n",
      "not parsed (4/18/16\n",
      "not parsed (5/9/16\n",
      "not parsed (6/22/17\n",
      "not parsed md10/18/2012\n",
      "14:04:06\n",
      "not parsed 04/05/13electronic\n",
      "not parsed end of march\n",
      "not parsed 2015    constipion 2015\n",
      "not parsed (2012\n",
      "error in age -- {curr_span} ---\n",
      "not parsed /24 hours\n",
      "not parsed 11/26/2012                  1/14/2013                    2/4/2013                2/25/2013\n",
      "not parsed -         october 2012    april 2013\n",
      "not parsed 10/31 through 12/28/2012\n",
      "not parsed 2000    depression 1977\n",
      "not parsed 6/28/2011 12/3/2013\n",
      "not parsed 17 12\n",
      "not parsed (3/24/15\n",
      "not parsed (7/24/14\n",
      "not parsed (7/8/14\n",
      "not parsed (7/24/14\n",
      "not parsed (3/24/15\n",
      "not parsed 23 (3/24/15\n",
      "not parsed (9/24/05\n",
      "not parsed six months\n",
      "not parsed 7/24/2014 27  11\n",
      "not parsed md10/23/2012 12:58:26\n",
      "error in age -- {curr_span} ---\n",
      "not parsed ndv 1982\n",
      "not parsed 08/07/2019    co2 30 08/07/2019\n",
      "not parsed : 5/26/2015\n",
      "error in age -- {curr_span} ---\n",
      "not parsed (july 2010\n",
      "not parsed 5/19/2015 5/22/2015 5/22/2015 5/26/2015\n",
      "not parsed 5/7/2015 5/14/2015 5/21/2015\n",
      "not parsed 1/20/2016 1/27/2016 2/17/2016\n",
      "not parsed (1/25/16\n",
      "not parsed 104/48\n",
      "not parsed 112/40\n",
      "not parsed 02/12/13electronic\n",
      "not parsed month\n",
      "not parsed may and august\n",
      "not parsed (4/22/19\n",
      "not parsed md10/24/2012 19:46:22\n",
      "not parsed 1980&apos\n",
      "not parsed s\n",
      "not parsed 9/19/13    9/19/13\n",
      "not parsed 9/1/2012 9/29/2011\n",
      "not parsed 12/06/12electronic\n",
      "not parsed 01/27/15 0854 01/27/15 0923\n",
      "not parsed md10/23/2012 15:45:09\n",
      "not parsed 07/01/13electronic\n",
      "not parsed (3/16/18\n",
      "not parsed (3/16/18\n",
      "not parsed (1/21/18\n",
      "not parsed (jan 2018\n",
      "not parsed (jan 2018\n",
      "not parsed jan - april 2017\n",
      "not parsed 12/24/13electronic\n",
      "not parsed 07/04/13electronic\n",
      "not parsed /\n",
      "not parsed 1610093  12/27/1968\n",
      "not parsed 12/14 2/11/2015\n",
      "not parsed 6/5/2018, 12/5/2017, 5/16/2017\n",
      "not parsed 07/29/12electronic\n",
      "not parsed scoliosis, 5/11/2020 1:36 pm\n",
      "not parsed .\n",
      "not parsed md10/25/2012 16:14:18\n",
      "not parsed the 1990s\n",
      "not parsed 1990s\n",
      "not parsed 3/28/14  3/28/14\n",
      "not parsed - 4/25 - 5/1\n",
      "not parsed 3/28/14: 0.4787\n",
      "not parsed 4/25-5/1/14\n",
      "not parsed 5/5/2015 9/8/2015 12/18/2015 3/15/2016\n",
      "not parsed august 2013 - march 2014\n",
      "not parsed 4/25-5/1/14\n",
      "not parsed scoliosis,1/15/2019 1:02 pm\n",
      "not parsed (2016\n",
      "not parsed 9/1/1966  01/22/2015  4:20 pm\n",
      "not parsed 1 week\n",
      "not parsed : 3/10/2016\n",
      "not parsed (12/3/2007\n",
      "not parsed 02/07/16  0050 02/08/16  0048 02/09/16  0419\n",
      "not parsed 02/07/16  0050 02/08/16  0043 02/09/16  0419\n",
      "not parsed (10/8/15\n",
      "error in age -- {curr_span} ---\n",
      "not parsed md10/22/2012 17:52:51\n",
      "not parsed 02/18/13electronic\n",
      "not parsed 12/06/2020    co2 23 12/06/2020\n",
      "not parsed d 10/11/2012 13:37:46\n",
      "not parsed 10/26-11/21/14\n",
      "not parsed 11/24-11/26\n",
      "not parsed 11/26-12/2/14\n",
      "not parsed 11/26-12/2/14\n",
      "not parsed 1/27/2015 1/27/2015\n",
      "not parsed (10/10/14\n",
      "not parsed (1/20/15\n",
      "not parsed (10/10/14\n",
      "not parsed (1/20/15\n",
      "not parsed 2014/2015\n",
      "not parsed 80/48\n",
      "not parsed 04/16/21  0120 04/17/21  0559 04/18/21  0633 04/19/21  0527\n",
      "not parsed 04/16/21  0120 04/19/21  0527\n",
      "not parsed 04/13/21  1608 04/14/21  0403 04/16/21  0120 04/16/21  1614 04/17/21  0559 04/17/21  1344 04/18/21  0633 04/19/21  0527\n",
      "not parsed 596\n",
      "not parsed 06/03/13electronic\n",
      "not parsed 7/5/17-11/8/17\n",
      "not parsed md10/24/2012\n",
      "14:19:16\n",
      "not parsed phology5/17/2016 16:52:28\n",
      "not parsed (4/24/18\n",
      "error in age -- {curr_span} ---\n",
      "not parsed :  5/14/2013\n",
      "not parsed 2/14/2013- 3/25/13\n",
      "not parsed 2/16/13- 3/20/13\n",
      "not parsed 3/22/2013 3/29/2013 5/14/2013\n",
      "not parsed 2/14/2013- 3/25/13\n",
      "not parsed 2/16/13- 3/20/13\n",
      "not parsed (05/15/2013\n",
      "not parsed :  4/16/2013\n",
      "not parsed 10/17/2012 11/20/2012 12/13/2012 4/16/\n",
      "not parsed (7/17/17\n",
      "not parsed (9/25/17\n",
      "not parsed (2/19/18\n",
      "not parsed 02/05/18 69   12/11/17 86   12/10/17\n",
      "not parsed 12/18/13 - 12/20/13\n",
      "not parsed 1980s\n",
      "not parsed : 5/26/2015\n",
      "not parsed 03/12/15 122/42   03/10/15\n",
      "not parsed 3/11/2015 3/12/2015 5/26/2015\n",
      "not parsed 1/a/2015\n",
      "not parsed 3/10/1015\n",
      "not parsed 10/18/20  moi\n",
      "not parsed 9: 0-130\n",
      "not parsed 10-12: 0\n",
      "not parsed /\n"
     ]
    }
   ],
   "source": [
    "outputs = []\n",
    "for text, result in zip(all_text, results):\n",
    "    outputs.append(obfuscator.parse_and_hide(text, result, -86400))"
   ]
  },
  {
   "cell_type": "code",
   "execution_count": 17,
   "metadata": {},
   "outputs": [
    {
     "data": {
      "text/html": [
       "\n",
       "\n",
       "ACCESSION NUMBER:  <span style=\"color:red\">X39-75878</span>\n",
       "RECEIVED: <span style=\"color:red\">06/20/2019</span>\n",
       "ORDERING PHYSICIAN:  <span style=\"color:red\">BERNADETTE CONNOR CHURCHILL</span> , MD\n",
       "PATIENT NAME:  <span style=\"color:red\">MACDONALD, TRACEY ISAAC</span>\n",
       "SURGICAL PATHOLOGY REPORT\n",
       "\n",
       "FINAL PATHOLOGIC DIAGNOSIS\n",
       "MICROSCOPIC EXAMINATION AND DIAGNOSIS\n",
       "\n",
       "&quot;AORTIC HEART VALVE&quot;, AORTIC VALVE REPLACEMENT:\n",
       "     Cardiac valve tissue with dystrophic calcification and\n",
       "myxoid degeneration.\n",
       "\n",
       " Report Prepared By:  <span style=\"color:red\">S.A. Fraser</span>, M.D.\n",
       "\n",
       "I have personally reviewed the slides and/or other related\n",
       "materials referenced, and have edited the report as part of my\n",
       "pathologic assessment and final interpretation.\n",
       "\n",
       "Electronically Signed Out By:   <span style=\"color:red\">RACHEL PIERS ANDERSON</span> , MD\n",
       "<span style=\"color:red\">06/25/19 14:57:09 PM</span>\n",
       "\n",
       "jal/oah\n",
       "\n",
       "Specimen(s) Received\n",
       " Heart Valve\n",
       "\n",
       "Clinical History\n",
       "Aortic valve stenosis\n",
       "\n",
       "\n",
       "\n",
       "\n",
       "Gross Description\n",
       "A. Received labeled &quot;Aortic Valve&quot; are 3 tan-white semilunar\n",
       "valve cusps, measuring 2.5 cm along the base and 1.5 cm from the\n",
       "free edge to base. The outflow surfaces of the cusps are notable\n",
       "for focal nodular calcifications. Sections of the semilunar valve\n",
       "cusps are submitted A1 following decalcification.\n",
       "\n",
       "<span style=\"color:red\">S.A. FRASER</span>, M.D./oa\n",
       "\n",
       "\n",
       "\n",
       "\n",
       "\n"
      ],
      "text/plain": [
       "<IPython.core.display.HTML object>"
      ]
     },
     "execution_count": 17,
     "metadata": {},
     "output_type": "execute_result"
    }
   ],
   "source": [
    "HTML(outputs[2])"
   ]
  },
  {
   "cell_type": "code",
   "execution_count": 18,
   "metadata": {},
   "outputs": [
    {
     "data": {
      "text/html": [
       "\n",
       "\n",
       "ACCESSION NUMBER:  S12-24648\n",
       "RECEIVED: 10/19/2012\n",
       "ORDERING PHYSICIAN:  LISA RENEE DAVID , MD\n",
       "PATIENT NAME:  CALDERONRAMOS, YOANA 000\n",
       "SURGICAL PATHOLOGY REPORT\n",
       "\n",
       "FINAL PATHOLOGIC DIAGNOSIS\n",
       "***MICROSCOPIC EXAMINATION AND DIAGNOSIS***\n",
       "\n",
       "CYST, RIGHT ARM; EXCISION:\n",
       "     Pilomatrixoma.\n",
       "     See Comment.\n",
       "\n",
       "COMMENT:\n",
       "Focal calcification and abundant foreign body giant cell reaction\n",
       "are associated with the pilomatrixoma.\n",
       "\n",
       " Report Prepared By:  J. K. PHILIP, M.D.\n",
       "\n",
       "I have personally reviewed the slides and/or other related\n",
       "materials referenced, and have edited the report as part of my\n",
       "pathologic assessment and final interpretation.\n",
       "\n",
       "***Electronically Signed Out By:   KIMBERLY STOGNER-UNDERWOOD ,\n",
       "MD10/23/2012 11:59:17***\n",
       "\n",
       "ks/ks\n",
       "\n",
       "Specimen(s) Received\n",
       "Dermoid cyst right arm\n",
       "\n",
       "Clinical History\n",
       "Preoperative diagnosis: Cyst, right forearm\n",
       "\n",
       "\n",
       "\n",
       "\n",
       "Gross Description\n",
       "Received labeled &quot;dermoid cyst right arm&quot; is a 1.2 x 0.8 x 0.6 cm\n",
       "tan pink soft tissue fragment. On sectioning there is a 0.8 cm\n",
       "cystlike structure partially filled with granular tan-yellow\n",
       "friable material. Specimen is sectioned and entirely submitted in\n",
       "A1.\n",
       "\n",
       "Shawn H. Pustay, M.S., P.A./shp\n",
       "\n",
       "\n",
       "\n",
       "\n",
       "\n"
      ],
      "text/plain": [
       "<IPython.core.display.HTML object>"
      ]
     },
     "execution_count": 18,
     "metadata": {},
     "output_type": "execute_result"
    }
   ],
   "source": [
    "HTML(all_text[10])"
   ]
  },
  {
   "cell_type": "code",
   "execution_count": 19,
   "metadata": {},
   "outputs": [
    {
     "data": {
      "text/html": [
       "\n",
       "\n",
       "ACCESSION NUMBER:  <span style=\"color:red\">E61-01827</span>\n",
       "RECEIVED: <span style=\"color:red\">10-18-2012</span>\n",
       "ORDERING PHYSICIAN:  <span style=\"color:red\">EMMA BRANDON GRANT</span> , MD\n",
       "PATIENT NAME:  <span style=\"color:red\">SIMPSON, OWEN Isaac</span>\n",
       "SURGICAL PATHOLOGY REPORT\n",
       "\n",
       "FINAL PATHOLOGIC DIAGNOSIS\n",
       "***MICROSCOPIC EXAMINATION AND DIAGNOSIS***\n",
       "\n",
       "CYST, RIGHT ARM; EXCISION:\n",
       "     Pilomatrixoma.\n",
       "     See Comment.\n",
       "\n",
       "COMMENT:\n",
       "Focal calcification and abundant foreign body giant cell reaction\n",
       "are associated with the pilomatrixoma.\n",
       "\n",
       " Report Prepared By:  <span style=\"color:red\">K. R. HAMILTON</span>, M.D.\n",
       "\n",
       "I have personally reviewed the slides and/or other related\n",
       "materials referenced, and have edited the report as part of my\n",
       "pathologic assessment and final interpretation.\n",
       "\n",
       "***Electronically Signed Out By:   <span style=\"color:red\">SIMON INCE</span> ,\n",
       "<span style=\"color:red\">md10/23/2012 11:59:17</span>***\n",
       "\n",
       "ks/ks\n",
       "\n",
       "Specimen(s) Received\n",
       "Dermoid cyst right arm\n",
       "\n",
       "Clinical History\n",
       "Preoperative diagnosis: Cyst, right forearm\n",
       "\n",
       "\n",
       "\n",
       "\n",
       "Gross Description\n",
       "Received labeled &quot;dermoid cyst right arm&quot; is a 1.2 x 0.8 x 0.6 cm\n",
       "tan pink soft tissue fragment. On sectioning there is a 0.8 cm\n",
       "cystlike structure partially filled with granular tan-yellow\n",
       "friable material. Specimen is sectioned and entirely submitted in\n",
       "A1.\n",
       "\n",
       "<span style=\"color:red\">Stephen S. Churchill</span>, M.S., P.A./shp\n",
       "\n",
       "\n",
       "\n",
       "\n",
       "\n"
      ],
      "text/plain": [
       "<IPython.core.display.HTML object>"
      ]
     },
     "execution_count": 19,
     "metadata": {},
     "output_type": "execute_result"
    }
   ],
   "source": [
    "HTML(outputs[10])"
   ]
  },
  {
   "cell_type": "code",
   "execution_count": 20,
   "metadata": {},
   "outputs": [
    {
     "data": {
      "text/html": [
       "Ratchford, Darlene  51 y.o.  MRN797926    ASSESSMENT / PLAN    1) Menorrhagia, 15 wk size fibroids, anemia requiring iron infusions / transfusion and h/o LEEP:    &gt; U/s today shows 14 cm uterus with irregular, thickened endometrium of 21 mm and multiple fibroids, several in the 3-4 cm range.  &gt; Last hgb 3/2/17 was 10.4 - encouraged iron daily  &gt; EMBX done today to r/o hyperplasia, r/o cancer and will call pt w/ results.   &gt; Would rec TAH/BS as uterus is too large for ablation -- will set up surgery in June.  &gt; Treat with Provera 10mg, 2 po daily x 5 days as she may also be anovulatory.    2) Nonspecific autoimmune disorder on daily steroids:  &gt; WILL NEED STRESS DOSE STEROIDS DAY OF SURGERY DUE TO CHRONIC DAILY PREDNISONE 1.5 MG DAILY  &gt; Discussed impaired healing from daily steroids - pt had h/o wound dehiscence after lap chole 2014    3) Keloid:  &gt; Pt developed keloid at one of port sites after laparoscopy - discussed possible recurrence of keloid    Jill Michelle Wagner, MD    _____________________________________________________________________________________________________________________________________________      Chief Complaint   Patient presents with    Follow-up     TVUS and embx         HPI  51 yo G1P1 with known uterine fibroids, menorrhagia, and anemia requiring transfusion as well as iron infusions (recently) who presents for TVUS and EMBx.   Has been bleeding on/off for 2 wks.  On daily prednisone 1.5mg through PCP for unspecified chronic autoimmune problem.  Chart says pt is diabetic but pt says she&apos;s only pre-diabetic; nonetheless, she&apos;s on Metformin 500mg daily and last hgbA1c was 5.1.      ROS  (+)Irregular heavy bleeding; all other ROS was negative    Current Outpatient Prescriptions   Medication Sig Dispense Refill    gabapentin (NEURONTIN) 300 MG capsule Take 300 mg by mouth 3 times daily.      lansoprazole (PREVACID) 15 MG capsule Take 15 mg by mouth daily.      lisinopril  (PRINIVIL,ZESTRIL) 10 MG tablet Take 10 mg by mouth daily.      metFORMIN (GLUCOPHAGE) 500 MG tablet Take 1 tablet (500 mg total) by mouth daily. 30 tablet 5    multivitamin (THERAGRAN) per tablet Take 1 tablet by mouth daily.      naproxen (NAPROSYN) 500 MG tablet Take 500 mg by mouth 2 times daily. TAKE ONE TABLET TWICE A DAY WITH MEALS      potassium chloride (KLOR-CON-M, K-DUR) 10 MEQ extended release tablet Take 20 mEq by mouth daily. TAKE ONE TABLET EVERY TWELVE HOURS      predniSONE (DELTASONE) 10 MG tablet TAKE 1.5 TABLET DAILY 45 tablet 5    triamterene-hydrochlorothiazide (DYAZIDE) 37.5-25 mg per capsule TAKE 1 CAPSULE DAILY. 30 capsule 5    iron polysaccharides (FERREX 150) 150 mg iron capsule Take 1 capsule (150 mg total) by mouth daily for 30 days. 30 capsule 11     No current facility-administered medications for this visit.        No Known Allergies    Past Medical History:   Diagnosis Date    Arthritis     Cervical dysplasia     Cholelithiasis     Hypertension        Past Surgical History:   Procedure Laterality Date    CHOLECYSTECTOMY      cystoscopy with pyeloscopy with manipulation of calculus      WISDOM TOOTH EXTRACTION         No family history on file.    Social History     Social History    Marital status: Divorced     Spouse name: N/A    Number of children: N/A    Years of education: N/A     Social History Main Topics    Smoking status: Never Smoker    Smokeless tobacco: Never Used    Alcohol use No    Drug use: No    Sexual activity: Not Currently     Birth control/ protection: None     Other Topics Concern    None     Social History Narrative     _____________________________________________________________________    Vitals:    05/12/17 1135   BP: 112/70   Height: 5&apos; 4&quot; (1.626 m)   Weight: 219 lb (99.3 kg)   BMI (Calculated): 37.7       EXAM:    General appearance: obese, well nourished, well hydrated, no acute distress  Gastrointestinal:    Abdomen: soft,  non-tender, no masses, bowel sounds normal, no CVA tenderness   Liver and spleen: no enlargement or nodularity   Hernia: no hernias  Genitourinary:    External genitalia: Normal, no lesions or discharge.  Normal Bartholin&apos;s and Skene&apos;s glands   Urethra: no discharge   Bladder: well supported   Vagina:  Mucosa without lesions, ulcerations.     Cervix:  Normal appearance, without lesions or discharge   Uterus:  15 wk size uterus, mobile, nontender.    Adnexa: no masses or tenderness  Lymphatic:    Groin: no inguinal adenopathy   Misc. lymph nodes: no other adenopathy   Skin Inspection: no rashes, lesions, or ulcerations  Mental Status Exam:    Judgment, insight: intact   Orientation: oriented to time, place, and person   Mood and affect: no depression, anxiety, or agitation            Procedure note for EMBX  Indication: menorrhagia / enlarged uterus  After written consent, cervix cleansed with betadine and anterior lip of cervix grasped with single tooth tenaculum. Endometrial pipelle used to obtain sample and moderate amount of tissue retrieved.  Patient tolerated procedure well. Will call pt with results.      Electronically signed by: Jill Michelle Wagner, MD 5/12/2017 11:44 AM    Electronically signed by: Jill Michelle Wagner, MD  06/11/17 1637   "
      ],
      "text/plain": [
       "<IPython.core.display.HTML object>"
      ]
     },
     "execution_count": 20,
     "metadata": {},
     "output_type": "execute_result"
    }
   ],
   "source": [
    "HTML(all_text[20])"
   ]
  },
  {
   "cell_type": "code",
   "execution_count": 21,
   "metadata": {},
   "outputs": [
    {
     "data": {
      "text/html": [
       "<span style=\"color:red\">Carr, Matt</span>  <span style=\"color:red\">51</span> y.o.  <span style=\"color:red\">RLX804457</span>    ASSESSMENT / PLAN    1) Menorrhagia, 15 wk size fibroids, anemia requiring iron infusions / transfusion and h/o LEEP:    &gt; U/s today shows 14 cm uterus with irregular, thickened endometrium of 21 mm and multiple fibroids, several in the 3-4 cm range.  &gt; Last hgb <span style=\"color:red\">Mar 01 2017</span> was 10.4 - encouraged iron daily  &gt; EMBX done today to r/o hyperplasia, r/o cancer and will call pt w/ results.   &gt; Would rec TAH/BS as uterus is too large for ablation -- will set up surgery in <span style=\"color:red\">May</span>.  &gt; Treat with Provera 10mg, 2 po daily x 5 days as she may also be anovulatory.    2) Nonspecific autoimmune disorder on daily steroids:  &gt; WILL NEED STRESS DOSE STEROIDS DAY OF SURGERY DUE TO CHRONIC DAILY PREDNISONE 1.5 MG DAILY  &gt; Discussed impaired healing from daily steroids - pt had h/o wound dehiscence after lap chole <span style=\"color:red\">2013</span>    3) Keloid:  &gt; Pt developed keloid at one of port sites after laparoscopy - discussed possible recurrence of keloid    <span style=\"color:red\">Joanne Julian Hart</span>, MD    _____________________________________________________________________________________________________________________________________________      Chief Complaint   Patient presents with    Follow-up     TVUS and embx         HPI  <span style=\"color:red\">51</span> yo G1P1 with known uterine fibroids, menorrhagia, and anemia requiring transfusion as well as iron infusions (recently) who presents for TVUS and EMBx.   Has been bleeding on/off for 2 wks.  On daily prednisone 1.5mg through PCP for unspecified chronic autoimmune problem.  Chart says pt is diabetic but pt says she&apos;s only pre-diabetic; nonetheless, she&apos;s on Metformin 500mg daily and last hgbA1c was 5.1.      ROS  (+)Irregular heavy bleeding; all other ROS was negative    Current Outpatient Prescriptions   Medication Sig Dispense Refill    gabapentin (NEURONTIN) 300 MG capsule Take 300 mg by mouth 3 times daily.      lansoprazole (PREVACID) 15 MG capsule Take 15 mg by mouth daily.      lisinopril  (PRINIVIL,ZESTRIL) 10 MG tablet Take 10 mg by mouth daily.      metFORMIN (GLUCOPHAGE) 500 MG tablet Take 1 tablet (500 mg total) by mouth daily. 30 tablet 5    multivitamin (THERAGRAN) per tablet Take 1 tablet by mouth daily.      naproxen (NAPROSYN) 500 MG tablet Take 500 mg by mouth 2 times daily. TAKE ONE TABLET TWICE A DAY WITH MEALS      potassium chloride (KLOR-CON-M, K-DUR) 10 MEQ extended release tablet Take 20 mEq by mouth daily. TAKE ONE TABLET EVERY TWELVE HOURS      predniSONE (DELTASONE) 10 MG tablet TAKE 1.5 TABLET DAILY 45 tablet 5    triamterene-hydrochlorothiazide (DYAZIDE) 37.5-25 mg per capsule TAKE 1 CAPSULE DAILY. 30 capsule 5    iron polysaccharides (FERREX 150) 150 mg iron capsule Take 1 capsule (150 mg total) by mouth daily for 30 days. 30 capsule 11     No current facility-administered medications for this visit.        No Known Allergies    Past Medical History:   Diagnosis Date    Arthritis     Cervical dysplasia     Cholelithiasis     Hypertension        Past Surgical History:   Procedure Laterality Date    CHOLECYSTECTOMY      cystoscopy with pyeloscopy with manipulation of calculus      WISDOM TOOTH EXTRACTION         No family history on file.    Social History     Social History    Marital status: Divorced     Spouse name: N/A    Number of children: N/A    Years of education: N/A     Social History Main Topics    Smoking status: Never Smoker    Smokeless tobacco: Never Used    Alcohol use No    Drug use: No    Sexual activity: Not Currently     Birth control/ protection: None     Other Topics Concern    None     Social History Narrative     _____________________________________________________________________    Vitals:    <span style=\"color:red\">05/11/2017 11:35 AM</span>   BP: 112/70   Height: 5&apos; 4&quot; (1.626 m)   Weight: 219 lb (99.3 kg)   BMI (Calculated): 37.7       EXAM:    General appearance: obese, well nourished, well hydrated, no acute distress  Gastrointestinal:    Abdomen: soft,  non-tender, no masses, bowel sounds normal, no CVA tenderness   Liver and spleen: no enlargement or nodularity   Hernia: no hernias  Genitourinary:    External genitalia: Normal, no lesions or discharge.  Normal Bartholin&apos;s and Skene&apos;s glands   Urethra: no discharge   Bladder: well supported   Vagina:  Mucosa without lesions, ulcerations.     Cervix:  Normal appearance, without lesions or discharge   Uterus:  <span style=\"color:red\">15</span> wk size uterus, mobile, nontender.    Adnexa: no masses or tenderness  Lymphatic:    Groin: no inguinal adenopathy   Misc. lymph nodes: no other adenopathy   Skin Inspection: no rashes, lesions, or ulcerations  Mental Status Exam:    Judgment, insight: intact   Orientation: oriented to time, place, and person   Mood and affect: no depression, anxiety, or agitation            Procedure note for EMBX  Indication: menorrhagia / enlarged uterus  After written consent, cervix cleansed with betadine and anterior lip of cervix grasped with single tooth tenaculum. Endometrial pipelle used to obtain sample and moderate amount of tissue retrieved.  Patient tolerated procedure well. Will call pt with results.      Electronically signed by: <span style=\"color:red\">Joanne Julian Hart</span>, MD <span style=\"color:red\">05/11/17 11:44</span>    Electronically signed by: <span style=\"color:red\">Joanne Julian Hart</span>, MD  <span style=\"color:red\">06-10-2017 1637 PM</span>   "
      ],
      "text/plain": [
       "<IPython.core.display.HTML object>"
      ]
     },
     "execution_count": 21,
     "metadata": {},
     "output_type": "execute_result"
    }
   ],
   "source": [
    "HTML(outputs[20])"
   ]
  },
  {
   "cell_type": "code",
   "execution_count": 22,
   "metadata": {},
   "outputs": [
    {
     "data": {
      "text/html": [
       "\n",
       "*Final*\n",
       "\n",
       "Performed at <span style=\"color:red\">MC PEDS OR</span>\n",
       "\n",
       "Requesting Provider: <span style=\"color:red\">SKINNER, ADRIAN AUSTIN</span> DO\n",
       "\n",
       "\n",
       "DI CHEST PA AND LATERAL, <span style=\"color:red\">05-13-2012 19:54:00 PM</span>\n",
       "\n",
       "INDICATION: Dyspnea\n",
       "\n",
       "COMPARISON: <span style=\"color:red\">05-13-12 0948</span>\n",
       "\n",
       "FINDINGS:\n",
       "\n",
       ".  Heart/mediastinum: The mediastinal silhouette is within normal\n",
       "limits in width and contour, with atherosclerotic aortic\n",
       "calcification. The cardiopericardial silhouette is mildly enlarged.\n",
       ".  Lungs/pleura: There is patchy left basilar/retrocardiac opacity\n",
       "with correspondingly increased density overlying the thoracic spinal\n",
       "the lateral projection and blunting of the left costophrenic angle.\n",
       ".  Upper abdomen: Within normal limits.\n",
       ".  Musculoskeletal: Within normal limits.\n",
       "\n",
       "***********************CONCLUSION*********************************\n",
       "\n",
       "1. Patchy left basilar opacity concerning for pneumonia.\n",
       "2. Trace left pleural effusion.\n",
       "3. Mild cardiomegaly, similar to prior examinations.\n",
       "4. Atherosclerosis.\n",
       "\n",
       "*********************************************************************\n",
       "\n",
       "I have personally reviewed the procedure note and/or have reviewed\n",
       "and interpreted this image/images.\n",
       "\n",
       "Interpreting Provider: <span style=\"color:red\">BALL, YVONNE LIAM</span> MD <span style=\"color:red\">05/14/2012 11:32 AM</span>\n",
       "Approving Provider: <span style=\"color:red\">HAMILTON, NATHAN FIONA</span> MD <span style=\"color:red\">May 14 12 @ 14:08 PM</span>\n",
       "Signing Provider: <span style=\"color:red\">HAMILTON, NATHAN FIONA</span> MD <span style=\"color:red\">May 14, 2012 at 1408</span>\n",
       "\n",
       "*Final*\n",
       "\n"
      ],
      "text/plain": [
       "<IPython.core.display.HTML object>"
      ]
     },
     "execution_count": 22,
     "metadata": {},
     "output_type": "execute_result"
    }
   ],
   "source": [
    "HTML(outputs[32])"
   ]
  }
 ],
 "metadata": {
  "kernelspec": {
   "display_name": ".venv",
   "language": "python",
   "name": "python3"
  },
  "language_info": {
   "codemirror_mode": {
    "name": "ipython",
    "version": 3
   },
   "file_extension": ".py",
   "mimetype": "text/x-python",
   "name": "python",
   "nbconvert_exporter": "python",
   "pygments_lexer": "ipython3",
   "version": "3.12.3"
  }
 },
 "nbformat": 4,
 "nbformat_minor": 2
}
