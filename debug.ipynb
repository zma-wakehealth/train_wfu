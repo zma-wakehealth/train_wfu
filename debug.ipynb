{
 "cells": [
  {
   "cell_type": "code",
   "execution_count": 1,
   "metadata": {},
   "outputs": [
    {
     "name": "stderr",
     "output_type": "stream",
     "text": [
      "c:\\Users\\zhma\\Projects\\.nlp\\Lib\\site-packages\\tqdm\\auto.py:21: TqdmWarning: IProgress not found. Please update jupyter and ipywidgets. See https://ipywidgets.readthedocs.io/en/stable/user_install.html\n",
      "  from .autonotebook import tqdm as notebook_tqdm\n"
     ]
    }
   ],
   "source": [
    "from transformers import AutoTokenizer\n",
    "import datasets"
   ]
  },
  {
   "cell_type": "code",
   "execution_count": 2,
   "metadata": {},
   "outputs": [],
   "source": [
    "wfumodel = './checkpoint-8600'\n",
    "tokenizer = AutoTokenizer.from_pretrained(wfumodel)"
   ]
  },
  {
   "cell_type": "code",
   "execution_count": 42,
   "metadata": {},
   "outputs": [
    {
     "data": {
      "text/plain": [
       "'\\n\\nACCESSION NUMBER:  S12-24648\\nRECEIVED: 10/19/2012\\nORDERING PHYSICIAN:  LISA RENEE DAVID , MD\\nPATIENT NAME:  CALDERONRAMOS, YOANA 000\\nSURGICAL PATHOLOGY REPORT\\n\\nFINAL PATHOLOGIC DIAGNOSIS\\n***MICROSCOPIC EXAMINATION AND DIAGNOSIS***\\n\\nCYST, RIGHT ARM; EXCISION:\\n     Pilomatrixoma.\\n     See Comment.\\n\\nCOMMENT:\\nFocal calcification and abundant foreign body giant cell reaction\\nare associated with the pilomatrixoma.\\n\\n Report Prepared By:  J. K. PHILIP, M.D.\\n\\nI have personally reviewed the slides and/or other related\\nmaterials referenced, and have edited the report as part of my\\npathologic assessment and final interpretation.\\n\\n***Electronically Signed Out By:   KIMBERLY STOGNER-UNDERWOOD ,\\nMD10/23/2012 11:59:17***\\n\\nks/ks\\n\\nSpecimen(s) Received\\nDermoid cyst right arm\\n\\nClinical History\\nPreoperative diagnosis: Cyst, right forearm\\n\\n\\n\\n\\nGross Description\\nReceived labeled &quot;dermoid cyst right arm&quot; is a 1.2 x 0.8 x 0.6 cm\\ntan pink soft tissue fragment. On sectioning there is a 0.8 cm\\ncystlike'"
      ]
     },
     "execution_count": 42,
     "metadata": {},
     "output_type": "execute_result"
    }
   ],
   "source": [
    "wfu_dataset = datasets.load_dataset('wfudata', trust_remote_code=True)\n",
    "all_text = wfu_dataset['test']['text']\n",
    "example_text = all_text[10][:1000]\n",
    "example_text"
   ]
  },
  {
   "cell_type": "code",
   "execution_count": 46,
   "metadata": {},
   "outputs": [],
   "source": [
    "output = tokenizer([[example_text, 'this is about hospital']], max_length=128, padding=True,\n",
    "                   truncation='only_first', stride=64, return_overflowing_tokens=True)"
   ]
  },
  {
   "cell_type": "code",
   "execution_count": 47,
   "metadata": {},
   "outputs": [
    {
     "data": {
      "text/plain": [
       "'[CLS] accession number : s12 - 24648 received : 10 / 19 / 2012 ordering physician : lisa renee david, md patient name : calderonramos, yoana 000 surgical pathology report final pathologic diagnosis * * * microscopic examination and diagnosis * * * cyst, right arm ; excision : pilomatrixoma. see comment. comment : focal calcification and abundant foreign body giant cell reaction are associated with the pilomatrixoma. report prepared by : j. k. philip, m. d. i have personally reviewed the slides and / or other related materials referenced, and have [SEP] this is about hospital [SEP]'"
      ]
     },
     "execution_count": 47,
     "metadata": {},
     "output_type": "execute_result"
    }
   ],
   "source": [
    "tokenizer.decode(output['input_ids'][0])"
   ]
  },
  {
   "cell_type": "code",
   "execution_count": 48,
   "metadata": {},
   "outputs": [
    {
     "data": {
      "text/plain": [
       "'[CLS] excision : pilomatrixoma. see comment. comment : focal calcification and abundant foreign body giant cell reaction are associated with the pilomatrixoma. report prepared by : j. k. philip, m. d. i have personally reviewed the slides and / or other related materials referenced, and have edited the report as part of my pathologic assessment and final interpretation. * * * electronically signed out by : kimberly stogner - underwood, md10 / 23 / 2012 11 : 59 : 17 * * * ks / ks specimen ( s ) received dermoid cyst [SEP] this is about hospital [SEP]'"
      ]
     },
     "execution_count": 48,
     "metadata": {},
     "output_type": "execute_result"
    }
   ],
   "source": [
    "tokenizer.decode(output['input_ids'][1])"
   ]
  },
  {
   "cell_type": "code",
   "execution_count": 49,
   "metadata": {},
   "outputs": [
    {
     "data": {
      "text/plain": [
       "'[CLS] other related materials referenced, and have edited the report as part of my pathologic assessment and final interpretation. * * * electronically signed out by : kimberly stogner - underwood, md10 / 23 / 2012 11 : 59 : 17 * * * ks / ks specimen ( s ) received dermoid cyst right arm clinical history preoperative diagnosis : cyst, right forearm gross description received labeled & quot ; dermoid cyst right arm & quot ; is a 1. 2 x 0. 8 x 0. 6 cm tan pink soft tissue fragment. on sectioning there is a 0. 8 cm [SEP] this is about hospital [SEP]'"
      ]
     },
     "execution_count": 49,
     "metadata": {},
     "output_type": "execute_result"
    }
   ],
   "source": [
    "tokenizer.decode(output['input_ids'][2])"
   ]
  },
  {
   "cell_type": "code",
   "execution_count": 37,
   "metadata": {},
   "outputs": [
    {
     "data": {
      "text/plain": [
       "[0, 0, 0]"
      ]
     },
     "execution_count": 37,
     "metadata": {},
     "output_type": "execute_result"
    }
   ],
   "source": [
    "output['overflow_to_sample_mapping']"
   ]
  },
  {
   "cell_type": "code",
   "execution_count": 38,
   "metadata": {},
   "outputs": [
    {
     "data": {
      "text/plain": [
       "['input_ids', 'token_type_ids', 'attention_mask']"
      ]
     },
     "execution_count": 38,
     "metadata": {},
     "output_type": "execute_result"
    }
   ],
   "source": [
    "tokenizer.model_input_names"
   ]
  }
 ],
 "metadata": {
  "kernelspec": {
   "display_name": ".nlp",
   "language": "python",
   "name": "python3"
  },
  "language_info": {
   "codemirror_mode": {
    "name": "ipython",
    "version": 3
   },
   "file_extension": ".py",
   "mimetype": "text/x-python",
   "name": "python",
   "nbconvert_exporter": "python",
   "pygments_lexer": "ipython3",
   "version": "3.11.0"
  }
 },
 "nbformat": 4,
 "nbformat_minor": 2
}
