{
 "cells": [
  {
   "cell_type": "code",
   "execution_count": 1,
   "metadata": {},
   "outputs": [
    {
     "name": "stderr",
     "output_type": "stream",
     "text": [
      "c:\\Users\\zhma\\Projects\\deid\\.venv\\Lib\\site-packages\\tqdm\\auto.py:21: TqdmWarning: IProgress not found. Please update jupyter and ipywidgets. See https://ipywidgets.readthedocs.io/en/stable/user_install.html\n",
      "  from .autonotebook import tqdm as notebook_tqdm\n"
     ]
    }
   ],
   "source": [
    "import datasets\n",
    "import numpy as np"
   ]
  },
  {
   "cell_type": "markdown",
   "metadata": {},
   "source": [
    "### 1. load and take a look the dataset"
   ]
  },
  {
   "cell_type": "code",
   "execution_count": 2,
   "metadata": {},
   "outputs": [],
   "source": [
    "wfu_dataset = datasets.load_dataset('wfudata', trust_remote_code=True)"
   ]
  },
  {
   "cell_type": "code",
   "execution_count": 3,
   "metadata": {},
   "outputs": [
    {
     "data": {
      "text/plain": [
       "Dataset({\n",
       "    features: ['filename', 'text', 'label', 'phi'],\n",
       "    num_rows: 3028\n",
       "})"
      ]
     },
     "execution_count": 3,
     "metadata": {},
     "output_type": "execute_result"
    }
   ],
   "source": [
    "wfu_dataset['train']"
   ]
  },
  {
   "cell_type": "code",
   "execution_count": 4,
   "metadata": {},
   "outputs": [],
   "source": [
    "#wfu_dataset['train']['phi']['offsets'] # this won't work"
   ]
  },
  {
   "cell_type": "code",
   "execution_count": 5,
   "metadata": {},
   "outputs": [
    {
     "data": {
      "text/plain": [
       "[[156, 160],\n",
       " [163, 167],\n",
       " [369, 372],\n",
       " [835, 839],\n",
       " [1102, 1105],\n",
       " [1187, 1191],\n",
       " [2784, 2804],\n",
       " [2809, 2826],\n",
       " [2857, 2877],\n",
       " [2883, 2891],\n",
       " [2892, 2896]]"
      ]
     },
     "execution_count": 5,
     "metadata": {},
     "output_type": "execute_result"
    }
   ],
   "source": [
    "wfu_dataset['train']['phi'][0]['offsets'] # this works"
   ]
  },
  {
   "cell_type": "code",
   "execution_count": 6,
   "metadata": {},
   "outputs": [
    {
     "data": {
      "text/plain": [
       "['00000.xml',\n",
       " '00001.xml',\n",
       " '00002.xml',\n",
       " '00003.xml',\n",
       " '00004.xml',\n",
       " '00005.xml',\n",
       " '00006.xml',\n",
       " '00007.xml',\n",
       " '00008.xml',\n",
       " '00009.xml']"
      ]
     },
     "execution_count": 6,
     "metadata": {},
     "output_type": "execute_result"
    }
   ],
   "source": [
    "wfu_dataset['train']['filename'][:10]"
   ]
  },
  {
   "cell_type": "code",
   "execution_count": 7,
   "metadata": {},
   "outputs": [
    {
     "data": {
      "text/plain": [
       "['Care Navigation - Patient Outreach    Type of Communication: Telephonic    Patient Assessment  Since last encounter, patient reports the following updates: 2/14 @ 1525 HN called pt on home number - family answered the phone and states pt is not available to call her on her mobile number listed in the chart. HN called pt on mobile number - no answer and HN LMTCB.     3/5 Pt repots she is doing okay. States her breathing is fine but she is &quot;out of my pump inhaler&quot;. She reports this is her &quot;rescue inhaler&quot;. HN informed her that she should have a refill on file and she states she does not think she does. HN called patient&apos;s CVS pharmacy to inquire if she has a refill on file. Staff states she does. Pt is aware. Pt states her breathing is okay. Denied chest pain. HN reviewed cardiology office notes fron 2/28 - pt states &quot;I already had a work up from GI. He told me I had ulcers but that is all&quot;. HN advised her to contact PCP of GI if she has more episodes of chest pain/discomfort so she can be reevaluated. She states she missed her appt with pulmonology on 3/3 and needs to reschedule. HN called Pulmonology at Westchester and rescheduled to 3/26, Pt is aware but states &quot;can they got get it any sooner. I wanted to show him that medications I can not tolerate. It makes my sides hurt&quot;. HN informed her that this was the soonest appt per the scheduler. HN asked what medications she has that she can not tolerate. She states &quot;It is my pump inhaler. The one I take if I get really short of breath&quot;. HN informed the patient that the only PRN inhaler on her medication list is Albuterol and this is the medication she told HN she needs a refill on. She states &quot;I don&apos;t know the name of it and I don&apos;t have it with me&quot;. HN encouraged her to call HN back with the name of the inhaler when she gets home so she can tell HN and HN can forward to pulmonology. Pt is aware.  Pt has no  further questions or concerns. HN advised to reach out to PCP or call HN if questions or concerns arise. Pt agreeable to navigation services.    Recent ED visits/hospitalizations: None listed/None reported     Patient concerns today: Albuterol refill, reschedule f/u with pulmonology     Have you fallen in the past 6 months?     Navigator Recommendations: Keep f/u appts, f/u with providers if she is nearing running out of her medications, contact pharmacy to see if she has refills on file. F/U with PCP or HN if questions or concerns arise. Call providers and notify them in a timely matter if she is not able to tolerate any of her medicaitons.       Transitional and Supportive Care Referrals Made/Coordination With: Pharmacy    For services:     Date of next Patient Outreach: 1 month     Electronically signed by: Heather Marie Conrad, RN 2/14/2020 3:26 PM     Electronically signed by: Heather Marie Conrad, RN  03/05/20 1017     ',\n",
       " 'Referring MD: Eagle Fam Medicine, Bra*   PCP: Aaron Stanford Morrow, MD   Identification: 1711219  Chief Complaint:   Chief Complaint   Patient presents with    Follow-up        PATIENT SUMMARY:  Susan Jane Isbell is a 63 y.o. female with the onset of a left hand resting tremor in 2011.     She was first seen here in October of 2012. Her exam showed a left hand resting tremor, bradykinesia and rigidity worse on the left. Her symptoms were consistent with idiopathic parkinson&apos;s disease. After some discussion of her treatment options, she said she was primarily interested in improving her tremor. She started artane, which was titrated up to 2 mg twice daily. At first f/u she reported tremor has improved 85 percent since beginning Artane. Reported most concerning symptoms as cognitive. Has difficulty with word finding, more difficulty doing crossword puzzles and difficulty mult-tasking. She had always functioned at a high level and the change was distressing to her.     She had been under a significant amount of stress from 2010 to 2012. Her husband passed away from a medical accident, she lost her job of 30 years (customer service manager with AT&amp;T), and she is now living with her 88 year old father and caring for him. Antidepressants/mood stabilizers impoved her mood. She noticed the most improvement with the addition of Viibryd (an SSRI). In the mid-80s she had a serious car accident with loss of consciousness and amnesia for the day&apos;s events. After the accident, she saw a neuropsychologist for memory problems.     Impression from neuropsychological testing in April 2013:    Very significant current distress in the form of anxiety and (primarily cognitive and behavioral) depressive features. Cognition typically places in the upper quartile. Consistent with PD, there is evidence of mild slowing, a personal weakness in appreciating the visual Gestalt, and subtle visually-based inattention/impulsivity. Aligning with psychologist and pharmacological intervention were recommended as well as physical exercise and building a social support network.     Current Movement Disorder Medication:  Mirapex 1mg TID    Changes Made in Movement Disorder Medication:  Resume Artane 2mg BID    Subjective:     Susan Jane Isbell is a 63 y.o. female with parkinson&apos;s disease who was last seen by Dr. Ihtsham Haq on 5/22/14.     She is unaccompanied in the office today. At last visit, patient had had a slight worsening of her UPDRS and Mirapex was prescribed. She reports she had some nausea and possibly corner of the eye hallucinations when she first started taking the medication, but this has improved. Denies impulsivity, leg swelling, excessive sleepiness. She has not noticed any improvement in the tremor. She stopped the artane as of last visit, though it does not appear it was intended for her to do so. She says she felt she had more word finding difficulties while taking Artane, but she felt Artane gave her better tremor control. She rarely has issues with her balance. No falls.    Review of Systems:  A complete ROS was performed with pertinent positives/negatives noted in the HPI. The remainder of the ROS are negative.      The following portions of the patient&apos;s history were reviewed and updated as appropriate: allergies, current medications and problem list.    Patient Active Problem List   Diagnosis    Headache    Depression    Tremor     Past Medical History   Diagnosis Date    Headache      migraines    Depression      Past Surgical History   Procedure Laterality Date    Lumbar fusion       Hysterectomy      Bowel resection       Current Outpatient Prescriptions   Medication Sig    ALPRAZolam (XANAX) 1 MG tablet Take 1 mg by mouth nightly as needed.      calcium-vitamin D 500 mg(1,250mg) -200 unit per tablet Take 1 tablet by mouth daily.    cyanocobalamin (VITAMIN B-12) 1,000 mcg/mL injection Inject 1,000 mcg into the muscle every 30 (thirty) days.      lactobacillus rhamnosus, GG, (CULTURELLE) 10 billion cell capsule Take 1 capsule by mouth daily.    lamoTRIgine (LAMICTAL) 200 MG tablet Take 200 mg by mouth daily.      minocycline (MINOCIN,DYNACIN) 100 MG capsule Take 100 mg by mouth daily.    pramipexole (MIRAPEX) 1 MG tablet Take 1 tablet (1 mg total) by mouth 3 times daily.    traZODone (DESYREL) 100 MG tablet Take 100 mg by mouth nightly.      vilazodone (VIIBRYD) 20 mg Tab Take 20 mg by mouth daily.      ALMOTRIPTAN MALATE (AXERT ORAL) Take by mouth as needed.      doxycycline (ORACEA) 40 mg capsule Take 40 mg by mouth as needed.      oxaprozin (DAYPRO) 600 mg tablet Take 1,200 mg by mouth as needed.    pramipexole (MIRAPEX) 0.25 MG tablet Take 3 tablets (0.75 mg total) by mouth 3 times daily. Increase to this dose over 4 weeks as directed.    trihexyphenidyl (ARTANE) 2 MG tablet Take 1 tablet (2 mg total) by mouth 2 times daily with meals.     No Known Allergies     Objective:     Blood pressure 106/65, pulse 71, resp. rate 14, weight 58.786 kg (129 lb 9.6 oz).     Unified Parkinson&apos;s Disease Rating Scale (UPDRS) Motor Examination    Examination Treatment States    Dopa/Agonist Medications: On   Visit Type: General Followup     UPDRS Motor Examination  18. Speech: 0=Normal   19. Facial Expression: 1=Minimal hypomimia, could be normal &quot;Poker Face&quot;   20. Rest Tremor:          a. Face, Lips, Chin: 0=Absent         b. Right Hand: 1=Slight and infrequently present         c  Left Hand: 0=Absent         d. Right Leg: 0=Absent         e. Left Leg: 0=Absent    21. Action or postural tremor of the hands:          a. Right Hand 0=Absent         b. Left Hand 0=Absent   22. Rigidity:          a. Neck: 0=Absent         b. Right Upper Extremity: 1=Slight or detectable only when activated by mirror or other movements         c. Left Upper Extremity: 1=Slight or detectable only when activated by mirror or other movements         d. Right Lower Extremity: 2=Mild to moderate         e. Left Lower Extremity: 1=Slight or detectable only when activated by mirror or other movements   23. Finger Taps          a. Right Hand: 1=Mild slowing and/or reduction in amplitude         b. Left Hand: 1=Mild slowing and/or reduction in amplitude   24. Hand Movements          a. Right Hand 0=Normal         b. Left Hand 1=Mild slowing and/or reduction in amplitude   25. Rapid Alternating Movement          a. Right Hand 0=Normal         b. Left Hand 0=Normal   26. Leg Agility          a. Right Leg 0=Normal         b. Left Leg 1=Mild slowing and/or reduction in amplitude   27. Arising From Chair: 0=Normal     28. Posture: 0=Normal erect   29. Gait: 0=Normal   30: Postural Stability: 0=Normal   31: Body Bradykinesia and Hypokinesia: 2=Mild degree of slowness and poverty of movement which is definitely abnormal. Alternately some reduced amplitude        Total Motor Examination: 13     Previous UPDRS Score: 19     Assessment/Plan:     Susan Jane Isbell is a 63 y.o. female with tremor predominant parkinson&apos;s disease. She has noticed no improvement in tremor since starting treatment with Mirapex.      Resume low-dose artane for tremor   If this causes a return of word finding difficulties, artane will be stopped and we will try increasing Mirapex.    If neither of these measures provide tremor improvement, we will initiate treatment with Sinemet    Follow up with Dr. Ihtsham Haq in December  Pt was asked to call the clinic with any questions/concerns in the meantime.      QUALITY MEASURES   Patient was interviewed and screened for depression, falls, speech difficulties, hallucinations, impulsive behavior, cognitive difficulties and medication related side effects. Patient screened negative for all of the above except as noted above. Need for speech or physical therapy was assessed. Value of exercise was reemphasized.    A total of 30 minutes was spent face to face with the patient, more than half of which was spent in counseling, patient education, discussing medications and what to expect in future.       Sincerely,    Electronically signed by: Jennifer LeAnn Green, PA-C 7/23/2014 3:12 PM   Movement Disorders Center  Outpatient Neurology       ',\n",
       " 'Jonesville Family Medical Center  4000 S Swaim St Ext  Jonesville NC 28642-9418  Annual Health Maintenance Exam and CPE  Kimberlee Ellen Williams is a 30 y.o. female  DOB: 7/9/1988       Subjective   Kimberlee  presents for annual wellness exam as well as follow up of other chronic medical problems as needed.      I reviewed the patient&apos;s responses to the 14 system ROS/HRA questionnaire. The questionnaire will be scanned into the electronic record. The patient&apos;s other medical providers/suppliers are listed on the scanned form. The patient also lists OTC and herbal medications taken    Medical problems reviewed today include:    1. Health maintenance examination    2. Dysmenorrhea    3. Abnormal thyroid function test    4. Iron deficiency anemia due to chronic blood loss    5. Eyestrain, bilateral    6. Encounter for lipid screening for cardiovascular disease      Annual visit for health maintenance and medical review.  She has had progressively worsening problems with irregular menses and dysmenorrhea ever since menarche in her teens.  She has tried OCPs which caused a lot of nausea, she briefly tried a NuvaRing which caused a lot of restlessness and agitation.  She would like to think about a Mirena IUD to reduce her heavy flow and menstrual pain.  Her menses interval ranges 23-35 days, with up to 6 days of fairly heavy flow and she has had iron deficiency anemia as a result of heavy periods.  She also has perimenstrual constipation and some mild to moderate PMS symptoms for 2-3 days.    She had normal Pap smears in 2017 &amp; 2016 and since she will be seeing the gynecologist for her IUD we have deferred Pap smear testing today.  We will arrange for consultation.    Other issues and concerns discussed today include:    Abnormal thyroid function testing last year with suppressed TSH, follow-up seem to be returning to normal as of 1/2018, she does not have any follow-up with endocrinology.  She has always been &quot;hot  natured&quot; but no weight loss tremulousness or palpitations.  Her only constipation is around her menses.  We will continue to check thyroid levels once or twice a year to make sure she is not progressing to hypothyroidism which run strongly in the family.    Iron deficiency anemia due to menstrual blood loss, she occasionally takes some iron supplements, checking today.    Some eyestrain symptoms because of constant computer use but has adequate corrective lenses.    Since last year she has a new job with a law firm in Winston-Salem as a paralegal.  It somewhat stressful but she really likes to work, she is living in Winston-Salem and she feels that she has good supportive friends and social situation.    [typographical errors corrected 06/21/2019]    --- We discussed recommendations for prevention, staying healthy, immunizations as outlined in the instructions below.    ---  I reviewed and updated in the record any changes to the patient&apos;s past medical, surgical, social, family history.    Review of Systems - All positive responses on 14 system review discussed with patient. See Scanned Form.    Patient Active Problem List    Diagnosis Date Noted    Family history of hypothyroidism 08/31/2017    Family history of tuberculosis 08/31/2017     Overview Note:     Maternal Grandfather with TB - some direct exposure 2017      Obesity 08/29/2017    Allergic rhinitis 08/29/2017    Iron deficiency anemia 08/29/2017    Eczema 08/29/2017       Updated Medication List:          etodolac (LODINE) 500 MG tablet    Sig - Route: Take 1 tablet (500 mg total) by mouth 2 (two) times daily as needed (for menstrual cramps). - Oral    levocetirizine (XYZAL) 5 MG tablet    Sig - Route: Take 5 mg by mouth daily. - Oral    Class: Historical Med    fluticasone (FLONASE) 50 mcg/actuation nasal spray    Sig - Route: 2 sprays by Nasal route daily. - Nasal    Class: Historical Med          Allergies   Allergen Reactions    Sudafed  [Pseudoephedrine Hcl] Urticaria / Hives (ALLERGY)       Family History   Problem Relation Age of Onset    Obesity Mother     Hypothyroidism Mother     Stroke Maternal Grandmother     Hypertension Maternal Grandmother     Tuberculosis Maternal Grandfather     Hypertension Maternal Grandfather     Pulmonary embolism Maternal Grandfather     COPD Paternal Grandmother     Stroke Paternal Grandmother     Stroke Paternal Grandfather         Social History     Social History Narrative    No narrative on file     Social History   Substance Use Topics    Smoking status: Never Smoker    Smokeless tobacco: Never Used    Alcohol use 10.0 oz/week     2 Glasses of wine (5 oz./glass) per week       Health Maintenance Status       Date Due Completion Dates    INFLUENZA VACCINE 09/01/2018 8/31/2018, 9/16/2017    PAP SMEAR 08/31/2020 8/31/2017, 6/15/2016 (N/S)          Objective   BP 110/62 (Site: Right arm, Position: Sitting, BP Cuff Size: Large)   Pulse 64   Temp 98.2 F (36.8 C) (Tympanic)   Ht 1.575 m (5&apos; 2&quot;)   Wt 93.8 kg (206 lb 12.8 oz)   LMP 08/18/2018 (Exact Date)   BMI 37.82 kg/m       Physical Exam    Constitutional: Oriented to person, place and time. Class 2 central pattern obesity with BMI 35-39.9  Eyes: PEERLA,EOMI.Conjunctivae full, no pallor  ENT:  TMs normal, non-inflamed. EAC&apos;s clear. Pale nasal mucosa without pus. Pharynx non-inflamed.  Mouth: No ulcers or mucosal lesions. Well hydrated  Neck:  No thyromegaly or nodule, no tenderness or restriction.  Lymphadenopathy: No cervical or supraclavicular adenopathy.  Cardiovascular: Normal rate and rhythm.  No gallop; no extrasystole.  No murmur heard. No ankle edema. Calves supple &amp; non-tender.  Pulmonary/chest: Effort normal and breath sounds normal. No wheezes. No rales.  Abdomen: No mass,CVAT,rebound, or guarding. No tenderness. Normal bowel sounds. No hernia.  GU: No suprapubic or inguinal tenderness, bladder non-distended.  Musculoskeletal: No  local joint swelling or deformity. No muscle tenderness.  Neurology: Normal DTRs. Facial muscles symmetric. Normal gait and stance and balance.  No tremor with arms extended  Psychiatric: Normal mood and affect. No dysphoria. No anxiety.  Skin:  Warm and dry. No rashes. No changing lesions    Recent Results (from the past 72 hour(s))   Free T3   Result Value Ref Range    FREE T3 4.01 2.30 - 4.20 pg/mL   Prolactin   Result Value Ref Range    Prolactin 12.0 3.6 - 14.8 NG/ML   Lipid Profile   Result Value Ref Range    LDL Direct 101 &lt;130 mg/dL    Total Cholesterol 179 25 - 199 MG/DL    Triglycerides 64 10 - 150 MG/DL    HDL Cholesterol 63 35 - 135 MG/DL    Total Chol / HDL Cholesterol 2.8 &lt;4.5    Non-HDL Cholesterol 116 MG/DL    Coronary Heart Disease Risk Table     Thyroid Panel   Result Value Ref Range    TSH &lt;0.010 (L) 0.450 - 5.330 UIU/ML    T4 TOTAL 10.8 5.5 - 11.8 mcg/dL    T3 Uptake 38.5 32.0 - 45.0 %    Free Thyroxine Index 10.7 4.8 - 11.3   CBC   Result Value Ref Range    WBC 6.9 4.8 - 10.8 x 10*3/uL    RBC 4.54 4.20 - 5.40 x 10*6/uL    Hemoglobin 11.9 (L) 12.0 - 16.0 G/DL    Hematocrit 36.6 (L) 37.0 - 47.0 %    MCV 80.6 (L) 81.0 - 99.0 FL    MCH 26.2 (L) 27.0 - 31.0 PG    MCHC 32.4 (L) 33.0 - 37.0 G/DL    RDW 13.6 11.5 - 14.5 %    Platelets 349 160 - 360 X 10*3/uL    MPV 7.9 6.8 - 10.2 FL         Assessment/Plan     Normal annual health maintenance visit, all concerns addressed and discussed.    Medical problems stable except as discussed below.    1. Health maintenance examination    - CBC; Future  - Lipid Profile; Future  - CBC  - Lipid Profile    2. Dysmenorrhea    - etodolac (LODINE) 500 MG tablet; Take 1 tablet (500 mg total) by mouth 2 (two) times daily as needed (for menstrual cramps).  Dispense: 60 tablet; Refill: 5  - Ambulatory referral to Gynecology; Future    3. Abnormal thyroid function test    - Thyroid Panel; Future  - Thyroid Panel    4. Iron deficiency anemia due to chronic blood loss    -  CBC; Future  - CBC    5. Eyestrain, bilateral      6. Encounter for lipid screening for cardiovascular disease    - Lipid Profile; Future  - Lipid Profile    --------------------------------------------------------------------------------------------------------------------------------------------------------    ADDENDUM: 09/01/18    Low TSH but FTI also lower. Pituitary disorder? Checking Free T3 and Prolactin.    (via MyWakeHealth) -- the LOW TSH would indicate HIGH thyroid, but all the other thyroid hormone levels are normal! We also checked a prolactin level to make sure the pituitary gland is functioning and this is fine!  If you develop symptoms of high thyroid (tremor, heart palpitations, sweats, weight loss) we should check further thyroid testing with a nuclear scan but as long as you fell well we can just keep checking the blood work every 6 months.  Thanks and let us know if you have questions.    --------------------------------------------------------------------------------------------------------------------------------------------------------        Additional issues include:    She has occasional mild sleep disorder and takes OTCs such as valerian root.  She denies feeling but depressed or anxious.    She has chronically dry skin consistent with eczema but rarely requires medication for this.      See discussion and instructions to patient.      Health Maintenance Status       Date Due Completion Dates    INFLUENZA VACCINE 09/01/2018 8/31/2018, 9/16/2017    PAP SMEAR 08/31/2020 8/31/2017, 6/15/2016 (N/S)         Immunization History   Administered Date(s) Administered    influenza (Historical) 09/16/2017    tuberculin PPD Test (APLISOL, TUBERSOL) 08/31/2017         Orders Placed This Encounter   Procedures    CBC    Thyroid Panel    Lipid Profile    Prolactin    Free T3    Ambulatory referral to Gynecology       Requested Prescriptions     Signed Prescriptions Disp Refills    etodolac  (LODINE) 500 MG tablet 60 tablet 5     Sig: Take 1 tablet (500 mg total) by mouth 2 (two) times daily as needed (for menstrual cramps).        Patient Instructions:    Patient Instructions     Wake Forest Health Network  Cornerstone Healthcare  Jonesville Family Medical Center  E. Wilson &quot; Bill &quot; Griffin III MD      Thank you for coming in today for a comprehensive review of Health and Wellness recommendations.     Some of the issues we discussed include:    We have reviewed your prescriptions today and faxed updates where needed.  We are drawing blood for lab tests today. We will call in the next few days if anything is abnormal; we will mail a card with the results or you can see them sooner on MyWakeHealth.    We are scheduling a referral with Hawthorne OBGyn and we will call as soon as this is arranged.      Immunizations  Flu vaccine for everyone of every age, but especially smokers and people with chronic illness like diabetes and heart disease  Pneumonia vaccine recommended for everyone at age 65 but for all those between 19-65 who have diabetes, lung disease, heart disease, or other illness  Shingles Vaccine at age 60  Tetanus - booster every 10 years if cut or puncture wound (with at least one Tdap to include whooping cough    Cholesterol  To help lower the LDL &quot;bad&quot; cholesterol please avoid ALL Trans fats &amp; partially hydrogenated oils, and reduce Saturated fats (animal fat and tropical oils like coconut and palm) to no more than 200 calories  (2-3 teaspoons or so) a day.     Eat more whole grains, fruits, vegetables  Cut way down on sugar, simple starches like potatoes and white bread, and &quot;refined carbs&quot; in processed foods.    Colon Cancer screening begins at age 50 or sooner if there&apos;s a family history of polyps. We discussed either colonoscopy or annual stool testing for blood.  Cervical Cancer Screening - Pap smear every 3 years until age 65 (more often if abnormal), or every 5 years if combined with  HPV testing (Human Papilloma Virus)  Breast Cancer Screening - Mammogram starting about age 40 then every 1-2 years depending on preference and family history or risk factors  Osteoporisis Screening - Bone Density at age 65 or sooner if high risk, such as certain medications, illnesses, or fracture history    General Health Principles:  EXERCISE - walking or other exercise 30 minutes 5 times a week  NUTRITION - balanced healthy variety of foods without added sugar or salt  SLEEP - most people need 7-8 hours a night  SMOKING - DON&apos;T DO IT! Get rid of snuff and chewing tobacco, too, which also cause heart disease  SPIRITUAL - spend time with friends and family, pursue generous and fulfilling activities, deepen your faith life and fellowship    We also discussed any additional ongoing health and medical problems you have, including:    1. Health maintenance examination     2. Dysmenorrhea     3. Abnormal thyroid function test     4. Iron deficiency anemia due to chronic blood loss     5. Eyestrain, bilateral      Due to computer use                    Electronically signed by: Eugene Wilson Griffin, MD  08/31/18 1743       Electronically signed by: Eugene Wilson Griffin, MD  09/01/18 0820       Electronically signed by: Eugene Wilson Griffin, MD  09/01/18 0946       Electronically signed by: Eugene Wilson Griffin, MD  06/21/19 1249     ',\n",
       " 'WAKE FOREST BAPTIST HEALTH  BRENNER CHILDREN&apos;S PEDIATRIC ENDOCRINOLOGY CLINIC      History of Present Illness  History from: Mother  Present today: mother    Primary Physician: Dr Dial    Chief Complaint: follow up - benign premature adrenarche    History of Present Illness: Shania is a 7 years and  0 months-old caucasian/ AA girl with no significant past medical history other than asthma and allergies, who presented for follow up evaluation of premature puberty.  I last saw her 10 months ago in 1/2012.  Since last visit she has lost a lot of weight and BMI is now 50 th %ile. Weight was lost unintentionally per mother due to decreased eating from abdominal discomfort from constipation. She is other wise healthy. She has had a few more pubic hair but otherwise no other pubertal signs and no growth acceleration.Her laboratory evaluation at last visit was prepubertal with normal thyroid function. She does not complain of headaches.    LAB RESULTS: 1/2012   FOLLICLE STIM HORMONE        1.3 MIU/ML  LH-  0.01   (&lt;0.02)  TSH,3RD GENERATION        2.186 uIU/ML          (0.40-5.50)  FREE THYROXINE            0.8 NG/DL                   (0.6-1.75)  Bone age reportedly 7.5 years at 6.5years. Mother did not mail me the bone age .      PER INITIAL EVALUATION 1/2012:  Her mother reports that for the past 2-4 months Shania has developed body odor, some axillary hair, and darker pubic hair. She otherwise denies vaginal bleeding or discharge, hirsutism, or growth spurt. She has always been at her current percentile (~99%) and mother reports that she has been  getting her new clothes every 6 months as usual.    The past couple of monthe Shania has started to have headaches too. They occasionally wake her us from sleep. Her mother believes that they are due to lack of good sleep, possibly due to OSA (she occasionally snores per mother). Otherwise she has possibly cold intolerance but is a good student,   WAKE FOREST BAPTIST HEALTH  BRENNER CHILDREN&apos;S PEDIATRIC ENDOCRINOLOGY CLINIC      History of Present Illness  History from: Mother  Present today: mother    Primary Physician: Dr Dial    Chief Complaint: follow up - benign premature adrenarche    History of Present Illness: Shania is a 7 years and  0 months-old caucasian/ AA girl with no significant past medical history other than asthma and allergies, who presented for follow up evaluation of premature puberty.  I last saw her 10 months ago in 1/2012.  Since last visit she has lost a lot of weight and BMI is now 50 th %ile. Weight was lost unintentionally per mother due to decreased eating from abdominal discomfort from constipation. She is other wise healthy. She has had a few more pubic hair but otherwise no other pubertal signs and no growth acceleration.Her laboratory evaluation at last visit was prepubertal with normal thyroid function. She does not complain of headaches.    LAB RESULTS: 1/2012   FOLLICLE STIM HORMONE        1.3 MIU/ML  LH-  0.01   (&lt;0.02)  TSH,3RD GENERATION        2.186 uIU/ML          (0.40-5.50)  FREE THYROXINE            0.8 NG/DL                   (0.6-1.75)  Bone age reportedly 7.5 years at 6.5years. Mother did not mail me the bone age .      PER INITIAL EVALUATION 1/2012:  Her mother reports that for the past 2-4 months Shania has developed body odor, some axillary hair, and darker pubic hair. She otherwise denies vaginal bleeding or discharge, hirsutism, or growth spurt. She has always been at her current percentile (~99%) and mother reports that she has been  getting her new clothes every 6 months as usual.    The past couple of monthe Shania has started to have headaches too. They occasionally wake her us from sleep. Her mother believes that they are due to lack of good sleep, possibly due to OSA (she occasionally snores per mother). Otherwise she has possibly cold intolerance but is a good student,   WAKE FOREST BAPTIST HEALTH  BRENNER CHILDREN&apos;S PEDIATRIC ENDOCRINOLOGY CLINIC      History of Present Illness  History from: Mother  Present today: mother    Primary Physician: Dr Dial    Chief Complaint: follow up - benign premature adrenarche    History of Present Illness: Shania is a 7 years and  0 months-old caucasian/ AA girl with no significant past medical history other than asthma and allergies, who presented for follow up evaluation of premature puberty.  I last saw her 10 months ago in 1/2012.  Since last visit she has lost a lot of weight and BMI is now 50 th %ile. Weight was lost unintentionally per mother due to decreased eating from abdominal discomfort from constipation. She is other wise healthy. She has had a few more pubic hair but otherwise no other pubertal signs and no growth acceleration.Her laboratory evaluation at last visit was prepubertal with normal thyroid function. She does not complain of headaches.    LAB RESULTS: 1/2012   FOLLICLE STIM HORMONE        1.3 MIU/ML  LH-  0.01   (&lt;0.02)  TSH,3RD GENERATION        2.186 uIU/ML          (0.40-5.50)  FREE THYROXINE            0.8 NG/DL                   (0.6-1.75)  Bone age reportedly 7.5 years at 6.5years. Mother did not mail me the bone age .      PER INITIAL EVALUATION 1/2012:  Her mother reports that for the past 2-4 months Shania has developed body odor, some axillary hair, and darker pubic hair. She otherwise denies vaginal bleeding or discharge, hirsutism, or growth spurt. She has always been at her current percentile (~99%) and mother reports that she has been  getting her new clothes every 6 months as usual.    The past couple of monthe Shania has started to have headaches too. They occasionally wake her us from sleep. Her mother believes that they are due to lack of good sleep, possibly due to OSA (she occasionally snores per mother). Otherwise she has possibly cold intolerance but is a good student,   is able to concentrate at school, denies other signs of hypo- or hyperthyroidism, denies vision changes, vomiting, weight changes, increasing  abdominal girth, pelvic fullness, constipation, fevers, bone defects (bone fractures and deformity of the legs, arms and skull), fatigue, dry skin, nervousness, rashes/other skin lesions/birth marks.    In light of headaches, Shania&apos;s PCP ordered a head CT that was negative. A bone age was also performed that was read as slightly advanced at 7 years 10 months (Shania&apos;s mother will sent the film to me for my review).    Her mother denies exposure to Estrogen/Testosterone-containing creams in the household, Lavender products, tea tree oils.    NUTRITION: According to her mother, Shania has a healthy nutrition, including veggetables and fruit and dairy products.    ROS  All systems reviewed and negative other than listed in HPI.    Past Medical History  Benign premature adrenarche  eczema  asthma  snores    Immunizations:  (Reviewed)  Immunizations up to date according to patient history? yes    Birth History  Weight at birth: 6.75 lbs. (3.06 kg.). Length at birth: 19 in. (48.26 cm.).  Delivery Type was SVD. There was no history of neonatal complications.  Neonatal Comments: mild jaundice. There was no history of birth defects.    Developmental History  Development normal    Family History  Positive for:  hypertension  heart disease:  maternal grandmother, maternal grandfather, CAD  coronary artery disease  Stroke/TIA  hyperlipidemia  cancer  diabetes:  type 2  thyroid disease:  mother, sibling, hypothyroidism  asthma  depression  seizures  kidney disease  eczema  Additional Family History Notes:  No family history of congenital heart  disease.  No family history of sudden death.    mother = 5&apos; 3, 380lb (36yo), menarche at 13yo  father = 5&apos; 6, 180lb (45yo), unknown onset of puberty.    On father&apos;s side there are several girls with thelarche at Shania&apos;s age.   is able to concentrate at school, denies other signs of hypo- or hyperthyroidism, denies vision changes, vomiting, weight changes, increasing  abdominal girth, pelvic fullness, constipation, fevers, bone defects (bone fractures and deformity of the legs, arms and skull), fatigue, dry skin, nervousness, rashes/other skin lesions/birth marks.    In light of headaches, Shania&apos;s PCP ordered a head CT that was negative. A bone age was also performed that was read as slightly advanced at 7 years 10 months (Shania&apos;s mother will sent the film to me for my review).    Her mother denies exposure to Estrogen/Testosterone-containing creams in the household, Lavender products, tea tree oils.    NUTRITION: According to her mother, Shania has a healthy nutrition, including veggetables and fruit and dairy products.    ROS  All systems reviewed and negative other than listed in HPI.    Past Medical History  Benign premature adrenarche  eczema  asthma  snores    Immunizations:  (Reviewed)  Immunizations up to date according to patient history? yes    Birth History  Weight at birth: 6.75 lbs. (3.06 kg.). Length at birth: 19 in. (48.26 cm.).  Delivery Type was SVD. There was no history of neonatal complications.  Neonatal Comments: mild jaundice. There was no history of birth defects.    Developmental History  Development normal    Family History  Positive for:  hypertension  heart disease:  maternal grandmother, maternal grandfather, CAD  coronary artery disease  Stroke/TIA  hyperlipidemia  cancer  diabetes:  type 2  thyroid disease:  mother, sibling, hypothyroidism  asthma  depression  seizures  kidney disease  eczema  Additional Family History Notes:  No family history of congenital heart  disease.  No family history of sudden death.    mother = 5&apos; 3, 380lb (36yo), menarche at 13yo  father = 5&apos; 6, 180lb (45yo), unknown onset of puberty.    On father&apos;s side there are several girls with thelarche at Shania&apos;s age.   is able to concentrate at school, denies other signs of hypo- or hyperthyroidism, denies vision changes, vomiting, weight changes, increasing  abdominal girth, pelvic fullness, constipation, fevers, bone defects (bone fractures and deformity of the legs, arms and skull), fatigue, dry skin, nervousness, rashes/other skin lesions/birth marks.    In light of headaches, Shania&apos;s PCP ordered a head CT that was negative. A bone age was also performed that was read as slightly advanced at 7 years 10 months (Shania&apos;s mother will sent the film to me for my review).    Her mother denies exposure to Estrogen/Testosterone-containing creams in the household, Lavender products, tea tree oils.    NUTRITION: According to her mother, Shania has a healthy nutrition, including veggetables and fruit and dairy products.    ROS  All systems reviewed and negative other than listed in HPI.    Past Medical History  Benign premature adrenarche  eczema  asthma  snores    Immunizations:  (Reviewed)  Immunizations up to date according to patient history? yes    Birth History  Weight at birth: 6.75 lbs. (3.06 kg.). Length at birth: 19 in. (48.26 cm.).  Delivery Type was SVD. There was no history of neonatal complications.  Neonatal Comments: mild jaundice. There was no history of birth defects.    Developmental History  Development normal    Family History  Positive for:  hypertension  heart disease:  maternal grandmother, maternal grandfather, CAD  coronary artery disease  Stroke/TIA  hyperlipidemia  cancer  diabetes:  type 2  thyroid disease:  mother, sibling, hypothyroidism  asthma  depression  seizures  kidney disease  eczema  Additional Family History Notes:  No family history of congenital heart  disease.  No family history of sudden death.    mother = 5&apos; 3, 380lb (36yo), menarche at 13yo  father = 5&apos; 6, 180lb (45yo), unknown onset of puberty.    On father&apos;s side there are several girls with thelarche at Shania&apos;s age.   No history of genetic conditions, hirsutism, other Endocrinopathis or  autoimmune diseases otherwise.    Social History  Lives with: mother, father;  Others in household: Disabled (blind) Uncle;  Number of siblings: 4  Caregiver name: Mother  Pets in home:  yes      How many and what kind:  1 dog  Social History Notes:  Dad smokes outside. 4 siblings(1 brother and 3  sisters) live in South Carolina.      Physical Exam  Blood pressure 116/69, height 1.396 m (4&apos; 6.96&quot;), weight 29.8 kg (65 lb 11.2 oz).    General Appearance: alert/non-toxic, no obvious dysmorphic features, well nourished, well hydrated, alert and oriented for age.  General comments: tall for age  Head: normocephalic.  Eyes: no evidence of strabismus, PERRL-EOMI, fundus normal, conjunctiva clear, no discharge, no sclera icteris (jaundice).  ENT: ENT Normal, supple neck, no significant enlarged lymph nodes, no neck masses, thyroid normal palpation, normal pinna, normal dentition.  ENT: Nasal: nasal normal. Pharynx: pharynx normal.  Skin: no pigmented abnormalities, no rash, no neurocutaneous stigmata, no petechiae, no significant bruising, no lipohypertrophy.  Respiratory: clear to auscultation, equal air expansion, no retraction/accessory muscle use.  Cardiac: NL S1/S2, no S3/S4 or gallop rhythm, no clicks or rubs, heart rate  regular for age, capillary refill &lt; 2 sec, good distal perfusion, no murmur,  chest normal.  Cardiac Palpation: normal impulse.  Gastro: abdomen soft w/o masses, non-distended/non-tender, no hepatomegaly.  Lymphatic:  Spleen size: normal Spleen consistency: normal  Genitalia: normal external labia, normal introitus w/o discharge.  SMR Stage (genitalia): II (few pubic hair in inner labia majora)  SMR Stage (breasts): I  Musculoskeletal and Extremities: normal ROM, no deformity, limb length equal, joints appear normal,spine normal,no scoliosis, no muscle tenderness to palpation.   No history of genetic conditions, hirsutism, other Endocrinopathis or  autoimmune diseases otherwise.    Social History  Lives with: mother, father;  Others in household: Disabled (blind) Uncle;  Number of siblings: 4  Caregiver name: Mother  Pets in home:  yes      How many and what kind:  1 dog  Social History Notes:  Dad smokes outside. 4 siblings(1 brother and 3  sisters) live in South Carolina.      Physical Exam  Blood pressure 116/69, height 1.396 m (4&apos; 6.96&quot;), weight 29.8 kg (65 lb 11.2 oz).    General Appearance: alert/non-toxic, no obvious dysmorphic features, well nourished, well hydrated, alert and oriented for age.  General comments: tall for age  Head: normocephalic.  Eyes: no evidence of strabismus, PERRL-EOMI, fundus normal, conjunctiva clear, no discharge, no sclera icteris (jaundice).  ENT: ENT Normal, supple neck, no significant enlarged lymph nodes, no neck masses, thyroid normal palpation, normal pinna, normal dentition.  ENT: Nasal: nasal normal. Pharynx: pharynx normal.  Skin: no pigmented abnormalities, no rash, no neurocutaneous stigmata, no petechiae, no significant bruising, no lipohypertrophy.  Respiratory: clear to auscultation, equal air expansion, no retraction/accessory muscle use.  Cardiac: NL S1/S2, no S3/S4 or gallop rhythm, no clicks or rubs, heart rate  regular for age, capillary refill &lt; 2 sec, good distal perfusion, no murmur,  chest normal.  Cardiac Palpation: normal impulse.  Gastro: abdomen soft w/o masses, non-distended/non-tender, no hepatomegaly.  Lymphatic:  Spleen size: normal Spleen consistency: normal  Genitalia: normal external labia, normal introitus w/o discharge.  SMR Stage (genitalia): II (few pubic hair in inner labia majora)  SMR Stage (breasts): I  Musculoskeletal and Extremities: normal ROM, no deformity, limb length equal, joints appear normal,spine normal,no scoliosis, no muscle tenderness to palpation.   No history of genetic conditions, hirsutism, other Endocrinopathis or  autoimmune diseases otherwise.    Social History  Lives with: mother, father;  Others in household: Disabled (blind) Uncle;  Number of siblings: 4  Caregiver name: Mother  Pets in home:  yes      How many and what kind:  1 dog  Social History Notes:  Dad smokes outside. 4 siblings(1 brother and 3  sisters) live in South Carolina.      Physical Exam  Blood pressure 116/69, height 1.396 m (4&apos; 6.96&quot;), weight 29.8 kg (65 lb 11.2 oz).    General Appearance: alert/non-toxic, no obvious dysmorphic features, well nourished, well hydrated, alert and oriented for age.  General comments: tall for age  Head: normocephalic.  Eyes: no evidence of strabismus, PERRL-EOMI, fundus normal, conjunctiva clear, no discharge, no sclera icteris (jaundice).  ENT: ENT Normal, supple neck, no significant enlarged lymph nodes, no neck masses, thyroid normal palpation, normal pinna, normal dentition.  ENT: Nasal: nasal normal. Pharynx: pharynx normal.  Skin: no pigmented abnormalities, no rash, no neurocutaneous stigmata, no petechiae, no significant bruising, no lipohypertrophy.  Respiratory: clear to auscultation, equal air expansion, no retraction/accessory muscle use.  Cardiac: NL S1/S2, no S3/S4 or gallop rhythm, no clicks or rubs, heart rate  regular for age, capillary refill &lt; 2 sec, good distal perfusion, no murmur,  chest normal.  Cardiac Palpation: normal impulse.  Gastro: abdomen soft w/o masses, non-distended/non-tender, no hepatomegaly.  Lymphatic:  Spleen size: normal Spleen consistency: normal  Genitalia: normal external labia, normal introitus w/o discharge.  SMR Stage (genitalia): II (few pubic hair in inner labia majora)  SMR Stage (breasts): I  Musculoskeletal and Extremities: normal ROM, no deformity, limb length equal, joints appear normal,spine normal,no scoliosis, no muscle tenderness to palpation.   Neurologic: normal muscle tone and bulk, sensation grossly intact,no tremors, no motor weakness,gait and station normal, balance normal.  Psychologic: bright and alert.      Impression  Shania is a 7 years and 0 months-old  girl with benign premature adrenarche and no other signs of puberty.    Plan  Reassured mother.  Reviewed growth charts with her .  Follow pubertal signs and growth velocity in 6 months.    Personally reviewed outside Bone age obtained at chronological age of 7  y.o. 0  m.o..    Per my personal interpretation of Shania&apos;s bone age film, it was consistent with 7 years and 10 months. This bone age film is average for chronological age.     Based on this film, Shania&apos;s predicted adult height is 69in .   Since genetic potential (calculated by mid-parental height) is 62 in (+/-4in),  the predicted adult height falls above genetic potential. Definitely not compromising her adult final height.    I would like to follow Shania&apos;s growth and pubertal status in 5-6 months.    Cathrine Constantacos, MD       Neurologic: normal muscle tone and bulk, sensation grossly intact,no tremors, no motor weakness,gait and station normal, balance normal.  Psychologic: bright and alert.      Impression  Shania is a 7 years and 0 months-old  girl with benign premature adrenarche and no other signs of puberty.    Plan  Reassured mother.  Reviewed growth charts with her .  Follow pubertal signs and growth velocity in 6 months.    Personally reviewed outside Bone age obtained at chronological age of 7  y.o. 0  m.o..    Per my personal interpretation of Shania&apos;s bone age film, it was consistent with 7 years and 10 months. This bone age film is average for chronological age.     Based on this film, Shania&apos;s predicted adult height is 69in .   Since genetic potential (calculated by mid-parental height) is       in (+/-4in),  the predicted adult height falls within the genetic potential and is therefore reassuring.    I would like to follow Shania&apos;s growth and pubertal status in 5-6 months.          Cathrine Constantacos, MD       Neurologic: normal muscle tone and bulk, sensation grossly intact,no tremors, no motor weakness,gait and station normal, balance normal.  Psychologic: bright and alert.      Impression  Shania is a 7 years and 0 months-old  girl with benign premature adrenarche and no other signs of puberty.    Plan  Reassured mother.  Reviewed growth charts with her .  Follow pubertal signs and growth velocity in 6 months.    Personally reviewed outside Bone age obtained at chronological age of 7  y.o. 0  m.o..    Per my personal interpretation of Shania&apos;s bone age film, it was consistent with 7 years and 10 months. This bone age film is average for chronological age.     Based on this film, Shania&apos;s predicted adult height is 69in .   Since genetic potential (calculated by mid-parental height) is 61 in (+/-4in),  the predicted adult height falls within the genetic potential and is therefore reassuring.    I would like to follow Shania&apos;s growth and pubertal status in 5-6 months.          Cathrine Constantacos, MD       ',\n",
       " '\\n\\nACCESSION NUMBER:  SL19-501\\nRECEIVED: 3/8/2019\\nORDERING PHYSICIAN:  PHILLIP GLENN MARKS , MD\\nPATIENT NAME:  SALMERONMARROQUIN, JOSE\\nSURGICAL PATHOLOGY REPORT\\n\\nFINAL PATHOLOGIC DIAGNOSIS\\nMICROSCOPIC EXAMINATION AND DIAGNOSIS\\n\\nFORESKIN, CIRCUMCISION:\\n    Benign squamous mucosa with mild chronic inflammation.\\n\\n\\nI have personally reviewed the slides and/or other related\\nmaterials referenced, and have edited the report as part of my\\npathologic assessment and final interpretation.\\n\\nElectronically Signed Out By:   J. W. KIM-SHAPIRO, M.D.\\n3/12/2019 10:24:19\\n\\njwk/jwk\\n\\nSpecimen(s) Received\\n Foreskin\\n\\nClinical History\\nPhimosis.  Per electronic record, phimosis, circumcision;\\nfindings:  marked inflammation of foreskin and glans penis.\\n\\n\\n\\n\\nGross Description\\nReceived labeled &quot;foreskin&quot; are 2 unoriented fragments of\\nforeskin, 1.9 x 1 x 0.6 cm and 2.1 x 1.1 x 0.5 cm.  The skin\\nsurfaces are pink and wrinkled.  The mucosal surfaces are pink\\nand mildly edematous.  No focal lesion is noted.  Fragments are\\nbisected and reveal loose stroma without nodularity or focal\\nlesion.  The specimen is entirely submitted.\\n\\n/jwk\\n\\n\\n\\n\\n\\n\\nLMC LAB RESULTING AGENCY\\nCLIA # 34D0017525\\n250 Hospital Drive\\nLexington, North Carolina 27292\\n\\nThis document contains confidential information from a Wake\\nForest Baptist Health medical record system and may be\\nunauthenticated.  Release may be made only with a valid\\nauthorization or in accordance with applicable policies of\\nMedical Center of its affiliates.  This document must be\\nmaintained in a secure manner or discarded/destroyed as required\\nby Medical Center policy or by a confidential means such as\\nshredding.\\n',\n",
       " 'PEDIATRIC OUTPATIENT NUTRITION VISIT NOTE    Referral:  Reason for referral:  poor weight gain, milk protein allergy  Referral for Medical Nutrition Therapy made by: Self, A Referral  PCP: A Referral Self  Appointment length: 30 minutes  Patient Age: 2  y.o. 10  m.o.  Visit type: return      RECOMMENDATIONS/INTERVENTIONS:  Patient Instructions   1. Try introducing whole milk, soy milk, and pediasure- provided WIC rx- offer with meals and snacks  2. Continue offering milk-containing products  3. New WIC rx for Elecare in case milk introduction does not go well  4. Recommend pursuing feeding therapy to help with texture expansion, chewing, and swallowing  5. Limit meal times to 30 minutes, avoid grazing in between meals and snacks  6. Return in about 4 months (around 2/9/2019).    Pt ID: Skylar is a 2 y.o. female with mhx of reflux, milk protein intolerance, dysphagia, and poor weight gain.    NUTRITION ASSESSMENT:   10/09/18: Pt accompanied by mother for today&apos;s MNT visit in conjunction with a GI clinic visit. Recommendations from last visit were: Start probiotic- Culturelle or similar. Continue dairy free diet. Continue Elecare Jr 35 kcal/oz, up to 20 oz per day. Offer as feasible with meals and snacks. Swallow study today. Recommend pursuing feeding therapy closer to home, pediatrician is best place to start for recommendations. Return in about 3 months (around 9/5/2018).    Per MD: Pt is eating a little better since last visit. She attributes this to Skylar responding to her younger brother eating and periactin 1 mg HS. Mom has decided to follow a vegan diet and has noticed that Skylar prefers vegetarian meals. Overall, Skylar has expanded her diet. She is getting about 3 cups (8-12oz) daily of EleCare. Mom is concerned with Skylar&apos;s eating behaviors. She will take small bites, spit out the food, and move the food around in her mouth. Mom reports there has been an increase in  coughing episodes. Skylar will wake up in the middle of the night &quot;gasping&quot; for air before coughing then falling back asleep. These episodes will occur 2-3 times at night or during a nap- never while she is awake. Skylar continues to having choking episodes and a cough with liquids. Mom is interested in a repeat swallowing study. Mom has been unable to proceed with speech therapy but is still pursuing this. Additionally, mom is concerned with vaginal pain and a rash. Mom is using desonide PRN. She attributes this to expanding her diet and dairy products. Mom reports about 1 BM daily while utilizing bethanechol three times daily. Mom endorses intermittently using an OTC probiotic. No diarrhea. Of note, mom has not proceeded with the ENT evaluation. There are no other associated Sx or concerns.     Reviewed growth charts: 2 lb weight gain in the last 4 months, length growth slightly improved, improved BMI for age- WNL.    6/5/18:  Patient accompanied by mother for today&apos;s MNT visit following a GI clinic visit.  Recommendations from last visit were: 1. Continue to work on structuring meals and snacks at the same time each day as feasible (3 meals, 2-3 snacks), all meals at table or in high chair 2. Water with a little juice in between meals- save caloric beverages for meal and snack time 3. High calorie diet, try for 2 food groups in meals and snacks 4. Thicken all liquids per ST recommendations 5. Continue Elecare Jr 35 cal/oz 6. F/U 3 months, will discuss if appropriate for kids EAT with team.    Presently, mother reports Skylar is frequently waking up screaming in the middle of the night due to reflux. She assumes this is heartburn and there is still concern that Skylar is aspirating. There have been no episodes of vomiting since starting bethanechol. Skylar will spit up due to a persistent cough. Skylar is taking Prevacid 15 mg QAM. There has been no  weight gain which mom attributes to Skylar globally not feeling well due to frequent illness.  Additionally, Skylar was evaluated in the hospital 2 weeks ago for recurrent ear infections. Mom was emotional today expressing frustration over patient&apos;s frequent illness and feeling like they start over again with feeding skills and food range every time she gets sick.  If Skylar chokes on food this will deter her from eating. This has resulted in a very limited diet. Currently, Skylar is only eating rice and anywhere from 8 oz to 24 oz of EleCare a day. Skylar will put grapes and crackers in her mouth but will not swallow them. She has slightly improved variety in the last 2 days. They are mixing Elecare Jr 7 scoops +7 oz water.  We discussed recommendations from kids eat team regarding feeding therapy closer to home, as she will likely need at least weekly follow-up.    2/20/18: Patient accompanied by mother for today&apos;s MNT visit following a GI clinic visit.  Recommendations from last phone call with mother were: 1.  Continue to promote structured meals and snacks at same time each day. 2.  Increase caloric concentration of EleCare Junior: 7 scoops +7 ounces of water 3.  Continue to encourage drinking EleCare with meals 4.  PCP to call Dr. Glock on Thursday during visit per mom 5.  Reinforced recommendation to go to ED if mom has concerns about serious dehydration 6. Follow-up on February 20th with Dr. Glock, provided number for direct call back if mom has questions prior to visit.  Since last conversation, mom states that pt has been a little better with oral intake of foods, but continues with EleCare thickened with Thicken Up as only beverage, drinking 3 x8 ounce bottles per day.  She is still refusing thickened water and juice.  Mom has been offering solids for breakfast before EleCare for about 5 minutes.  They have extended time between cups of EleCare to about 1 hour, and offer food every few hours.   She is doing well sitting in her chair at the table.  Mom has tried some of the high-calorie suggestions, but states that patient is particular about textures and did not like smoothies or pudding.  They tried reintroducing milk since last visit as minor ingredient in foods, which was followed by patient having a bad rash around rectum. Reflux Sx are still persistent.    12/19/17: I had the pleasure of meeting Skylar accompanied by her mother, father, and infant brother for her first Medical Nutrition Therapy visit today. Parents report that pt was a full term infant (38 week gestation) with no complications with pregnancy. 7# 9 oz birth weight.  Pt experienced frequent projectile vomiting throughout first 6 months of life with associated poor weight gain. Parents never saw blood or mucous in stools. Mom breastfed until about 5 months of age, tried dietary restrictions but did not notice any improvements. She has been on reflux meds since 2 months of age. Pt tried Nutramigen, then transitioned to Neocate with rice cereal from 5-12 months of age. Pt did not eat a lot of purees, preferred table foods. She has never tended to eat large portion sizes in one sitting. She had her first MBS about a year ago, and started refusing solids entirely following procedure. She is now accepting solids, but will graze throughout the day. Parents state that they try to constanly have food in front of her and will offer food whenever she asks. She likes strong flavors- garlic triscuits, dips and sauces. She does eat some fruits and vegetables, loves black beans but does not eat a lot of meats. She drinks Elecare Jr almost exclusively- 3-4 x 9 oz cups per day from sippy cup or cup with straw. She drinks the first cup first thing in the morning, and sips on the other two throughout the day. Parents have recently started introducing foods that say &quot;may contain milk.&quot;     24 hour diet recall:  Breakfast: 9 oz Elecare, 1-2 hours later: reflux med wth applesauce, 2 kinds of cereal- a few bites of cereal, left food on tray for her to graze. Lunch: Peanut butter toast, grapes. Snack: 18 oz Elecare and triscuits throughout afternoon. Dinner: will always offer family dinner foods, will sometimes eat, amount varies.    Steady decrease in weight for age and weight for length %iles over last 12 months with continued slow weight gain. 1.4 SD drop in weight for length Z-scores, 0.75 SD drop in weight for age Z-scores      Nutrition:   age appropriate    GI/Stooling:  Swallowing: Repeat MBS following last visit- showed improvement in dysphagia. ST rec&apos;s were:   1) Offer a full range of liquids and age-appropriate diet. May consider offering liquids via straw cup rather than sippy cup.  2) Consider feeding therapy to increase variety of accepted foods and ensure adequate nutritional intake.  3) Repeat MBSS only if clinically indicated.   Mealtime Environment: Unstructured  Home Environment: working stove and refrigerator, city water supply and reads and understands food labels  WIC Services: yes    Medical Review:    PMH/Chart/Labs/Drug-Nutrient Interactions: Reviewed.   Estimated Needs:   Estimated energy needs: 95-105 kcals/kg/day  Estimated protein needs: 1.2 grams/kg/day  Estimated fluid needs: 1000 ml/day    Suspected deficiencies: none  Suspected excess: none    Wt Readings from Last 3 Encounters:   10/09/18 11.1 kg (24 lb 7.5 oz) (3 %, Z= -1.96)*   06/05/18 (!) 10.3 kg (22 lb 11.3 oz) (1 %, Z= -2.33)*   02/20/18 10.3 kg (22 lb 11.3 oz) (3 %, Z= -1.92)*     * Growth percentiles are based on CDC 2-20 Years data.     Ht Readings from Last 3 Encounters:   10/09/18 0.87 m (2&apos; 10.25&quot;) (6 %, Z= -1.58)*   06/05/18 0.835 m (2&apos; 8.87&quot;) (3 %, Z= -1.81)*   02/20/18 0.81 m (2&apos; 7.89&quot;) (4 %, Z= -1.80)*     * Growth percentiles are based on CDC 2-20 Years data.     BMI:   10/9/18: 16%, Z= -1.00   6/5/18: 9.9%, Z= -1.29  2/20/18: 27%, Z= -0.61  12/19/2017: 7%, Z=-1.46     Current Outpatient Prescriptions:     bethanechol (URECHOLINE) 1 mg/mL Susp suspension, Take 2 mLs (2 mg total) by mouth 3 times daily before meals., Disp: 180 mL, Rfl: 11    cyproheptadine (PERIACTIN) 2 mg/5 mL syrup, Take 2.5 mLs (1 mg total) by mouth nightly., Disp: 45 mL, Rfl: 2    desonide (DESOWEN) 0.05 % ointment, Apply topically 2 times daily., Disp: 60 g, Rfl: 3    lactulose (CEPHULAC) 10 gram/15 mL (15 mL) solution, Take 15 mLs (10 g total) by mouth 3 times daily., Disp: 240 mL, Rfl: 5    lansoprazole (PREVACID) 15 MG capsule, Take 1 capsule (15 mg total) by mouth daily before breakfast., Disp: 30 capsule, Rfl: 5    nystatin (MYCOSTATIN) 100,000 unit/gram powder, Apply topically 2 times daily., Disp: 30 g, Rfl: 2    DIAGNOSIS  Inadequate energy intake related to unstructured meal times and grazing and frequent illness, as evidenced by parent report and 24 hour diet recall    INTERVENTION  Counseling/Education provided: Milk-free high calorie diet  Handouts given: Dairy-Free High Calorie Tips (WFBH), Toddler Nutrition (AND)  Teach back method: yes  Expected compliance: good  Level of understanding: good    MONITORING/EVALUATION  Promote weight gain- meeting  Goal of weight for age in 10th %ile and WFL between 15-40th %ile.- partially meeting  Monitor adherence to recommendations- partially meeting      Contact information was provided to the caregiver/ patient.  Caregiver/patient stated understanding of information provided by this nutritionist.     Thank you for this referral and for your support of Medical Nutrition Therapy.                Electronically signed by: Lisa Joann Englander Landes, RD  01/24/19 1223     ',\n",
       " 'Studies were performed and provided by Wake Forest Baptist Health-Lexington Medical Center\\n\\nEXAM: KNEE LEFT 3 VIEWS\\nEXAM DATE: 06/20/2012\\n\\nHistory: Pain.\\n\\nViews: Three.\\n\\nFindings: Three views of bilateral knees are submitted for review. The images\\ndemonstrate no acute fracture or dislocation. There are extensive\\nosteoarthritic changes, narrowed joint spaces and osteophyte formation.\\nChondrocalcinosis is also identified in bilateral knee joint spaces.\\n\\n\\n1. Arthritic changes in bilateral knees, severe.\\n\\n=== WL  /wcb Wei-Chen Lin, M.D.\\n=== Transcribed: 06/20/12Electronic Signature\\n=== Signed Off:  06/20/12\\n',\n",
       " 'Terry Kilpatrick is a 65y/o male here for surgical planning and discussion    HPI: 65 y/o male with a history of 3 TIAS within 1 day approximately 4 years ago. He reports the symptoms were on the left side (weakness and numbness with speech symptoms). He denies any symptoms on the right side. He is left handed. He has never had other symptoms after being placed on antiplatelets. He has never had right sided symptoms. He recently stopped his Plavix and began taking ASA-325 per Dr. Wolfe. He is here with questions regarding his upcoming surgical procedure.     PMH: HTN- well-controlled, GERD, TIA   ALL: NKDA   MEDS: Reviewed and as stated in chart. ASA- 325, stopped Plavix 75mg   SH: Nonsmoker, Drinks wine, beer, liquor- about 20 drinks per week   FM: No h/o moyamoya or vasculitis   ROS: As per HPI. All other systems reviewed and are normal.     PE: VS stable as charted, Normal body habitus   A+Ox3, speech fluent, memory intact, normal concentration, normal fund of knowledge   PERRL, EOMI, face symmetric, facial sensation normal, normal palatal elevation, tongue midline, shoulder shrug symmetric   Strength 5/5 all muscle groups, normal tone, no drift   Normal sensation bilaterally   Normal gait     Electronically signed by: Christen M Seguin, NP 1/14/2015 12:01 PM    I reviewed the following imagine studies: Angiogram shows no significant right intracranial stenosis. Normal carotid bifurcations bilaterally. High grade stenosis of the left temporal M2 with delayed filling. 50% stenosis of the left frontal M2. Significant ACA collaterals to the MCA territory on the left. No ECA collaterals have developed on either side.     MRI shows no acute strokes or significant left MCA microvascular disease. Functional MRI shows bilateral speech but predominantly on the left.     Assessment/Plan:   I spoke at length with the patient regarding the diagnosis, prognosis, treatment options and expected outcomes. Mr. Kilpatrick has left  idiopathic stenosis of the MCA bifurcation. This is not consistent with moya moya, nor do I see neovascularity such as seen with moya moya. It also does not appear to be atherosclerotic.  We again discussed that the temporal stenosis is high grade- around 90%- with delayed filling of this territory. The frontal branch is about 50% narrowed and there is significant ACA collateralization. This side is asymptomatic. He is left handed with bilateral speech representation, although it is predominantly on the left side.     I answered all questions regarding the pros and cons of conservative versus surgical therapy and we discussed the various surgical approaches, including their benefits and drawbacks.  STA-MCA bypass would be difficult as we would have to bypass directly to a temporal branch within the fissure, and localizing this could be tricky. EDAS is a reasonable choice, with a smaller risk profile. As he is asymptomatic on this side, and shows no significant microvascular change in this region, it is reasonable to continue medical therapy and monitor radiographically to see if his body will continue to develop collaterals (none from the ECA yet), however after deliberation with myself, Dr Bushnell and his wife, he would like to pursue surgical options to decrease the risk of stroke. We had a lengthy discussion regarding the risks of surgery, which include but are not limited to risks of anesthesia, infection, bleeding, brain or nerve damage, CSF leak, pain, need for further surgery, and medical complications such as heart attack, blood clots, pneumonia or death.We discussed that EDAS will not give immediate results, but will assist the formation of collaterals and hopefully prevent stroke with associated aphasia.  He understands and wishes to proceed with a left EDAS.  We will schedule the patient and proceed with the appropriate pre-operative assessment.     This encounter lasted 30 minutes, in which I spent greater than 50% of the time counseling and coordinating care.     ',\n",
       " 'Dear Doctor Heinrich:    It was my pleasure to see  Christopher back today in clinic for return visit for: renal transplant    History was provided by parent in English.    History of Present Illness: As you know, Christopher is a 12 y.o. male with a history of FSGS, s/p DD kidney transplant 12/8/2008.  He was last seen in clinic on 12/3/15, at that time he had mild proteinuria, improved since previous visit, and started on Nystatin suspension to treat thrush. He denies fever, recent illnesses, allograft tenderness, urinary symptoms, or abdominal pain.  Prograf was taken at 8pm last night.     Current Outpatient Prescriptions   Medication Sig Dispense Refill    allopurinol (ZYLOPRIM) 100 MG tablet TAKE 1 TABLET BY MOUTH THREE TIMES DAILY. 90 tablet 2    ergocalciferol (VITAMIN D2) 50,000 unit capsule 1 capsule two times per week 8 capsule 3    lisinopril (PRINIVIL,ZESTRIL) 5 MG tablet Take 3 tablets (15 mg total) by mouth 2 times daily. 180 tablet 2    mycophenolate mofetil (CELLCEPT) 200 mg/mL suspension Take 2.5 mLs (500 mg total) by mouth 2 times daily. 150 mL 2    predniSONE (DELTASONE) 1 MG tablet TAKE 1 TABLET BY MOUTH DAILY. 30 tablet 5    tacrolimus (PROGRAF) 0.5 mg/mL suspension Take 6mls by mouth twice daily 360 mL 3     No current facility-administered medications for this visit.        Past Medical History   Diagnosis Date    Focal segmental glomerulosclerosis     Deceased-donor kidney transplant recipient     Encounter for long-term (current) use of other high-risk medications      Cellcept, Prograf        Allergies as of 02/04/2016 - Review Complete 02/04/2016   Allergen Reaction Noted    Pineapple Itching / Pruritis (ALLERGY/intolerance) 08/27/2015        Family History   Problem Relation Age of Onset    Kidney disease Neg Hx     Hypertension Neg Hx     Kidney failure Neg Hx     Clotting disorder Neg Hx     Anesthesia problems Neg Hx     Hearing loss Neg Hx     Asthma Neg Hx      Allergies Neg Hx         History     Social History    Marital Status: Single     Spouse Name: N/A     Number of Children: N/A    Years of Education: N/A     Occupational History    Not on file.     Social History Main Topics    Smoking status: Never Smoker     Smokeless tobacco: Not on file      Comment: No smokers in home.    Alcohol Use: Not on file    Drug Use: Not on file    Sexual Activity: Not on file     Other Topics Concern    Not on file     Social History Narrative    Lives with parents and siblings (2 sisters, 1 brother).  Patient is in 5th grade as of September 2014. He he a pet shark and fish at home.       Review of systems:   All systems were reviewed and are negative except as noted in HPI.    Physical exam:   BP: 96/64 mmHg             Height: 149.3 cm (4&apos; 10.76&quot;)    Weight: (!) 63.4 kg (139 lb 12.4 oz)          BMI-  Body mass index is 28.44 kg/(m^2).     General appearance: alert, active, no distress, well-appearing, overweight  HEENT: pharynx clear, no erythema, no conjunctival inflammation, TMs intact b/l  Neck: supple, no lymphadenopathy  Respiratory: lungs clear to auscultation  Heart: regular rate, normal precordium, normal S1 and S2, no murmur  Abdomen: soft, not tender, +BS, palpable allograft RLQ  Extremities: no edema, no deformity  Neuro: normal tone, no deficits, normal gait  Psychological: normal affect   Musculoskeletal: joints FROM, no joint swelling  Lymph: no lymphadenopathy  Skin: no rashes or lesions, dry skin on nose    Laboratory Studies:  Component      Latest Ref Rng 2/4/2016             WBC      4.5 - 13.5 X1000 6.3   Red Blood Count      4.5 - 5.3 X1,000,000 3.80 (L)   HEMOGLOBIN      13.0 - 16.0 G/DL 11.3 (L)   HEMATOCRIT      37.0 - 49.0 % 33.7 (L)   MCV      78.0 - 98.0 FL 88.7   MCH      25 - 35 PG 29.7   MCHC      31.0 - 37.0 G/DL 33.5   RDW      11.5 - 14.5 % 14.2   PLATELET COUNT      160 - 360 X1000 259   MPV      6.8 - 10.2 FL 8.6    NEUTROPHILS RELATIVE PERCENT       53   LYMPHOCYTES RELATIVE PERCENT       33   MONOCYTES RELATIVE PERCENT       9   BASOPHILS RELATIVE PERCENT       1   EOSINOPHILS RELATIVE PERCENT       5   NUCLEATED RED BLOOD CELLS      0 /100 WBC 0   NEUTROPHILS ABSOLUTE COUNT      1.8 - 8.0 X1000 3.3   LYMPHOCYTES ABSOLUTE COUNT      1.5 - 6.5 X1000 2.1   MONOCYTES ABSOLUTE COUNT      0.16 - 0.9 X1000 0.5   BASOPHILS ABSOLUTE COUNT      0.0 - 0.2 X1000 0.0   EOSINOPHILS ABSOLUTE COUNT      0.0 - 0.5 X1000 0.3   SODIUM      136 - 143 MMOL/L 137   POTASSIUM      3.5 - 5.5 MMOL/L 4.1   CHLORIDE      98 - 110 MMOL/L 106   CO2      22 - 30 MMOL/L 23   BUN      5.0 - 15.0 MG/DL 12   GLUCOSE      60 - 100 MG/DL 94   CALCIUM      8.5 - 11.0 MG/DL 9.6   PHOSPHORUS      3.5 - 5.5 MG/DL 4.5   ALBUMIN      3.8 - 5.4 G/DL 4.0   CREATININE      0.5 - 1.0 MG/DL 0.53   ANION GAP      4 - 14 8   EST. GFR NON-BLACK       NOT CALCULATED   EST. GFR BLACK       NOT CALCULATED   VIT D,25 HYDROXY D2       30   VIT D,25 HYDROXY D3       4   VIT D, HYDROXY TOTAL       34   VD25 COMMENT       The sources of 25 OH D3 include both endogenous metabolism and nutritional supplement,whereas 25 OH D2 is from nutritional supplement.   FK506      5.0 - 20.0 NG/ML 4.4 (L)   URIC ACID      3.0 - 7.0 MG/DL 5.4     Component      Latest Ref Rng 2/4/2016             U Color      YELLOW YELLOW   UA Clarity      CLEAR CLEAR   U Specific Gravity      1.005 - 1.025 1.015   U pH      5.5 - 6.5 5.0 (L)   UR Prot    (ALB)      NEG MG/DL NEG   U Glucose      NEG G/DL NEG   U Ketones      NEG MG/DL NEG   UA Bilirubin      NEG NEG   U Blood/Hb      NEG NEG   U Urobilinogen      0.1 - 1.0 EU/DL 0.2   U Nitrite      NEG NEG   U Leukocytes      NEG NEG   U Comment       MICROSCOPIC NOT NECESSARY   U Red Blood Cells      0 - 3 /HPF 0-3   U White Blood Cells      0 - 5 /HPF 0-5   Hyaline Casts      0 - 2 /LPF 0-2   URINE VOLUME       40   URINE INTERVAL       RANDOM    U CREATININE CONC       96   U PROTEIN CONC       13.8   URINE ALBUMIN CONCENTRATION      0 - 30 MG/L 71 (H)   URINE ALBUMIN / G CREATININE      0 - 30 MG/G CREAT 74 (H)   URINE ALBUMIN / 24 HR      0 - 30 MG/24 HR RESULT CANNOT BE CALCULATED FOR RANDOM SAMPLES     Urine protein/creatinine: 0.14    Assessment:Christopher is a 12 y.o. male with a history of FSGS, s/p DD kidney transplant 12/8/2008. BP is normal.  He has had transient proteinuria (urine p/c up to 3.5 a few months ago, has been decreasing).  CBC is normal. Creatinine is at baseline of 0.5-0.6. Electrolytes are acceptable. His Prograf level is within target range. Uric acid is normal on current dose of allopurinol. Urine protein/creatinine is 0.14, which is now normal.  Vitamin D is therapeutic.  He is normotensive.    Plan:  --Routine ECHO same day as next appointment  --Continue Vitamin D  --Continue all other medications as before  --Return to clinic in 1 month for follow-up     Current Outpatient Prescriptions   Medication Sig Dispense Refill    allopurinol (ZYLOPRIM) 100 MG tablet TAKE 1 TABLET BY MOUTH THREE TIMES DAILY. 90 tablet 2    ergocalciferol (VITAMIN D2) 50,000 unit capsule 1 capsule two times per week 8 capsule 3    lisinopril (PRINIVIL,ZESTRIL) 5 MG tablet Take 3 tablets (15 mg total) by mouth 2 times daily. 180 tablet 2    mycophenolate mofetil (CELLCEPT) 200 mg/mL suspension Take 2.5 mLs (500 mg total) by mouth 2 times daily. 150 mL 2    predniSONE (DELTASONE) 1 MG tablet TAKE 1 TABLET BY MOUTH DAILY. 30 tablet 5    tacrolimus (PROGRAF) 0.5 mg/mL suspension Take 6mls by mouth twice daily 360 mL 3     No current facility-administered medications for this visit.       Thank you for allowing me to participate in Christopher&apos;s care.  If you have any questions or concerns, please do not hesitate to contact me at 336-713-4500.    Ashton Chen, DO  Assistant Professor, Pediatrics  Pediatric Nephrology  Wake Forest Baptist Health     This document serves as a record of services personally performed by Ashton Chen, DO. It was created on their behalf by Sara Boye, a trained medical scribe. The creation of this record is the providers dictation and/or activities during the visit. This document has been checked and approved by attending provider.    Electronically signed by: Sara Boye, Medical Scribe 2/4/2016 9:12 AM          Electronically signed by: Ashton Chen, DO  02/18/16 0911   ',\n",
       " 'Needs medication refills.     States that he has a problem sleeping and has been depressed. Requesting to speak with BH. BH notified as well as PCP     Electronically signed by: Syed Arif Mahmood, MD  Resident  06/17/18 1508     ']"
      ]
     },
     "execution_count": 7,
     "metadata": {},
     "output_type": "execute_result"
    }
   ],
   "source": [
    "wfu_dataset['train']['text'][:10]"
   ]
  },
  {
   "cell_type": "code",
   "execution_count": 8,
   "metadata": {},
   "outputs": [
    {
     "data": {
      "text/plain": [
       "['AGE',\n",
       " 'DATE',\n",
       " 'EMAIL',\n",
       " 'HOSPITAL',\n",
       " 'IDNUM',\n",
       " 'INITIALS',\n",
       " 'IPADDRESS',\n",
       " 'LOCATION',\n",
       " 'NAME',\n",
       " 'OTHER',\n",
       " 'PHONE',\n",
       " 'URL',\n",
       " 'NORMAL']"
      ]
     },
     "execution_count": 8,
     "metadata": {},
     "output_type": "execute_result"
    }
   ],
   "source": [
    "wfu_dataset['train'].features['label'].names"
   ]
  },
  {
   "cell_type": "code",
   "execution_count": 9,
   "metadata": {},
   "outputs": [
    {
     "data": {
      "text/plain": [
       "{'filename': '00101.xml',\n",
       " 'text': '\\n\\nACCESSION NUMBER:  S15-20324\\nRECEIVED: 8/17/2015\\nORDERING PHYSICIAN:  DANIEL JEFFREY KIRSE , MD\\nPATIENT NAME:  KINDLON, TYLER JOSEPH\\nSURGICAL PATHOLOGY REPORT\\n\\nFINAL PATHOLOGIC DIAGNOSIS\\nGROSS EXAMINATION AND DIAGNOSIS\\n\\nOROPHARYNX, BILATERAL PALATINE TONSILS, TONSILLECTOMY:\\n     No gross abnormality (gross only)\\n\\n\\nI have personally reviewed the slides and/or other related\\nmaterials referenced, and have edited the report as part of my\\npathologic assessment and final interpretation.\\n\\nElectronically Signed Out By:   S. S. O&apos;Neill, M.D., PhD,\\nPathology   8/19/2015 17:16:00\\n\\nsso/oia\\n\\nSpecimen(s) Received\\n Tonsil and/or adenoids Gross only\\n\\n\\nClinical History\\nSleep-disordered breathing.\\n\\n\\n\\n\\nGross Description\\n\\nA.  Received labeled &quot;tonsils for gross only&quot; is a specimen\\nreceived for gross examination only consisting of two tonsils, 5\\ng and 6 g and 3.2 x 2.4 x 1.7 cm and 3.2 x 2.6 x 2 cm,\\nrespectively.  The outer surfaces are tan-pink bosselated while\\nthe cut surfaces are tan-pink, lobulated, and unremarkable. The\\nspecimen has been reviewed by the attending pathologist.\\n\\n\\nO. I. AHMED, M.D., R\\n\\n\\n\\n\\n\\n',\n",
       " 'label': None,\n",
       " 'phi': {'ids': ['P2', 'P0', 'P3', 'P4', 'P5', 'P1', 'P6'],\n",
       "  'offsets': [[21, 30],\n",
       "   [41, 50],\n",
       "   [72, 92],\n",
       "   [113, 134],\n",
       "   [521, 539],\n",
       "   [564, 582],\n",
       "   [1096, 1107]],\n",
       "  'types': ['IDNUM', 'DATE', 'NAME', 'NAME', 'NAME', 'DATE', 'NAME']}}"
      ]
     },
     "execution_count": 9,
     "metadata": {},
     "output_type": "execute_result"
    }
   ],
   "source": [
    "example = wfu_dataset['train'][101]\n",
    "example"
   ]
  },
  {
   "cell_type": "code",
   "execution_count": 10,
   "metadata": {},
   "outputs": [
    {
     "data": {
      "text/plain": [
       "('\\n\\nACCESSION NUMBER:  S15-20324\\nRECEIVED: 8/17/2015\\nORDERING PHYSICIAN:  DANIEL JEFFREY KIRSE , MD\\nPATIENT NAME:  KINDLON, TYLER JOSEPH\\nSURGICAL PATHOLOGY REPORT\\n\\nFINAL PATHOLOGIC DIAGNOSIS\\nGROSS EXAMINATION AND DIAGNOSIS\\n\\nOROPHARYNX, BILATERAL PALATINE TONSILS, TONSILLECTOMY:\\n     No gross abnormality (gross only)\\n\\n\\nI have personally reviewed the slides and/or other related\\nmaterials referenced, and have edited the report as part of my\\npathologic assessment and final interpretation.\\n\\nElectronically Signed Out By:   S. S. O&apos;Neill, M.D., PhD,\\nPathology   8/19/2015 17:16:00\\n\\nsso/oia\\n\\nSpecimen(s) Received\\n Tonsil and/or adenoids Gross only\\n\\n\\nClinical History\\nSleep-disordered breathing.\\n\\n\\n\\n\\nGross Description\\n\\nA.  Received labeled &quot;tonsils for gross only&quot; is a specimen\\nreceived for gross examination only consisting of two tonsils, 5\\ng and 6 g and 3.2 x 2.4 x 1.7 cm and 3.2 x 2.6 x 2 cm,\\nrespectively.  The outer surfaces are tan-pink bosselated while\\nthe cut surfaces are tan-pink, lobulated, and unremarkable. The\\nspecimen has been reviewed by the attending pathologist.\\n\\n\\nO. I. AHMED, M.D., R\\n\\n\\n\\n\\n\\n',\n",
       " {'ids': ['P2', 'P0', 'P3', 'P4', 'P5', 'P1', 'P6'],\n",
       "  'offsets': [[21, 30],\n",
       "   [41, 50],\n",
       "   [72, 92],\n",
       "   [113, 134],\n",
       "   [521, 539],\n",
       "   [564, 582],\n",
       "   [1096, 1107]],\n",
       "  'types': ['IDNUM', 'DATE', 'NAME', 'NAME', 'NAME', 'DATE', 'NAME']},\n",
       " 'S15-20324',\n",
       " 'DANIEL JEFFREY KIRSE')"
      ]
     },
     "execution_count": 10,
     "metadata": {},
     "output_type": "execute_result"
    }
   ],
   "source": [
    "# looks fine\n",
    "example['text'], example['phi'], \\\n",
    "    example['text'][example['phi']['offsets'][0][0]:example['phi']['offsets'][0][1]], \\\n",
    "    example['text'][example['phi']['offsets'][2][0]:example['phi']['offsets'][2][1]]"
   ]
  },
  {
   "cell_type": "code",
   "execution_count": 11,
   "metadata": {},
   "outputs": [
    {
     "data": {
      "text/plain": [
       "Counter({'DATE': 14549,\n",
       "         'NAME': 9092,\n",
       "         'IDNUM': 1123,\n",
       "         'HOSPITAL': 1079,\n",
       "         'AGE': 1058,\n",
       "         'LOCATION': 550,\n",
       "         'PHONE': 150,\n",
       "         'INITIALS': 112,\n",
       "         'OTHER': 24,\n",
       "         'EMAIL': 12,\n",
       "         'URL': 8,\n",
       "         'IPADDRESS': 1})"
      ]
     },
     "execution_count": 11,
     "metadata": {},
     "output_type": "execute_result"
    }
   ],
   "source": [
    "from collections import Counter\n",
    "\n",
    "types_stat = []\n",
    "for x in wfu_dataset['train']['phi']:\n",
    "    types_stat += x['types']\n",
    "Counter(types_stat)"
   ]
  },
  {
   "cell_type": "code",
   "execution_count": 12,
   "metadata": {},
   "outputs": [
    {
     "data": {
      "text/plain": [
       "Counter({'DATE': 3329,\n",
       "         'NAME': 2242,\n",
       "         'IDNUM': 317,\n",
       "         'AGE': 263,\n",
       "         'HOSPITAL': 225,\n",
       "         'LOCATION': 196,\n",
       "         'INITIALS': 36,\n",
       "         'PHONE': 24,\n",
       "         'OTHER': 5,\n",
       "         'EMAIL': 4,\n",
       "         'URL': 3})"
      ]
     },
     "execution_count": 12,
     "metadata": {},
     "output_type": "execute_result"
    }
   ],
   "source": [
    "types_stat = []\n",
    "for x in wfu_dataset['test']['phi']:\n",
    "    types_stat += x['types']\n",
    "Counter(types_stat)"
   ]
  },
  {
   "cell_type": "markdown",
   "metadata": {},
   "source": [
    "### 2. check the tokenized version"
   ]
  },
  {
   "cell_type": "code",
   "execution_count": 13,
   "metadata": {},
   "outputs": [],
   "source": [
    "from transformers import AutoTokenizer\n",
    "from utils import PreProcess, compute_metrics\n",
    "\n",
    "tokenizer = AutoTokenizer.from_pretrained(\"microsoft/BiomedNLP-BiomedBERT-base-uncased-abstract-fulltext\")"
   ]
  },
  {
   "cell_type": "code",
   "execution_count": 14,
   "metadata": {},
   "outputs": [
    {
     "name": "stdout",
     "output_type": "stream",
     "text": [
      "\n",
      "\n",
      "ACCESSION NUMBER:  S15-20324\n",
      "RECEIVED: 8/17/2015\n"
     ]
    },
    {
     "data": {
      "text/plain": [
       "{'input_ids': [[2, 9989, 2529, 30, 4062, 1015, 17, 16725, 4561, 3], [2, 16725, 4561, 4004, 30, 28, 19, 2752, 19, 3], [2, 2752, 19, 4299, 3]], 'token_type_ids': [[0, 0, 0, 0, 0, 0, 0, 0, 0, 0], [0, 0, 0, 0, 0, 0, 0, 0, 0, 0], [0, 0, 0, 0, 0]], 'attention_mask': [[1, 1, 1, 1, 1, 1, 1, 1, 1, 1], [1, 1, 1, 1, 1, 1, 1, 1, 1, 1], [1, 1, 1, 1, 1]], 'overflow_to_sample_mapping': [0, 0, 0]}"
      ]
     },
     "execution_count": 14,
     "metadata": {},
     "output_type": "execute_result"
    }
   ],
   "source": [
    "print(example['text'][:50])\n",
    "tmp = tokenizer(example['text'][:50], max_length=10, truncation=True, return_overflowing_tokens=True, stride=2)\n",
    "tmp"
   ]
  },
  {
   "cell_type": "code",
   "execution_count": 15,
   "metadata": {},
   "outputs": [
    {
     "data": {
      "text/plain": [
       "transformers.tokenization_utils_base.BatchEncoding"
      ]
     },
     "execution_count": 15,
     "metadata": {},
     "output_type": "execute_result"
    }
   ],
   "source": [
    "type(tmp)"
   ]
  },
  {
   "cell_type": "code",
   "execution_count": 16,
   "metadata": {},
   "outputs": [],
   "source": [
    "preprocess = PreProcess(tokenizer, wfu_dataset['train'].features['label'].str2int, max_length=128, stride=10)\n",
    "\n",
    "wfu_dataset_tokenized = wfu_dataset.map(preprocess, batched=True, batch_size=5,\n",
    "                                        remove_columns=wfu_dataset['train'].column_names)"
   ]
  },
  {
   "cell_type": "code",
   "execution_count": 17,
   "metadata": {},
   "outputs": [
    {
     "data": {
      "text/plain": [
       "'[CLS] care navigation - patient outreach type of communication : telephonic patient assessment since last encounter, patient reports the following updates : 2 / 14 @ 1525 hn called pt on home number - family answered the phone and states pt is not available to call her on her mobile number listed in the chart. hn called pt on mobile number - no answer and hn lmtcb. 3 / 5 pt repots she is doing okay. states her breathing is fine but she is & quot ; out of my pump inhaler & quot ;. she reports this is her & quot ; rescue inhaler & quot ;. [SEP]'"
      ]
     },
     "execution_count": 17,
     "metadata": {},
     "output_type": "execute_result"
    }
   ],
   "source": [
    "tokenizer.decode(wfu_dataset_tokenized['train'][0]['input_ids'])"
   ]
  },
  {
   "cell_type": "code",
   "execution_count": 18,
   "metadata": {},
   "outputs": [
    {
     "data": {
      "text/plain": [
       "dict_keys(['input_ids', 'token_type_ids', 'attention_mask', 'overflow_to_sample_mapping', 'labels'])"
      ]
     },
     "execution_count": 18,
     "metadata": {},
     "output_type": "execute_result"
    }
   ],
   "source": [
    "wfu_dataset_tokenized['train'][0].keys()"
   ]
  },
  {
   "cell_type": "code",
   "execution_count": 19,
   "metadata": {},
   "outputs": [
    {
     "name": "stdout",
     "output_type": "stream",
     "text": [
      "2 [CLS] -100\n",
      "2859 care 12\n",
      "17109 navigation 12\n",
      "17 - 12\n",
      "2774 patient 12\n",
      "23465 outreach 12\n",
      "2601 type 12\n",
      "1927 of 12\n",
      "6396 communication 12\n",
      "30 : 12\n",
      "10304 tele 12\n",
      "2102 ##ph 12\n",
      "3490 ##onic 12\n",
      "2774 patient 12\n",
      "4076 assessment 12\n",
      "3328 since 12\n",
      "4691 last 12\n",
      "14535 encounter 12\n",
      "16 , 12\n",
      "2774 patient 12\n",
      "4710 reports 12\n",
      "1920 the 12\n",
      "2894 following 12\n",
      "26404 updates 12\n",
      "30 : 12\n",
      "22 2 1\n",
      "19 / 1\n",
      "2607 14 1\n",
      "36 @ 12\n",
      "14039 152 1\n",
      "1015 ##5 1\n",
      "9888 hn 12\n",
      "6043 called 12\n",
      "4401 pt 12\n",
      "1990 on 12\n",
      "4502 home 12\n",
      "2529 number 12\n",
      "17 - 12\n",
      "3416 family 12\n",
      "16329 answered 12\n",
      "1920 the 12\n",
      "12647 phone 12\n",
      "1930 and 12\n",
      "4376 states 12\n",
      "4401 pt 12\n",
      "1977 is 12\n",
      "2084 not 12\n",
      "3322 available 12\n",
      "1942 to 12\n",
      "4567 call 12\n",
      "3656 her 12\n",
      "1990 on 12\n",
      "3656 her 12\n",
      "8785 mobile 12\n",
      "2529 number 12\n",
      "7663 listed 12\n",
      "1922 in 12\n",
      "1920 the 12\n",
      "12583 chart 12\n",
      "18 . 12\n",
      "9888 hn 12\n",
      "6043 called 12\n",
      "4401 pt 12\n",
      "1990 on 12\n",
      "8785 mobile 12\n",
      "2529 number 12\n",
      "17 - 12\n",
      "2239 no 12\n",
      "11192 answer 12\n",
      "1930 and 12\n",
      "9888 hn 12\n",
      "7735 lm 12\n",
      "6916 ##tc 12\n",
      "1014 ##b 12\n",
      "18 . 12\n",
      "23 3 1\n",
      "19 / 1\n",
      "25 5 1\n",
      "4401 pt 12\n",
      "3073 rep 12\n",
      "3882 ##ots 12\n",
      "4693 she 12\n",
      "1977 is 12\n",
      "12979 doing 12\n",
      "12167 ok 12\n",
      "2050 ##ay 12\n",
      "18 . 12\n",
      "4376 states 12\n",
      "3656 her 12\n",
      "11995 breathing 12\n",
      "1977 is 12\n",
      "8882 fine 12\n",
      "2308 but 12\n",
      "4693 she 12\n",
      "1977 is 12\n",
      "10 & 12\n",
      "2571 qu 12\n",
      "1991 ##ot 12\n",
      "31 ; 12\n",
      "2397 out 12\n",
      "1927 of 12\n",
      "3057 my 12\n",
      "8912 pump 12\n",
      "9927 inhal 12\n",
      "1915 ##er 12\n",
      "10 & 12\n",
      "2571 qu 12\n",
      "1991 ##ot 12\n",
      "31 ; 12\n",
      "18 . 12\n",
      "4693 she 12\n",
      "4710 reports 12\n",
      "2052 this 12\n",
      "1977 is 12\n",
      "3656 her 12\n",
      "10 & 12\n",
      "2571 qu 12\n",
      "1991 ##ot 12\n",
      "31 ; 12\n",
      "10162 rescue 12\n",
      "9927 inhal 12\n",
      "1915 ##er 12\n",
      "10 & 12\n",
      "2571 qu 12\n",
      "1991 ##ot 12\n",
      "31 ; 12\n",
      "18 . 12\n",
      "3 [SEP] -100\n"
     ]
    }
   ],
   "source": [
    "for x, y in zip(wfu_dataset_tokenized['train'][0]['input_ids'], wfu_dataset_tokenized['train'][0]['labels']):\n",
    "    print(x, tokenizer.decode(x), y)"
   ]
  },
  {
   "cell_type": "code",
   "execution_count": 30,
   "metadata": {},
   "outputs": [
    {
     "data": {
      "text/plain": [
       "Counter({12: 1326875,\n",
       "         1: 84507,\n",
       "         8: 44520,\n",
       "         3: 5742,\n",
       "         4: 5159,\n",
       "         7: 3763,\n",
       "         0: 1513,\n",
       "         10: 1046,\n",
       "         5: 245,\n",
       "         9: 110,\n",
       "         2: 97,\n",
       "         11: 29,\n",
       "         6: 3})"
      ]
     },
     "execution_count": 30,
     "metadata": {},
     "output_type": "execute_result"
    }
   ],
   "source": [
    "tokens_stat = []\n",
    "for x in wfu_dataset_tokenized['train']['labels']:\n",
    "    tokens_stat += [i for i in x if i != -100]\n",
    "Counter(tokens_stat)"
   ]
  },
  {
   "cell_type": "code",
   "execution_count": 21,
   "metadata": {},
   "outputs": [],
   "source": [
    "from sklearn.utils.class_weight import compute_class_weight"
   ]
  },
  {
   "cell_type": "code",
   "execution_count": 22,
   "metadata": {},
   "outputs": [
    {
     "data": {
      "text/plain": [
       "array([8.08184622e+00, 1.44696100e-01, 1.26060137e+02, 2.12954255e+00,\n",
       "       2.37019448e+00, 4.99095238e+01, 4.07594444e+03, 3.24949065e+00,\n",
       "       2.74659329e-01, 1.11162121e+02, 1.16900892e+01, 4.21649425e+02,\n",
       "       1.00000000e-04])"
      ]
     },
     "execution_count": 22,
     "metadata": {},
     "output_type": "execute_result"
    }
   ],
   "source": [
    "class_weights = compute_class_weight('balanced', classes=np.array(range(wfu_dataset['train'].features['label'].num_classes-1)) , y=tokens_stat)\n",
    "class_weights = class_weights.tolist()\n",
    "class_weights.append(1e-4)\n",
    "class_weights = np.array(class_weights)\n",
    "class_weights"
   ]
  },
  {
   "cell_type": "markdown",
   "metadata": {},
   "source": [
    "### 3. some initial training"
   ]
  },
  {
   "cell_type": "code",
   "execution_count": 23,
   "metadata": {},
   "outputs": [],
   "source": [
    "from transformers import DataCollatorForTokenClassification\n",
    "\n",
    "data_collator = DataCollatorForTokenClassification(tokenizer=tokenizer)"
   ]
  },
  {
   "cell_type": "code",
   "execution_count": 24,
   "metadata": {},
   "outputs": [
    {
     "name": "stderr",
     "output_type": "stream",
     "text": [
      "Some weights of BertForTokenClassification were not initialized from the model checkpoint at microsoft/BiomedNLP-BiomedBERT-base-uncased-abstract-fulltext and are newly initialized: ['classifier.bias', 'classifier.weight']\n",
      "You should probably TRAIN this model on a down-stream task to be able to use it for predictions and inference.\n"
     ]
    }
   ],
   "source": [
    "from transformers import AutoModelForTokenClassification, TrainingArguments, Trainer\n",
    "\n",
    "class_labels = wfu_dataset['train'].features['label'].names\n",
    "device = 'cuda:0'\n",
    "\n",
    "model = AutoModelForTokenClassification.from_pretrained(\n",
    "    \"microsoft/BiomedNLP-BiomedBERT-base-uncased-abstract-fulltext\",\n",
    "    num_labels=len(class_labels)).to(device)"
   ]
  },
  {
   "cell_type": "code",
   "execution_count": 25,
   "metadata": {},
   "outputs": [],
   "source": [
    "import sys\n",
    "# del sys.modules['mytrainer']\n",
    "from mytrainer import MyTrainer"
   ]
  },
  {
   "cell_type": "code",
   "execution_count": 26,
   "metadata": {},
   "outputs": [],
   "source": [
    "from datetime import datetime"
   ]
  },
  {
   "cell_type": "code",
   "execution_count": 27,
   "metadata": {},
   "outputs": [
    {
     "data": {
      "text/plain": [
       "'07_30_2024_17_50_39'"
      ]
     },
     "execution_count": 27,
     "metadata": {},
     "output_type": "execute_result"
    }
   ],
   "source": [
    "datetime.now().strftime(\"%m_%d_%Y_%H_%M_%S\")"
   ]
  },
  {
   "cell_type": "code",
   "execution_count": 28,
   "metadata": {},
   "outputs": [
    {
     "name": "stderr",
     "output_type": "stream",
     "text": [
      "The following columns in the training set don't have a corresponding argument in `BertForTokenClassification.forward` and have been ignored: overflow_to_sample_mapping. If overflow_to_sample_mapping are not expected by `BertForTokenClassification.forward`,  you can safely ignore this message.\n",
      "***** Running training *****\n",
      "  Num examples = 13,260\n",
      "  Num Epochs = 2\n",
      "  Instantaneous batch size per device = 16\n",
      "  Total train batch size (w. parallel, distributed & accumulation) = 16\n",
      "  Gradient Accumulation steps = 1\n",
      "  Total optimization steps = 1,658\n",
      "  Number of trainable parameters = 108,901,645\n",
      "  0%|          | 0/1658 [00:00<?, ?it/s]c:\\Users\\zhma\\Projects\\deid\\.venv\\Lib\\site-packages\\transformers\\models\\bert\\modeling_bert.py:435: UserWarning: 1Torch was not compiled with flash attention. (Triggered internally at ..\\aten\\src\\ATen\\native\\transformers\\cuda\\sdp_utils.cpp:455.)\n",
      "  attn_output = torch.nn.functional.scaled_dot_product_attention(\n",
      "  3%|▎         | 50/1658 [00:24<12:22,  2.17it/s]"
     ]
    },
    {
     "name": "stdout",
     "output_type": "stream",
     "text": [
      "inside log: {'loss': 1.6654, 'grad_norm': 28.366779327392578, 'learning_rate': 1.9396863691194212e-05} 50\n",
      "{'loss': 1.6654, 'grad_norm': 28.366779327392578, 'learning_rate': 1.9396863691194212e-05, 'epoch': 0.06}\n"
     ]
    },
    {
     "name": "stderr",
     "output_type": "stream",
     "text": [
      "  6%|▌         | 100/1658 [00:47<12:00,  2.16it/s]"
     ]
    },
    {
     "name": "stdout",
     "output_type": "stream",
     "text": [
      "inside log: {'loss': 0.6261, 'grad_norm': 0.7614365816116333, 'learning_rate': 1.879372738238842e-05} 100\n",
      "{'loss': 0.6261, 'grad_norm': 0.7614365816116333, 'learning_rate': 1.879372738238842e-05, 'epoch': 0.12}\n"
     ]
    },
    {
     "name": "stderr",
     "output_type": "stream",
     "text": [
      "  9%|▉         | 150/1658 [01:10<11:40,  2.15it/s]"
     ]
    },
    {
     "name": "stdout",
     "output_type": "stream",
     "text": [
      "inside log: {'loss': 0.5824, 'grad_norm': 3.824090003967285, 'learning_rate': 1.819059107358263e-05} 150\n",
      "{'loss': 0.5824, 'grad_norm': 3.824090003967285, 'learning_rate': 1.819059107358263e-05, 'epoch': 0.18}\n"
     ]
    },
    {
     "name": "stderr",
     "output_type": "stream",
     "text": [
      " 12%|█▏        | 200/1658 [01:33<11:12,  2.17it/s]The following columns in the evaluation set don't have a corresponding argument in `BertForTokenClassification.forward` and have been ignored: overflow_to_sample_mapping. If overflow_to_sample_mapping are not expected by `BertForTokenClassification.forward`,  you can safely ignore this message.\n",
      "***** Running Evaluation *****\n",
      "  Num examples = 3279\n",
      "  Batch size = 16\n"
     ]
    },
    {
     "name": "stdout",
     "output_type": "stream",
     "text": [
      "inside log: {'loss': 0.5639, 'grad_norm': 0.7461574077606201, 'learning_rate': 1.758745476477684e-05} 200\n",
      "{'loss': 0.5639, 'grad_norm': 0.7461574077606201, 'learning_rate': 1.758745476477684e-05, 'epoch': 0.24}\n"
     ]
    },
    {
     "name": "stderr",
     "output_type": "stream",
     "text": []
    },
    {
     "name": "stdout",
     "output_type": "stream",
     "text": [
      "<class 'numpy.ndarray'>\n"
     ]
    },
    {
     "name": "stderr",
     "output_type": "stream",
     "text": [
      "c:\\Users\\zhma\\Projects\\deid\\.venv\\Lib\\site-packages\\sklearn\\metrics\\_classification.py:1517: UndefinedMetricWarning: F-score is ill-defined and being set to 0.0 in labels with no true nor predicted samples. Use `zero_division` parameter to control this behavior.\n",
      "  _warn_prf(average, modifier, f\"{metric.capitalize()} is\", len(result))\n",
      "                                                  \n",
      " 12%|█▏        | 200/1658 [02:03<11:12,  2.17it/s]"
     ]
    },
    {
     "name": "stdout",
     "output_type": "stream",
     "text": [
      "inside log: {'eval_loss': 0.5026214122772217, 'eval_f1': 0.1477926675303802, 'eval_report': '              precision    recall  f1-score   support\\n\\n         AGE      0.003     0.995     0.007       390\\n        DATE      0.387     0.997     0.558     19018\\n       EMAIL      0.000     0.000     0.000        32\\n    HOSPITAL      0.009     0.955     0.019      1066\\n       IDNUM      0.094     0.995     0.171      1529\\n    INITIALS      0.065     0.675     0.119        83\\n   IPADDRESS      0.000     0.000     0.000         0\\n    LOCATION      0.747     0.627     0.682      1266\\n        NAME      0.198     0.993     0.330     11005\\n       OTHER      0.000     0.000     0.000        23\\n       PHONE      0.009     0.924     0.017       158\\n         URL      0.000     0.000     0.000         6\\n      NORMAL      1.000     0.009     0.018    328966\\n\\n    accuracy                          0.101    363542\\n   macro avg      0.193     0.552     0.148    363542\\nweighted avg      0.934     0.101     0.059    363542\\n', 'eval_runtime': 29.4842, 'eval_samples_per_second': 111.212, 'eval_steps_per_second': 6.953} 200\n",
      "{'eval_loss': 0.5026214122772217, 'eval_f1': 0.1477926675303802, 'eval_report': '              precision    recall  f1-score   support\\n\\n         AGE      0.003     0.995     0.007       390\\n        DATE      0.387     0.997     0.558     19018\\n       EMAIL      0.000     0.000     0.000        32\\n    HOSPITAL      0.009     0.955     0.019      1066\\n       IDNUM      0.094     0.995     0.171      1529\\n    INITIALS      0.065     0.675     0.119        83\\n   IPADDRESS      0.000     0.000     0.000         0\\n    LOCATION      0.747     0.627     0.682      1266\\n        NAME      0.198     0.993     0.330     11005\\n       OTHER      0.000     0.000     0.000        23\\n       PHONE      0.009     0.924     0.017       158\\n         URL      0.000     0.000     0.000         6\\n      NORMAL      1.000     0.009     0.018    328966\\n\\n    accuracy                          0.101    363542\\n   macro avg      0.193     0.552     0.148    363542\\nweighted avg      0.934     0.101     0.059    363542\\n', 'eval_runtime': 29.4842, 'eval_samples_per_second': 111.212, 'eval_steps_per_second': 6.953, 'epoch': 0.24}\n"
     ]
    },
    {
     "name": "stderr",
     "output_type": "stream",
     "text": [
      " 15%|█▌        | 250/1658 [02:26<10:49,  2.17it/s]  "
     ]
    },
    {
     "name": "stdout",
     "output_type": "stream",
     "text": [
      "inside log: {'loss': 0.4854, 'grad_norm': 0.13080379366874695, 'learning_rate': 1.698431845597105e-05} 250\n",
      "{'loss': 0.4854, 'grad_norm': 0.13080379366874695, 'learning_rate': 1.698431845597105e-05, 'epoch': 0.3}\n"
     ]
    },
    {
     "name": "stderr",
     "output_type": "stream",
     "text": [
      " 18%|█▊        | 300/1658 [02:49<10:31,  2.15it/s]"
     ]
    },
    {
     "name": "stdout",
     "output_type": "stream",
     "text": [
      "inside log: {'loss': 0.5352, 'grad_norm': 2.6872591972351074, 'learning_rate': 1.638118214716526e-05} 300\n",
      "{'loss': 0.5352, 'grad_norm': 2.6872591972351074, 'learning_rate': 1.638118214716526e-05, 'epoch': 0.36}\n"
     ]
    },
    {
     "name": "stderr",
     "output_type": "stream",
     "text": [
      " 19%|█▊        | 308/1658 [02:53<10:25,  2.16it/s]"
     ]
    },
    {
     "ename": "KeyboardInterrupt",
     "evalue": "",
     "output_type": "error",
     "traceback": [
      "\u001b[1;31m---------------------------------------------------------------------------\u001b[0m",
      "\u001b[1;31mKeyboardInterrupt\u001b[0m                         Traceback (most recent call last)",
      "Cell \u001b[1;32mIn[28], line 40\u001b[0m\n\u001b[0;32m     18\u001b[0m \u001b[38;5;66;03m# trainer = Trainer(\u001b[39;00m\n\u001b[0;32m     19\u001b[0m \u001b[38;5;66;03m#     model=model,\u001b[39;00m\n\u001b[0;32m     20\u001b[0m \u001b[38;5;66;03m#     args=training_args,\u001b[39;00m\n\u001b[1;32m   (...)\u001b[0m\n\u001b[0;32m     25\u001b[0m \u001b[38;5;66;03m#     compute_metrics=compute_metrics\u001b[39;00m\n\u001b[0;32m     26\u001b[0m \u001b[38;5;66;03m# )\u001b[39;00m\n\u001b[0;32m     28\u001b[0m trainer \u001b[38;5;241m=\u001b[39m MyTrainer(\n\u001b[0;32m     29\u001b[0m     class_weights \u001b[38;5;241m=\u001b[39m class_weights\u001b[38;5;241m.\u001b[39mastype(np\u001b[38;5;241m.\u001b[39mfloat32),\n\u001b[0;32m     30\u001b[0m     log_file \u001b[38;5;241m=\u001b[39m \u001b[38;5;124mf\u001b[39m\u001b[38;5;124m'\u001b[39m\u001b[38;5;124mlogs_\u001b[39m\u001b[38;5;132;01m{\u001b[39;00mdatetime\u001b[38;5;241m.\u001b[39mnow()\u001b[38;5;241m.\u001b[39mstrftime(\u001b[38;5;124m\"\u001b[39m\u001b[38;5;124m%\u001b[39m\u001b[38;5;124mm_\u001b[39m\u001b[38;5;132;01m%d\u001b[39;00m\u001b[38;5;124m_\u001b[39m\u001b[38;5;124m%\u001b[39m\u001b[38;5;124mY_\u001b[39m\u001b[38;5;124m%\u001b[39m\u001b[38;5;124mH_\u001b[39m\u001b[38;5;124m%\u001b[39m\u001b[38;5;124mM_\u001b[39m\u001b[38;5;124m%\u001b[39m\u001b[38;5;124mS\u001b[39m\u001b[38;5;124m\"\u001b[39m)\u001b[38;5;132;01m}\u001b[39;00m\u001b[38;5;124m.txt\u001b[39m\u001b[38;5;124m'\u001b[39m,\n\u001b[1;32m   (...)\u001b[0m\n\u001b[0;32m     37\u001b[0m     compute_metrics\u001b[38;5;241m=\u001b[39mcompute_metrics\n\u001b[0;32m     38\u001b[0m )\n\u001b[1;32m---> 40\u001b[0m \u001b[43mtrainer\u001b[49m\u001b[38;5;241;43m.\u001b[39;49m\u001b[43mtrain\u001b[49m\u001b[43m(\u001b[49m\u001b[43m)\u001b[49m\n",
      "File \u001b[1;32mc:\\Users\\zhma\\Projects\\deid\\.venv\\Lib\\site-packages\\transformers\\trainer.py:1885\u001b[0m, in \u001b[0;36mTrainer.train\u001b[1;34m(self, resume_from_checkpoint, trial, ignore_keys_for_eval, **kwargs)\u001b[0m\n\u001b[0;32m   1883\u001b[0m         hf_hub_utils\u001b[38;5;241m.\u001b[39menable_progress_bars()\n\u001b[0;32m   1884\u001b[0m \u001b[38;5;28;01melse\u001b[39;00m:\n\u001b[1;32m-> 1885\u001b[0m     \u001b[38;5;28;01mreturn\u001b[39;00m \u001b[43minner_training_loop\u001b[49m\u001b[43m(\u001b[49m\n\u001b[0;32m   1886\u001b[0m \u001b[43m        \u001b[49m\u001b[43margs\u001b[49m\u001b[38;5;241;43m=\u001b[39;49m\u001b[43margs\u001b[49m\u001b[43m,\u001b[49m\n\u001b[0;32m   1887\u001b[0m \u001b[43m        \u001b[49m\u001b[43mresume_from_checkpoint\u001b[49m\u001b[38;5;241;43m=\u001b[39;49m\u001b[43mresume_from_checkpoint\u001b[49m\u001b[43m,\u001b[49m\n\u001b[0;32m   1888\u001b[0m \u001b[43m        \u001b[49m\u001b[43mtrial\u001b[49m\u001b[38;5;241;43m=\u001b[39;49m\u001b[43mtrial\u001b[49m\u001b[43m,\u001b[49m\n\u001b[0;32m   1889\u001b[0m \u001b[43m        \u001b[49m\u001b[43mignore_keys_for_eval\u001b[49m\u001b[38;5;241;43m=\u001b[39;49m\u001b[43mignore_keys_for_eval\u001b[49m\u001b[43m,\u001b[49m\n\u001b[0;32m   1890\u001b[0m \u001b[43m    \u001b[49m\u001b[43m)\u001b[49m\n",
      "File \u001b[1;32mc:\\Users\\zhma\\Projects\\deid\\.venv\\Lib\\site-packages\\transformers\\trainer.py:2221\u001b[0m, in \u001b[0;36mTrainer._inner_training_loop\u001b[1;34m(self, batch_size, args, resume_from_checkpoint, trial, ignore_keys_for_eval)\u001b[0m\n\u001b[0;32m   2215\u001b[0m \u001b[38;5;28;01mwith\u001b[39;00m \u001b[38;5;28mself\u001b[39m\u001b[38;5;241m.\u001b[39maccelerator\u001b[38;5;241m.\u001b[39maccumulate(model):\n\u001b[0;32m   2216\u001b[0m     tr_loss_step \u001b[38;5;241m=\u001b[39m \u001b[38;5;28mself\u001b[39m\u001b[38;5;241m.\u001b[39mtraining_step(model, inputs)\n\u001b[0;32m   2218\u001b[0m \u001b[38;5;28;01mif\u001b[39;00m (\n\u001b[0;32m   2219\u001b[0m     args\u001b[38;5;241m.\u001b[39mlogging_nan_inf_filter\n\u001b[0;32m   2220\u001b[0m     \u001b[38;5;129;01mand\u001b[39;00m \u001b[38;5;129;01mnot\u001b[39;00m is_torch_xla_available()\n\u001b[1;32m-> 2221\u001b[0m     \u001b[38;5;129;01mand\u001b[39;00m (torch\u001b[38;5;241m.\u001b[39misnan(tr_loss_step) \u001b[38;5;129;01mor\u001b[39;00m \u001b[43mtorch\u001b[49m\u001b[38;5;241;43m.\u001b[39;49m\u001b[43misinf\u001b[49m\u001b[43m(\u001b[49m\u001b[43mtr_loss_step\u001b[49m\u001b[43m)\u001b[49m)\n\u001b[0;32m   2222\u001b[0m ):\n\u001b[0;32m   2223\u001b[0m     \u001b[38;5;66;03m# if loss is nan or inf simply add the average of previous logged losses\u001b[39;00m\n\u001b[0;32m   2224\u001b[0m     tr_loss \u001b[38;5;241m+\u001b[39m\u001b[38;5;241m=\u001b[39m tr_loss \u001b[38;5;241m/\u001b[39m (\u001b[38;5;241m1\u001b[39m \u001b[38;5;241m+\u001b[39m \u001b[38;5;28mself\u001b[39m\u001b[38;5;241m.\u001b[39mstate\u001b[38;5;241m.\u001b[39mglobal_step \u001b[38;5;241m-\u001b[39m \u001b[38;5;28mself\u001b[39m\u001b[38;5;241m.\u001b[39m_globalstep_last_logged)\n\u001b[0;32m   2225\u001b[0m \u001b[38;5;28;01melse\u001b[39;00m:\n",
      "\u001b[1;31mKeyboardInterrupt\u001b[0m: "
     ]
    }
   ],
   "source": [
    "training_args = TrainingArguments(\n",
    "    output_dir=\"testing_model\",\n",
    "    learning_rate=2e-5,\n",
    "    per_device_train_batch_size=16,\n",
    "    per_device_eval_batch_size=16,\n",
    "    num_train_epochs=2,\n",
    "    weight_decay=0.01,\n",
    "    eval_strategy=\"steps\",\n",
    "    eval_steps=200,\n",
    "    save_strategy=\"epoch\",\n",
    "    # load_best_model_at_end=True,\n",
    "    push_to_hub=False,\n",
    "    logging_dir='huggingface_logs',\n",
    "    log_level='info',\n",
    "    logging_steps=50\n",
    ")\n",
    "\n",
    "# trainer = Trainer(\n",
    "#     model=model,\n",
    "#     args=training_args,\n",
    "#     train_dataset=wfu_dataset_tokenized[\"train\"],\n",
    "#     eval_dataset=wfu_dataset_tokenized[\"test\"],\n",
    "#     tokenizer=tokenizer,\n",
    "#     data_collator=data_collator,\n",
    "#     compute_metrics=compute_metrics\n",
    "# )\n",
    "\n",
    "trainer = MyTrainer(\n",
    "    class_weights = class_weights.astype(np.float32),\n",
    "    log_file = f'logs_{datetime.now().strftime(\"%m_%d_%Y_%H_%M_%S\")}.txt',\n",
    "    model=model,\n",
    "    args=training_args,\n",
    "    train_dataset=wfu_dataset_tokenized[\"train\"],\n",
    "    eval_dataset=wfu_dataset_tokenized[\"test\"],\n",
    "    tokenizer=tokenizer,\n",
    "    data_collator=data_collator,\n",
    "    compute_metrics=compute_metrics\n",
    ")\n",
    "\n",
    "trainer.train()"
   ]
  },
  {
   "cell_type": "code",
   "execution_count": null,
   "metadata": {},
   "outputs": [],
   "source": [
    "from matplotlib import pyplot as plt"
   ]
  },
  {
   "cell_type": "code",
   "execution_count": null,
   "metadata": {},
   "outputs": [],
   "source": [
    "xx = [390, 19018, 32, 1066, 1529, 83, 1266, 11005, 158]\n",
    "yy = [0.907, 0.994, 0.270, 0.879, 0.984, 0.839, 0.920, 0.987, 0.936]\n",
    "plt.plot(xx, yy, 'o')"
   ]
  }
 ],
 "metadata": {
  "kernelspec": {
   "display_name": "Python 3",
   "language": "python",
   "name": "python3"
  },
  "language_info": {
   "codemirror_mode": {
    "name": "ipython",
    "version": 3
   },
   "file_extension": ".py",
   "mimetype": "text/x-python",
   "name": "python",
   "nbconvert_exporter": "python",
   "pygments_lexer": "ipython3",
   "version": "3.12.3"
  }
 },
 "nbformat": 4,
 "nbformat_minor": 2
}
