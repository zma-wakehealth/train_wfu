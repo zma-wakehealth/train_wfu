{
 "cells": [
  {
   "cell_type": "code",
   "execution_count": 1,
   "id": "317a71c5-42a6-4b73-ab91-ca5ece62a3a1",
   "metadata": {},
   "outputs": [],
   "source": [
    "# lxml has cdata type\n",
    "from lxml import etree"
   ]
  },
  {
   "cell_type": "code",
   "execution_count": 2,
   "id": "bf32d3d4-8010-43c6-b97f-44898b416409",
   "metadata": {},
   "outputs": [],
   "source": [
    "root = etree.Element('wfu')\n",
    "text = etree.SubElement(root, 'TEXT')\n",
    "text.text = 'i am here'\n",
    "tags = etree.SubElement(root, 'TAGS')"
   ]
  },
  {
   "cell_type": "code",
   "execution_count": 3,
   "id": "486f2752-1617-47cc-a816-22f6b032dcd6",
   "metadata": {},
   "outputs": [],
   "source": [
    "def prettyprint(element, **kwargs):\n",
    "    xml = etree.tostring(element, pretty_print=True, **kwargs)\n",
    "    print(xml.decode(), end='')"
   ]
  },
  {
   "cell_type": "code",
   "execution_count": 4,
   "id": "f8f92c8b-456a-4305-b58e-f6d336c8a1e7",
   "metadata": {},
   "outputs": [
    {
     "name": "stdout",
     "output_type": "stream",
     "text": [
      "<wfu>\n",
      "  <TEXT>i am here</TEXT>\n",
      "  <TAGS/>\n",
      "</wfu>\n"
     ]
    }
   ],
   "source": [
    "prettyprint(root)"
   ]
  },
  {
   "cell_type": "code",
   "execution_count": 5,
   "id": "726d2fe3-08e9-46b8-a95c-3266bca525ca",
   "metadata": {},
   "outputs": [],
   "source": [
    "text.text = etree.CDATA('i am here')"
   ]
  },
  {
   "cell_type": "code",
   "execution_count": 6,
   "id": "5760815b-9ab1-4733-89c3-a3d527938025",
   "metadata": {},
   "outputs": [
    {
     "name": "stdout",
     "output_type": "stream",
     "text": [
      "<wfu>\n",
      "  <TEXT><![CDATA[i am here]]></TEXT>\n",
      "  <TAGS/>\n",
      "</wfu>\n"
     ]
    }
   ],
   "source": [
    "prettyprint(root)"
   ]
  },
  {
   "cell_type": "code",
   "execution_count": 7,
   "id": "d0345476-18a9-46df-8d8e-b34c5cb4caf8",
   "metadata": {},
   "outputs": [],
   "source": [
    "import pandas as pd\n",
    "import json"
   ]
  },
  {
   "cell_type": "code",
   "execution_count": 8,
   "id": "df3ba1d7-1d4d-4105-818e-91185796621a",
   "metadata": {},
   "outputs": [],
   "source": [
    "dat = pd.read_csv('wfudata/wfu_annotated.csv')"
   ]
  },
  {
   "cell_type": "code",
   "execution_count": 9,
   "id": "facc0fec-ceca-457e-8f3d-be5e3328fa7e",
   "metadata": {},
   "outputs": [],
   "source": [
    "types_set = set()\n",
    "\n",
    "for record in dat['JSON_DATA']:\n",
    "    record = json.loads(record)\n",
    "    types = [x['type'] for x in record['asets']]\n",
    "    types_set = types_set.union(set(types))"
   ]
  },
  {
   "cell_type": "code",
   "execution_count": 10,
   "id": "8945ca85-57f4-4756-a551-023442464fcf",
   "metadata": {},
   "outputs": [
    {
     "data": {
      "text/plain": [
       "{'AGE',\n",
       " 'DATE',\n",
       " 'EMAIL',\n",
       " 'HOSPITAL',\n",
       " 'IDNUM',\n",
       " 'INITIALS',\n",
       " 'IPADDRESS',\n",
       " 'LOCATION',\n",
       " 'NAME',\n",
       " 'OTHER',\n",
       " 'PHONE',\n",
       " 'SEGMENT',\n",
       " 'URL',\n",
       " 'lex',\n",
       " 'zone'}"
      ]
     },
     "execution_count": 10,
     "metadata": {},
     "output_type": "execute_result"
    }
   ],
   "source": [
    "types_set"
   ]
  },
  {
   "cell_type": "code",
   "execution_count": 11,
   "id": "667c99a1-dded-492f-9821-4095eefa842d",
   "metadata": {},
   "outputs": [],
   "source": [
    "types_to_include = set([\n",
    " 'AGE',\n",
    " 'DATE',\n",
    " 'EMAIL',\n",
    " 'HOSPITAL',\n",
    " 'IDNUM',\n",
    " 'INITIALS',\n",
    " 'IPADDRESS',\n",
    " 'LOCATION',\n",
    " 'NAME',\n",
    " 'OTHER',\n",
    " 'PHONE',\n",
    " 'URL',\n",
    "])"
   ]
  },
  {
   "cell_type": "code",
   "execution_count": 12,
   "id": "c92c39ac-3e35-4433-983d-6210495e6fb0",
   "metadata": {},
   "outputs": [],
   "source": [
    "def prepare_tag(id, start, end, text, etype):\n",
    "    element = etree.Element(etype, id='P'+str(id), start=str(start), end=str(end), text=text, TYPE=etype, comment='')\n",
    "    return element"
   ]
  },
  {
   "cell_type": "code",
   "execution_count": 13,
   "id": "ee7780b8-e804-44e5-bc29-fcc81db055bb",
   "metadata": {},
   "outputs": [
    {
     "data": {
      "text/plain": [
       "b'<DATE id=\"P0\" start=\"0\" end=\"15\" text=\"abc\" TYPE=\"DATE\" comment=\"\"/>\\n'"
      ]
     },
     "execution_count": 13,
     "metadata": {},
     "output_type": "execute_result"
    }
   ],
   "source": [
    "ele = prepare_tag(0, 0, 15, 'abc', 'DATE')\n",
    "etree.tostring(ele, pretty_print=True)"
   ]
  },
  {
   "cell_type": "code",
   "execution_count": 14,
   "id": "5049ff98-e8ea-4054-8ab2-e76d4c8c11d0",
   "metadata": {},
   "outputs": [
    {
     "data": {
      "text/plain": [
       "'0'"
      ]
     },
     "execution_count": 14,
     "metadata": {},
     "output_type": "execute_result"
    }
   ],
   "source": [
    "ele.attrib['start']"
   ]
  },
  {
   "cell_type": "code",
   "execution_count": 15,
   "id": "bc571d8d-2522-465d-9cbf-fa296fb4838b",
   "metadata": {},
   "outputs": [],
   "source": [
    "record = json.loads(dat['JSON_DATA'][0])"
   ]
  },
  {
   "cell_type": "code",
   "execution_count": 16,
   "id": "aaca7aef-7f82-431b-a711-cdef597a4cc0",
   "metadata": {},
   "outputs": [
    {
     "data": {
      "text/plain": [
       "(':  S12-24679\\nRECE', 'N , MD10/24/2012\\n14:19:16**')"
      ]
     },
     "execution_count": 16,
     "metadata": {},
     "output_type": "execute_result"
    }
   ],
   "source": [
    "record['signal'][18:35], record['signal'][913:940]"
   ]
  },
  {
   "cell_type": "code",
   "execution_count": 17,
   "id": "a4e35821-fdb9-48b5-a0bd-27d459a1b705",
   "metadata": {},
   "outputs": [],
   "source": [
    "elements = []\n",
    "\n",
    "for x in record['asets']:\n",
    "    if x['type'] in types_to_include:\n",
    "        for annot in x['annots']:\n",
    "            start = annot[0]\n",
    "            end = annot[1]\n",
    "            elements.append(prepare_tag(len(elements), start, end, record['signal'][start:end], x['type']))\n",
    "\n",
    "for x in sorted(elements, key=lambda x: x.attrib['start']):\n",
    "    tags.append(x)"
   ]
  },
  {
   "cell_type": "code",
   "execution_count": 18,
   "id": "048dcafd-8aa2-4c32-9b9a-071026bf113a",
   "metadata": {},
   "outputs": [
    {
     "name": "stdout",
     "output_type": "stream",
     "text": [
      "<wfu>\n",
      "  <TEXT><![CDATA[i am here]]></TEXT>\n",
      "  <TAGS>\n",
      "    <NAME id=\"P6\" start=\"112\" end=\"126\" text=\"MILLER, WARD M\" TYPE=\"NAME\" comment=\"\"/>\n",
      "    <NAME id=\"P8\" start=\"1181\" end=\"1196\" text=\"Dr. Sirintrapun\" TYPE=\"NAME\" comment=\"\"/>\n",
      "    <DATE id=\"P4\" start=\"1200\" end=\"1228\" text=\"October 19, 2012 at 12:25 PM\" TYPE=\"DATE\" comment=\"\"/>\n",
      "    <NAME id=\"P9\" start=\"1302\" end=\"1325\" text=\"SAHUSSAPONT SIRINTRAPUN\" TYPE=\"NAME\" comment=\"\"/>\n",
      "    <NAME id=\"P10\" start=\"1776\" end=\"1789\" text=\"Sharon N Sims\" TYPE=\"NAME\" comment=\"\"/>\n",
      "    <IDNUM id=\"P0\" start=\"21\" end=\"30\" text=\"S12-24679\" TYPE=\"IDNUM\" comment=\"\"/>\n",
      "    <DATE id=\"P2\" start=\"41\" end=\"51\" text=\"10/19/2012\" TYPE=\"DATE\" comment=\"\"/>\n",
      "    <IDNUM id=\"P1\" start=\"681\" end=\"690\" text=\"P12-16687\" TYPE=\"IDNUM\" comment=\"\"/>\n",
      "    <NAME id=\"P5\" start=\"73\" end=\"91\" text=\"ADRIAN LUCIAN LATA\" TYPE=\"NAME\" comment=\"\"/>\n",
      "    <NAME id=\"P7\" start=\"901\" end=\"914\" text=\"SIMON BERGMAN\" TYPE=\"NAME\" comment=\"\"/>\n",
      "    <DATE id=\"P3\" start=\"917\" end=\"938\" text=\"MD10/24/2012&#10;14:19:16\" TYPE=\"DATE\" comment=\"\"/>\n",
      "  </TAGS>\n",
      "</wfu>\n"
     ]
    }
   ],
   "source": [
    "prettyprint(root)"
   ]
  }
 ],
 "metadata": {
  "kernelspec": {
   "display_name": "Python 3 (ipykernel)",
   "language": "python",
   "name": "python3"
  },
  "language_info": {
   "codemirror_mode": {
    "name": "ipython",
    "version": 3
   },
   "file_extension": ".py",
   "mimetype": "text/x-python",
   "name": "python",
   "nbconvert_exporter": "python",
   "pygments_lexer": "ipython3",
   "version": "3.12.3"
  }
 },
 "nbformat": 4,
 "nbformat_minor": 5
}
